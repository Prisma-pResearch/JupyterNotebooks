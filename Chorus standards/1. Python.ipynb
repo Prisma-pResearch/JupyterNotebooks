{
 "cells": [
  {
   "cell_type": "markdown",
   "id": "25babeac",
   "metadata": {},
   "source": [
    "# Introduction to Python\n",
    "In this module, you will learn the basics of the Python programming language. This material is adapted from the University of Florida [Practicum AI](https://practicumai.org)."
   ]
  },
  {
   "cell_type": "markdown",
   "id": "1134ab8f",
   "metadata": {},
   "source": [
    "# 1. Getting Started"
   ]
  },
  {
   "cell_type": "markdown",
   "id": "36ab2293",
   "metadata": {},
   "source": [
    "## 1.1 Variables"
   ]
  },
  {
   "cell_type": "markdown",
   "id": "41045501",
   "metadata": {},
   "source": [
    "* Variables are names for values.  Or, more precisely, they are named memory locations.\n",
    "* In Python the `=` symbol assigns the value on the right to the name on the left.\n",
    "* The variable is created when a value is assigned to it.\n",
    "​\n",
    "Here, Python assigns an integer (whole number) to the variable `age` and a string (text) to the variable `first_name`."
   ]
  },
  {
   "cell_type": "code",
   "execution_count": null,
   "id": "1baffa9d",
   "metadata": {},
   "outputs": [],
   "source": [
    "age = 42\n",
    "first_name = 'Ahmed'"
   ]
  },
  {
   "cell_type": "markdown",
   "id": "dab0eaf0",
   "metadata": {},
   "source": [
    "We will return to naming variables later in this notebook, but for now remember that variable names:\n",
    "\n",
    "* can contain **only** letters, digits and underscores (\"`_`\")\n",
    "* cannot start with a digit\n",
    "* Should be meaningful, describing the data that they hold"
   ]
  },
  {
   "cell_type": "markdown",
   "id": "cf40adb4",
   "metadata": {},
   "source": [
    "## 1.2 Use `print` to display text and variable values\n",
    "\n",
    "* Python has a built-in function called `print` that prints information to the screen.\n",
    "* Call the function (i.e., tell Python to run it) by using its name.\n",
    "* Provide ***arguments***, or values, to the function (i.e., the things to print) in parentheses.\n",
    "* To add a string to the printout, wrap the string in single or double quotes."
   ]
  },
  {
   "cell_type": "code",
   "execution_count": null,
   "id": "15d7d43e",
   "metadata": {},
   "outputs": [],
   "source": [
    "print('Hello world!')"
   ]
  },
  {
   "cell_type": "code",
   "execution_count": null,
   "id": "8befda9e",
   "metadata": {},
   "outputs": [],
   "source": [
    "print(first_name, 'is', age, 'years old')"
   ]
  },
  {
   "cell_type": "code",
   "execution_count": null,
   "id": "b091575d",
   "metadata": {},
   "outputs": [],
   "source": [
    "# Jupyter notebooks do not require print if you just want the\n",
    "# the last item in the code block, you can just type the variable name.\n",
    "first_name"
   ]
  },
  {
   "cell_type": "markdown",
   "id": "9b42da32",
   "metadata": {},
   "source": [
    "* `print` automatically puts a single space between items to separate them.\n",
    "* `print` also adds a new line character by default (wraps around to a new line at the end)."
   ]
  },
  {
   "cell_type": "markdown",
   "id": "1d3ccfb3",
   "metadata": {},
   "source": [
    "## 1.3 Variables must be created before they are used.\n",
    "\n",
    "* If a variable doesn't exist yet, or the variable name has been mis-spelled, Python reports an error.\n",
    "    * Unlike some languages, which \"guess\" a default value."
   ]
  },
  {
   "cell_type": "code",
   "execution_count": null,
   "id": "a944d837",
   "metadata": {},
   "outputs": [],
   "source": [
    "print(last_name)"
   ]
  },
  {
   "cell_type": "markdown",
   "id": "c4f3cd36",
   "metadata": {},
   "source": [
    "<div style=\"padding: 10px;margin-bottom: 20px;border: thin solid #30335D;border-left-width: 10px;background-color: #fff\">\n",
    "<p><strong>Note:</strong> We expect an error above!</p>\n",
    "You will undoubtedly make mistakes! You will see lots of error messages! Don't worry! We all get them. The trick is to try and figure out how to fix them when we get an error. We will look at error messages in more detail later, but one helpful practice is to look at the last line of the error--sometimes that requires scrolling through a lot of red! \n",
    "</div>\n",
    "\n",
    "In this case, the last ling of the error message is:\n",
    "```python\n",
    "NameError: name 'last_name' is not defined\n",
    "```\n",
    "So, we see we have a `NameError` and the explanation is that `last_name` is not defined. Hopefully that reminds us that we haven't created a last_name variable."
   ]
  },
  {
   "cell_type": "markdown",
   "id": "c8bdaf35",
   "metadata": {},
   "source": [
    "### 1.3.1 Variables Persist Between Cells\n",
    "Be aware that it is the **order of execution** of cells that is important in a Jupyter Notebook, not the order in which they appear. Python will remember **all** the code that was run previously, including any variables you have defined, irrespective of the order in the notebook. Therefore if you define variables lower down the notebook and then (re)run cells further up, those defined further down will still be present. As an example, create 2 cells with the following content, in this order:"
   ]
  },
  {
   "cell_type": "code",
   "execution_count": null,
   "id": "bf8c7a64",
   "metadata": {},
   "outputs": [],
   "source": [
    "# Cell 1\n",
    "print (myval)"
   ]
  },
  {
   "cell_type": "code",
   "execution_count": null,
   "id": "d9c1b187",
   "metadata": {},
   "outputs": [],
   "source": [
    "# Cell 2\n",
    "myval = 1"
   ]
  },
  {
   "cell_type": "markdown",
   "id": "19c0f579",
   "metadata": {},
   "source": [
    "If you execute this in order, the first cell will give an error. However, if you run the first cell after the second cell it will print out 1. To prevent confusion, it can be helpful to use the `Kernel -> Restart & Run All` option which clears the interpreter and runs everything from a clean slate going top to bottom."
   ]
  },
  {
   "cell_type": "markdown",
   "id": "eed47356",
   "metadata": {},
   "source": [
    "### 1.3.2 Variables can be used in calculations.\n",
    "* We can use variables in calculations just as if they were values."
   ]
  },
  {
   "cell_type": "code",
   "execution_count": null,
   "id": "2c60c47e",
   "metadata": {},
   "outputs": [],
   "source": [
    "age = 40\n",
    "age_plus = age + 3\n",
    "print('Age in three years:', age)"
   ]
  },
  {
   "cell_type": "markdown",
   "id": "cba832ba",
   "metadata": {},
   "source": [
    "### 1.3.3 Assigning variables\n",
    "One important thing to note is that if you want to keep a value for future reference, you need to assign it to a variable. Otherwise, the value disappears into nothingness...\n",
    "\n",
    "For example, if you run each of these cells, only the results of the second one can be recalled after the cell is executed--the results of the 1st are lost..."
   ]
  },
  {
   "cell_type": "code",
   "execution_count": null,
   "id": "26a00b2a",
   "metadata": {},
   "outputs": [],
   "source": [
    "z = 3\n",
    "z + 0.14"
   ]
  },
  {
   "cell_type": "code",
   "execution_count": null,
   "id": "d46c9233",
   "metadata": {},
   "outputs": [],
   "source": [
    "pi = z + 0.14"
   ]
  },
  {
   "cell_type": "markdown",
   "id": "546c16fc",
   "metadata": {},
   "source": [
    "## 1.4. Order of Operations\n",
    "Remember the acronym PEMDAS from math class? Python follows the same order, evaluating items in the order: **p**arentheses, **e**xponentiation, **m**ultiplication, **d**ivision, **a**ddition, and **s**ubtraction.\n",
    "\n",
    "![GIF with PEMDAS acronym explanation: Parentheses, explonents, multiply, divide, add, subtract](graphics/pemdas.gif)\n",
    "\n",
    "Parentheses are helpful in complex expressions and can be used for clarity, even if not technically required. This aligns with the overall philosophy of Python, that code should be written for clarity of reading. There's a common saying:\n",
    "\n",
    "> Code is written once but read many times.\n",
    "\n",
    "Write Python code to calculate the following:\n",
    "\n",
    "**4.1.** Subtract 5 to the 3rd power, which is $5^3$ and written in code as `5**3`, from 100 and divide the result by 5 (answer should be: -5.0):"
   ]
  },
  {
   "cell_type": "code",
   "execution_count": null,
   "id": "b0750797",
   "metadata": {},
   "outputs": [],
   "source": [
    "# Add your code here\n"
   ]
  },
  {
   "cell_type": "markdown",
   "id": "b864290b",
   "metadata": {},
   "source": [
    "**4.2.** Divide 15 by 4 and add 6 to it (answer should be: 9.75)\n",
    "\n",
    "   <div style=\"padding: 10px;margin-bottom: 20px;border: thin solid #30335D;border-left-width: 10px;background-color: #fff\">\n",
    "   <p><strong>Note:</strong> In older versions of Python (2.x), the division of two integers (whole numbers) would results in an integer. So, the division of 15/4 would yield 3. Since Python 3.0, this has changed and the result will now be the floating point number 3.75. See below for explicitly using integer division.</p>\n",
    "   </div>"
   ]
  },
  {
   "cell_type": "code",
   "execution_count": null,
   "id": "39a13254",
   "metadata": {},
   "outputs": [],
   "source": [
    "# Add your code here\n"
   ]
  },
  {
   "cell_type": "markdown",
   "id": "d2737094",
   "metadata": {},
   "source": [
    "**4.3.** Add 2 squared to the integer division of 25 and 4. Note that the symbol for integer division is '`//`' (Answer should be 10)."
   ]
  },
  {
   "cell_type": "code",
   "execution_count": null,
   "id": "055a7f3f",
   "metadata": {},
   "outputs": [],
   "source": [
    "# Add your code here\n"
   ]
  },
  {
   "cell_type": "markdown",
   "id": "35a757b5",
   "metadata": {},
   "source": [
    "## 1.5 Integer and Float Types\n",
    "Python has many data types, or ways of storing data in variables. Since each type has different properties and methods that can be used on the type of data, it is important to keep track of what type is being used for each variable. Often errors in code arise when data are the wrong type.\n",
    "\n",
    "Python has a method to determine the type of a variable, the `type()` method.\n",
    "\n",
    "**5.1.** Let's start by comparing the type of 6 and 6.0: in the cells below, try the code `type(6)` and `type(6.0)`. You should get `int` and `float` respectively for integer and floating point number."
   ]
  },
  {
   "cell_type": "code",
   "execution_count": null,
   "id": "2af6c088",
   "metadata": {},
   "outputs": [],
   "source": [
    "# Add your code here\n"
   ]
  },
  {
   "cell_type": "code",
   "execution_count": null,
   "id": "7efdd6a1",
   "metadata": {},
   "outputs": [],
   "source": [
    "# Add your code here\n"
   ]
  },
  {
   "cell_type": "markdown",
   "id": "25548dd7",
   "metadata": {},
   "source": [
    "**5.2.** Now let's assign a value to a variable and get its type. Try the code:\n",
    "\n",
    "```python\n",
    "x = 3.14\n",
    "type(x)\n",
    "```"
   ]
  },
  {
   "cell_type": "code",
   "execution_count": null,
   "id": "5eb0ddd2",
   "metadata": {},
   "outputs": [],
   "source": [
    "# Add your code here\n"
   ]
  },
  {
   "cell_type": "markdown",
   "id": "aff198cd",
   "metadata": {},
   "source": [
    "**5.3.** We can often get Python to convert the type of a variable. Let's change `x` to an `int` and assign it to `y`.\n",
    "```python\n",
    "y = int(x)\n",
    "type(y)\n",
    "```"
   ]
  },
  {
   "cell_type": "code",
   "execution_count": null,
   "id": "c7808e73",
   "metadata": {},
   "outputs": [],
   "source": [
    "# Add your code here\n"
   ]
  },
  {
   "cell_type": "markdown",
   "id": "3a5a7cf0",
   "metadata": {},
   "source": [
    "**5.4.** Conversely, we can convert an `int` to a float\n",
    "```python\n",
    "z = float(y)\n",
    "print(z)\n",
    "type(z)\n",
    "   ```\n",
    "   Note the `.0` added to the end to make the integer `3` into the float `3.0`."
   ]
  },
  {
   "cell_type": "code",
   "execution_count": null,
   "id": "4b980b98",
   "metadata": {},
   "outputs": [],
   "source": [
    "# Add your code here\n"
   ]
  },
  {
   "cell_type": "markdown",
   "id": "513bd4c0",
   "metadata": {},
   "source": [
    "## 1.6 Variable Naming\n",
    "### 1.6.1 Python is case-sensitive\n",
    "\n",
    "* Python treats upper- and lower-case letters as different, so `Name` and `name` are different variables.\n",
    "* We will follow the convention of using lower-case letters for variable names.\n",
    "\n",
    "### 1.6.2 Use meaningful variable names\n",
    "\n",
    "* Python doesn't care what you call variables as long as they obey the rules (alphanumeric characters and the underscore)."
   ]
  },
  {
   "cell_type": "code",
   "execution_count": null,
   "id": "91b330ee",
   "metadata": {},
   "outputs": [],
   "source": [
    "flabadab = 42\n",
    "ewr_422_yY = 'Ahmed'\n",
    "print(ewr_422_yY, 'is', flabadab, 'years old')"
   ]
  },
  {
   "cell_type": "markdown",
   "id": "a00ae6d6",
   "metadata": {},
   "source": [
    "* Use meaningful variable names to help other people understand what the program does.\n",
    "* **The most important \"other person\" is your future self.**\n",
    "\n",
    "\n",
    "When naming variables, there are a few important rules:\n",
    "\n",
    "  * Some words are reserved for Python and cannot be used for variable names. The cell below will print a list of those words. These words have special meanings.\n",
    "  * Python variable names cannot start with a digit\n",
    "  * Python variable names cannot include special characters other than underscore(\"_\").\n",
    "\n",
    "<div style=\"padding: 10px;margin-bottom: 20px;border: thin solid #E5C250;border-left-width: 10px;background-color: #fff\">\n",
    "   <p><strong> Tip:</strong> See the PEP8 Style Guide for coding recommendations: <a href=https://www.python.org/dev/peps/pep-0008/>https://www.python.org/dev/peps/pep-0008/</a></p>\n",
    "   </div>\n",
    "\n",
    "While not written rules, it is best practice to:\n",
    "* Have variable names reflect what they store: `time` is far better than `t` or `x`.\n",
    "* Use plural names for variables that hold multiple items and single names for single items: `records` for a list of all records and `record` for a single record from the list.\n",
    "* Be consistent in using `camelCase` or `underscores_between_words`. PEP8 prefers underscores.\n",
    "*  Variable names that start with underscores, like `__alistairs_real_age`, have a special meaning so we won't do that until we understand the convention."
   ]
  },
  {
   "cell_type": "code",
   "execution_count": 73,
   "id": "df8e10b9",
   "metadata": {},
   "outputs": [
    {
     "name": "stdout",
     "output_type": "stream",
     "text": [
      "['False', 'None', 'True', '__peg_parser__', 'and', 'as', 'assert', 'async', 'await', 'break', 'class', 'continue', 'def', 'del', 'elif', 'else', 'except', 'finally', 'for', 'from', 'global', 'if', 'import', 'in', 'is', 'lambda', 'nonlocal', 'not', 'or', 'pass', 'raise', 'return', 'try', 'while', 'with', 'yield']\n"
     ]
    }
   ],
   "source": [
    "import keyword\n",
    "print(keyword.kwlist)"
   ]
  },
  {
   "cell_type": "markdown",
   "id": "2642a16c",
   "metadata": {},
   "source": [
    "To see what happens, let's create a variable named 1st_name and assign it your name: e.g.\n",
    "\n",
    "  ```python\n",
    "  1st_name = 'Matt'\n",
    "  ```\n",
    "  <div style=\"padding: 10px;margin-bottom: 20px;border: thin solid #30335D;border-left-width: 10px;background-color: #fff\">\n",
    "   <p><strong>Note:</strong> You will get an error. Read he message and try to interpret it. Notice that the \"^\" (caret) points to where Python thinks the error is. That is close, but not exactly where the issue is. Sometimes the error can be a line or two above the caret--don't assume it is pointing to the code that caused the error. </p>\n",
    "  </div>"
   ]
  },
  {
   "cell_type": "code",
   "execution_count": null,
   "id": "bb789b89",
   "metadata": {},
   "outputs": [],
   "source": [
    "# Add your code here from above\n"
   ]
  },
  {
   "cell_type": "markdown",
   "id": "ba8d0911",
   "metadata": {},
   "source": [
    "Can you fix the variable name to one that works?"
   ]
  },
  {
   "cell_type": "code",
   "execution_count": null,
   "id": "17571373",
   "metadata": {},
   "outputs": [],
   "source": [
    "# Add your code here\n"
   ]
  },
  {
   "cell_type": "markdown",
   "id": "e108b532",
   "metadata": {},
   "source": [
    "As another example of variables that are not allowed, run the following cell, then rename the variable in a way that removes the error."
   ]
  },
  {
   "cell_type": "code",
   "execution_count": 74,
   "id": "59c5f947",
   "metadata": {},
   "outputs": [
    {
     "ename": "SyntaxError",
     "evalue": "invalid syntax (320810696.py, line 2)",
     "output_type": "error",
     "traceback": [
      "\u001b[1;36m  Input \u001b[1;32mIn [74]\u001b[1;36m\u001b[0m\n\u001b[1;33m    my_$ = 100\u001b[0m\n\u001b[1;37m       ^\u001b[0m\n\u001b[1;31mSyntaxError\u001b[0m\u001b[1;31m:\u001b[0m invalid syntax\n"
     ]
    }
   ],
   "source": [
    "# Run this cell, observe the error, and fix it by changing the variable name\n",
    "my_$ = 100"
   ]
  },
  {
   "cell_type": "markdown",
   "id": "8cf74874",
   "metadata": {},
   "source": [
    "## 1.7 Use comments to add documentation to programs.\n",
    "Striving for self-documenting code--code that uses clear variable names and logical structure and organization--is always a good goal, but sometimes additional comments are needed.\n",
    "\n",
    "Any text on a line following the '`#`' symbol is considered a comment and is ignored by the Python interpreter. Multi-line comments can be made using three quotes (either single or double) at the start and end of the comment.\n",
    "\n",
    "As noted above, code is written once and read many times--*strive to make your code self-documenting and easy to read*. Clear variable names, consistent structure and spacing, and logical flow all contribute to readability.\n",
    "\n",
    "Another common saying is that **all comments are lies**. While comments can provide a clue into what the coder wanted the code to do, it is the code that is executed, not the comments. When looking for errors, make sure the code matches any comments."
   ]
  },
  {
   "cell_type": "code",
   "execution_count": 75,
   "id": "d68f7746",
   "metadata": {},
   "outputs": [
    {
     "data": {
      "text/plain": [
       "'\\nMultiline strings can also be used\\nThis allows text to span over more than\\none line.\\nTriple quotes at the start and end of the \\nmultiline string work.\\n'"
      ]
     },
     "execution_count": 75,
     "metadata": {},
     "output_type": "execute_result"
    }
   ],
   "source": [
    "# This sentence isn't executed by Python.\n",
    "adjustment = 0.5   # Neither is this - anything after '#' is ignored.\n",
    "\n",
    "\"\"\"\n",
    "Multiline strings can also be used\n",
    "This allows text to span over more than\n",
    "one line.\n",
    "Triple quotes at the start and end of the \n",
    "multiline string work.\n",
    "\"\"\""
   ]
  },
  {
   "cell_type": "markdown",
   "id": "830be2fc",
   "metadata": {},
   "source": [
    "## 1.8 String Variables\n",
    "In this section, we're going to highlight some of the unique features of string variables.  Strings are comprised of characters (text) linked together.  And because string processing is at the center of natural language processing, and has similarities to working with lists and arrays, it's worth spending some time on this topic. \n",
    "\n",
    "### 1.8.1 String Indexing\n",
    "\n",
    "The first thing to know about stings (and lists) in Python is that they are **zero-indexed**, meaning that numbering starts at 0.The first element in a string or list is the 0<sup>th</sup> element."
   ]
  },
  {
   "cell_type": "code",
   "execution_count": null,
   "id": "c639770b",
   "metadata": {},
   "outputs": [],
   "source": [
    "# Traverse a string with a loop: while version\n",
    "fruit = 'banana'\n",
    "index = 0\n",
    "\n",
    "while index < len(fruit):\n",
    "    letter = fruit[index]\n",
    "    print(f'Index: {index} --> value: {letter}')\n",
    "    index = index + 1"
   ]
  },
  {
   "cell_type": "code",
   "execution_count": null,
   "id": "f0bb0a89",
   "metadata": {},
   "outputs": [],
   "source": [
    "# Or using a for loop\n",
    "fruit = 'banana'\n",
    "\n",
    "for char in fruit:\n",
    "    letter = char\n",
    "    print(letter)"
   ]
  },
  {
   "cell_type": "markdown",
   "id": "d0a79111",
   "metadata": {},
   "source": [
    "### 1.8.2 Use an index to get a single character from a string.\n",
    "* The characters (individual letters, numbers, and so on) in a string are ordered. For example, the string 'AB' is not the same as 'BA'. Because of this ordering, we can treat the string as a list of characters.\n",
    "* Each position in the string (first, second, etc.) is given a number. This number is called an index or sometimes a subscript.\n",
    "* Indices are numbered from 0.\n",
    "* Use the position's index in square brackets to get the character at that position."
   ]
  },
  {
   "cell_type": "code",
   "execution_count": null,
   "id": "2c97031f",
   "metadata": {},
   "outputs": [],
   "source": [
    "atom_name = 'helium'\n",
    "print(atom_name[3])"
   ]
  },
  {
   "cell_type": "markdown",
   "id": "0772af65",
   "metadata": {},
   "source": [
    "### 1.8.3 Use a slice to get a substring.\n",
    "* A part of a string is called a substring. A substring can be as short as a single character.\n",
    "* An item in a list is called an element. Whenever we treat a string as if it were a list, the string's elements are its individual characters.\n",
    "* A slice is a part of a string (or, more generally, any list-like thing).\n",
    "* We take a slice by using `[start:stop]`, where `start` is replaced with the index of the first element we want and `stop` is replaced with the index of the element just after the last element we want.\n",
    "* Mathematically, you might say that a slice selects `[start:stop)`.\n",
    "* The difference between `stop` and `start` is the slice's length.\n",
    "* Taking a slice does not change the contents of the original string. Instead, the slice is a copy of part of the original string.\n",
    "\n",
    "Consider this image of a string:\n",
    "\n",
    "![Python lists image](graphics/python_lists.png)\n",
    "\n",
    "As pictured here, you can see that the small numbers on the tops of the green boxes are the indexes and the slice is between indexes. For example:\n"
   ]
  },
  {
   "cell_type": "code",
   "execution_count": null,
   "id": "da2c8476",
   "metadata": {},
   "outputs": [],
   "source": [
    "my_string=\"banana\"\n",
    "\n",
    "print(f\"1: {my_string[0]}\")\n",
    "print(f\"2: {my_string[1:3]}\")\n",
    "print(f\"3: {my_string[3:]}\")\n",
    "print(f\"4: {my_string[:2]}\")\n",
    "print(f\"5: {my_string[-3:-1]}\")\n",
    "print(f\"6: {my_string[-1]}\")"
   ]
  },
  {
   "cell_type": "markdown",
   "id": "31bcd4de",
   "metadata": {},
   "source": [
    "### 1.8.4 Strings are immutable\n",
    "Strings and some other variable types are immutable--they cannot be changed.\n",
    "\n",
    "You can't change a string, but you can make a new variable with the new string, though it's usually easier to simply re-assign the variable:"
   ]
  },
  {
   "cell_type": "code",
   "execution_count": null,
   "id": "cfa036f4",
   "metadata": {},
   "outputs": [],
   "source": [
    "greeting = 'Hello, world!'"
   ]
  },
  {
   "cell_type": "code",
   "execution_count": null,
   "id": "78396fe8",
   "metadata": {},
   "outputs": [],
   "source": [
    "# Let's say we want to change the 'H' in the greeting to a 'J'\n",
    "# First, we need to remember that the 'H' is the first letter, but that's index 0!\n",
    "# Try this...it won't work!\n",
    "\n",
    "greeting[0] = 'J'"
   ]
  },
  {
   "cell_type": "markdown",
   "id": "938ea34b",
   "metadata": {},
   "source": [
    "Here's a work around... \n",
    "\n",
    "We can replace the current contents of the variable `greeting` by re-assigning it a new value that is the letter 'H' followed by everything from the second letter (index 1) on of the current value of `greeting`."
   ]
  },
  {
   "cell_type": "code",
   "execution_count": null,
   "id": "1c911cf5",
   "metadata": {},
   "outputs": [],
   "source": [
    "greeting = 'J' + greeting[1:]\n",
    "print(greeting)"
   ]
  },
  {
   "cell_type": "markdown",
   "id": "8ed68963",
   "metadata": {},
   "source": [
    "In the example above, the original string is erased and a completely new string is defined.  The variable name persists, but it now lives in a new memory location."
   ]
  },
  {
   "cell_type": "markdown",
   "id": "accf1a6a",
   "metadata": {},
   "source": [
    "### 1.8.5 Use the built-in function `len` to find the length of a string"
   ]
  },
  {
   "cell_type": "code",
   "execution_count": null,
   "id": "bb500fb4",
   "metadata": {},
   "outputs": [],
   "source": [
    "print(len('helium'))"
   ]
  },
  {
   "cell_type": "markdown",
   "id": "9e903db1",
   "metadata": {},
   "source": [
    "<div style=\"padding: 10px;margin-bottom: 20px;border: thin solid #30335D;border-left-width: 10px;background-color: #fff\">\n",
    "   <p><strong>Note:</strong> Notice the two sets of parentheses. Nested functions are evaluated from the inside out, just like in mathematics.</p>\n",
    "  </div>"
   ]
  },
  {
   "cell_type": "markdown",
   "id": "1c0c333c",
   "metadata": {},
   "source": [
    "### 1.8.6 Use the built-in function `in` to find a string in another string\n",
    "The built-in function `in` (one of those reserved keywords) allows us to test if one string is contained within another string--or one item is in a list of items when working with lists."
   ]
  },
  {
   "cell_type": "code",
   "execution_count": null,
   "id": "680d2dd7",
   "metadata": {},
   "outputs": [],
   "source": [
    "'a' in 'banana'"
   ]
  },
  {
   "cell_type": "code",
   "execution_count": null,
   "id": "b203ddaa",
   "metadata": {},
   "outputs": [],
   "source": [
    "'z' in 'banana'"
   ]
  },
  {
   "cell_type": "code",
   "execution_count": null,
   "id": "75974b16",
   "metadata": {},
   "outputs": [],
   "source": [
    "'Gator' in 'Go Gators!'"
   ]
  },
  {
   "cell_type": "code",
   "execution_count": null,
   "id": "efbb80c5",
   "metadata": {},
   "outputs": [],
   "source": [
    "'Seminole' in 'Go Gators!'"
   ]
  },
  {
   "cell_type": "markdown",
   "id": "dc9717e5",
   "metadata": {},
   "source": [
    "### 1.8.7 String Error Syntax\n",
    "This exercise will help you identify errors in strings and fix them. While you can use singe or double quotes for strings, a string must start and end with the same type of quote."
   ]
  },
  {
   "cell_type": "code",
   "execution_count": null,
   "id": "14238699",
   "metadata": {},
   "outputs": [],
   "source": [
    "# This is valid\n",
    "bookstore = 'City Lights'"
   ]
  },
  {
   "cell_type": "code",
   "execution_count": null,
   "id": "dfd31656",
   "metadata": {},
   "outputs": [],
   "source": [
    "# This is not, can you fix it?\n",
    "bookstore = 'City Lights\""
   ]
  },
  {
   "cell_type": "code",
   "execution_count": null,
   "id": "8586c2ec",
   "metadata": {},
   "outputs": [],
   "source": [
    "# This also doesn't work, why not? Can you fix it?\n",
    "bookstore = 'Powell's Books'"
   ]
  },
  {
   "cell_type": "markdown",
   "id": "6879f292",
   "metadata": {},
   "source": [
    "Apostrophes are a common cause of coding errors. Pay attention, especially if using single quotes! \n",
    "\n",
    "While it doesn't matter too much which you use, it helps to be consistent, unless there's a need for the other type."
   ]
  },
  {
   "cell_type": "markdown",
   "id": "c019d368",
   "metadata": {},
   "source": [
    "## 1.9 Variable Methods\n",
    "Explore methods available for strings, integers and more. \n",
    "\n",
    "In addition to the `dir` function, when using Jupyter, the `Tab`-key can show you options. If your type the name of an existing variable and the '`.`' then hit the `Tab`-key, you should see a list of methods as shown in the screenshot below:\n",
    "\n",
    "![Screenshot of Tab-key display of variable methods](graphics/tab_methods.png)"
   ]
  },
  {
   "cell_type": "code",
   "execution_count": null,
   "id": "81be197e",
   "metadata": {},
   "outputs": [],
   "source": [
    "# Explore some additional string methods\n"
   ]
  },
  {
   "cell_type": "code",
   "execution_count": null,
   "id": "f64a9c29",
   "metadata": {},
   "outputs": [],
   "source": [
    "# Create an integer variable and explore some integer methods\n"
   ]
  },
  {
   "cell_type": "code",
   "execution_count": null,
   "id": "a263c89a",
   "metadata": {},
   "outputs": [],
   "source": [
    "# Below is a list variable, explore some list methods in the next cell\n",
    "my_list = [1, 2, 3, 4]"
   ]
  },
  {
   "cell_type": "code",
   "execution_count": null,
   "id": "ef422c14",
   "metadata": {},
   "outputs": [],
   "source": [
    "# Explore list methods available to my_list\n"
   ]
  },
  {
   "cell_type": "markdown",
   "id": "8cfef3ed",
   "metadata": {},
   "source": [
    "## 1.10 Every value has a type\n",
    "* Every value has a specific type.\n",
    "* Python **infers** the type, so we do not have to *explicitly* declare the type. This can be convenient, but also causes problems at times.\n",
    "* Some examples data types:\n",
    "   * Integer (`int`): represents positive or negative whole numbers like 3 or -512.\n",
    "   * Floating point number (`float`): represents real, or floating point, numbers with a decimal, like 3.14159 or -2.5.\n",
    "   * Character string (usually called \"string\", `str`): text.\n",
    "      * Written in either single quotes or double quotes (as long as they match).\n",
    "      * The quote marks aren't printed when the string is displayed.\n",
    "* Several Python data types are pictured below with examples. There are more types, and users can define their own types too.\n",
    "\n",
    "![Python data types](graphics/python_datatypes.jpg)"
   ]
  },
  {
   "cell_type": "markdown",
   "id": "85fc79f1",
   "metadata": {},
   "source": [
    "### 1.10.1 Use the built-in function `type` to find the type of a value\n",
    "\n",
    "* Use the built-in function `type` to find out the type of a value or variable."
   ]
  },
  {
   "cell_type": "code",
   "execution_count": null,
   "id": "03bceb95",
   "metadata": {},
   "outputs": [],
   "source": [
    "print(type(52))"
   ]
  },
  {
   "cell_type": "code",
   "execution_count": null,
   "id": "709da5c4",
   "metadata": {},
   "outputs": [],
   "source": [
    "fitness = 'average'\n",
    "print(type(fitness))"
   ]
  },
  {
   "cell_type": "markdown",
   "id": "07e4e114",
   "metadata": {},
   "source": [
    "### 1.10.2 Type conversion\n",
    "Python can (sometimes) convert types, allowing us to change how values are interpreted. For example, we can convert the string `'5'` to the integer `5`:"
   ]
  },
  {
   "cell_type": "code",
   "execution_count": null,
   "id": "1587e648",
   "metadata": {},
   "outputs": [],
   "source": [
    "int('5') + int('7')"
   ]
  },
  {
   "cell_type": "markdown",
   "id": "d57dfe8c",
   "metadata": {},
   "source": [
    "But we need to be a bit careful at times and not all conversions are possible."
   ]
  },
  {
   "cell_type": "code",
   "execution_count": null,
   "id": "a6bc9ab5",
   "metadata": {},
   "outputs": [],
   "source": [
    "# Before running this cell, predict what you expect the answer to be\n",
    "\n",
    "float(5.9) + 2.0"
   ]
  },
  {
   "cell_type": "code",
   "execution_count": null,
   "id": "b4348746",
   "metadata": {},
   "outputs": [],
   "source": [
    "# This will give an error. Why?\n",
    "\n",
    "int('two')"
   ]
  },
  {
   "cell_type": "code",
   "execution_count": null,
   "id": "f0f68e42",
   "metadata": {},
   "outputs": [],
   "source": [
    "# Need to make sure types match (this also produces an error)\n",
    "\n",
    "print(1 + '2')"
   ]
  },
  {
   "cell_type": "markdown",
   "id": "da42eb74",
   "metadata": {},
   "source": [
    "### 1.10.3 Can mix integers and floats freely in operations\n",
    "* Integers and floating-point numbers can be mixed in arithmetic.\n",
    "    * Python 3 automatically converts integers to floats as needed. (Integer division in Python 2 will return an integer, the *floor* of the division.)"
   ]
  },
  {
   "cell_type": "code",
   "execution_count": null,
   "id": "16068780",
   "metadata": {},
   "outputs": [],
   "source": [
    "print(f'half is:  {1 / 2.0}')\n",
    "print(f'three squared is: {3.0 ** 2}')"
   ]
  },
  {
   "cell_type": "markdown",
   "id": "cd2873a3",
   "metadata": {},
   "source": [
    "# 2. Libraries\n",
    "## 2.1. The power of a programming language is in its libraries\n",
    "\n",
    "* A *library* is a collection of files (called *modules*) that contains functions for use by other programs.\n",
    "    * May also contain data values (e.g., numerical constants) and other things.\n",
    "    * Library's contents are supposed to be related, but there's no way to enforce that.\n",
    "* The Python [standard library](https://docs.python.org/3/library/) is an extensive suite of modules that comes with Python itself.\n",
    "* Many additional libraries are available from [PyPI](https://pypi.python.org/pypi/) (the Python Package Index).\n",
    "* We will see later how to write new libraries.\n",
    "\n",
    "### 2.1.1 Libraries and modules\n",
    "\n",
    "A library is a collection of modules, but **the terms are often used interchangeably**, especially since many libraries only consist of a single module.\n",
    "\n",
    "### 2.1.2. A program must import a library module before using it\n",
    "\n",
    "* Use `import` to load a library module into a program's memory.\n",
    "* Then refer to things from the module as `module_name.thing_name`.\n",
    "    * Python uses `.` to mean \"part of\".\n",
    "* Here is an example of using the `math` library, one of the libraries in the standard library:"
   ]
  },
  {
   "cell_type": "code",
   "execution_count": null,
   "id": "fdced80b",
   "metadata": {},
   "outputs": [],
   "source": [
    "import math\n",
    "\n",
    "print('pi is', math.pi)\n",
    "print('cos(pi) is', math.cos(math.pi))"
   ]
  },
  {
   "cell_type": "markdown",
   "id": "e68f6e28",
   "metadata": {},
   "source": [
    "* You have to refer to each item using the containing module's name.\n",
    "    * `math.cos(pi)` won't work: the reference to `pi` doesn't somehow \"inherit\" the function's reference to `math`."
   ]
  },
  {
   "cell_type": "markdown",
   "id": "c63a25a4",
   "metadata": {},
   "source": [
    "### 2.1.3. Use `help` to learn about the contents of a library module.\n",
    "Works just like help for a function."
   ]
  },
  {
   "cell_type": "code",
   "execution_count": null,
   "id": "5818b9ab",
   "metadata": {},
   "outputs": [],
   "source": [
    "help(math)"
   ]
  },
  {
   "cell_type": "markdown",
   "id": "41c0825b",
   "metadata": {},
   "source": [
    "### 2.2 Import specific items from a library module to shorten programs\n",
    "* >Use `from ______ import _____` to load only specific items from a library.\n",
    "* Then refer to them directly without library name as prefix.\n",
    "* It is not a good idea to import *everything* from a library this way...e.g. you may see examples that suggest something like `from math import *`. That is likely to create namespace problems and other issues and is not recommended. "
   ]
  },
  {
   "cell_type": "code",
   "execution_count": null,
   "id": "44f4498d",
   "metadata": {},
   "outputs": [],
   "source": [
    "from math import cos, pi\n",
    "\n",
    "print('cos(pi) is', cos(pi))"
   ]
  },
  {
   "cell_type": "markdown",
   "id": "3bb6835d",
   "metadata": {},
   "source": [
    "### 2.3 Create an alias for a library module when importing it to shorten programs\n",
    "* Use `import _____ as _____` to give a library a short *alias* while importing it.\n",
    "* Then refer to items in the library using that shortened name."
   ]
  },
  {
   "cell_type": "code",
   "execution_count": null,
   "id": "23f9ce1f",
   "metadata": {},
   "outputs": [],
   "source": [
    "import math as m\n",
    "\n",
    "print('cos(pi) is', m.cos(m.pi))"
   ]
  },
  {
   "cell_type": "markdown",
   "id": "ddf8f18d",
   "metadata": {},
   "source": [
    "* Commonly used for libraries that are frequently used or have long names.\n",
    "    * E.g., The `pandas` library is often aliased as `pd`.\n",
    "* But can make programs harder to understand, since readers must learn your program's aliases.\n",
    "* While you *can* use anything for an alias, if there is a commonly used alias, like `pd`, use the convention! "
   ]
  },
  {
   "cell_type": "markdown",
   "id": "27c46dde",
   "metadata": {},
   "source": [
    "# 3. Conditionals\n",
    "## 3.1 Use `if` statements to control whether or not a block of code is executed\n",
    "\n",
    "* An `if` statement (more properly called a *conditional* statement) controls whether some block of code is executed or not.\n",
    "* Structure is similar to a `for` statement:\n",
    "    * First line opens with `if` and ends with a colon\n",
    "    * Body containing one or more statements is indented (usually by 4 spaces)"
   ]
  },
  {
   "cell_type": "code",
   "execution_count": null,
   "id": "70875cd1",
   "metadata": {},
   "outputs": [],
   "source": [
    "mass = 3.54\n",
    "if mass > 3.0:\n",
    "    print(f'{mass} is large')\n",
    "\n",
    "mass = 2.07\n",
    "if mass > 3.0:\n",
    "    print(f'{mass} is large')"
   ]
  },
  {
   "cell_type": "markdown",
   "id": "2dd14b5d",
   "metadata": {},
   "source": [
    "## 3.2 Conditionals are often used inside loops\n",
    "* Not much point using a conditional when we know the value (as above).\n",
    "* But useful when we have a collection to process."
   ]
  },
  {
   "cell_type": "code",
   "execution_count": null,
   "id": "81d0d890",
   "metadata": {},
   "outputs": [],
   "source": [
    "masses = [3.54, 2.07, 9.22, 1.86, 1.71]\n",
    "for mass in masses:\n",
    "    if mass > 3.0:\n",
    "        print(f'{mass} is large')"
   ]
  },
  {
   "cell_type": "markdown",
   "id": "b69f2dc5",
   "metadata": {},
   "source": [
    "## 3.3 Use `else` to execute a block of code when an `if` condition is *not* true\n",
    "* `else` can be used following an `if`.\n",
    "* Allows us to specify an alternative to execute when the `if` *branch* isn't taken."
   ]
  },
  {
   "cell_type": "code",
   "execution_count": null,
   "id": "a6ade4e5",
   "metadata": {},
   "outputs": [],
   "source": [
    "masses = [3.54, 2.07, 9.22, 1.86, 1.71]\n",
    "for mass in masses:\n",
    "    if mass > 3.0:\n",
    "        print(f'{mass} is large')\n",
    "    else:\n",
    "        print(f'{mass} is small')"
   ]
  },
  {
   "cell_type": "markdown",
   "id": "d872341c",
   "metadata": {},
   "source": [
    "## 3.4 Use `elif` to specify additional tests\n",
    "\n",
    "* May want to provide several alternative choices, each with its own test.\n",
    "* Use `elif` (short for \"else if\") and a condition to specify these.\n",
    "* Always associated with an `if`.\n",
    "* Must come before the `else` (which is the \"catch all\")."
   ]
  },
  {
   "cell_type": "code",
   "execution_count": null,
   "id": "50fdec79",
   "metadata": {},
   "outputs": [],
   "source": [
    "masses = [3.54, 2.07, 9.22, 1.86, 1.71]\n",
    "for mass in masses:\n",
    "    if mass > 9.0:\n",
    "        print(f'{mass} is HUGE!')\n",
    "    elif mass > 3.0:\n",
    "        print(f'{mass} is large')\n",
    "    else:\n",
    "        print(f'{mass} is small')"
   ]
  },
  {
   "cell_type": "markdown",
   "id": "3c7ebf1a",
   "metadata": {},
   "source": [
    "## 3.5 Comparison Operators\n",
    "Here is a table of the common comparison operators:\n",
    "\n",
    "Symbol | Meaning\n",
    "-------|-------\n",
    " <  | Less than\n",
    " <= | Less than or equal to\n",
    " \\>  | Greater than\n",
    " \\>= | Greater than or equal to\n",
    " \\== | Equal to or equivalent to\n",
    " \\!= | Not equal or equivalent to\n",
    "\n",
    "<div style=\"padding: 10px;margin-bottom: 20px;border: thin solid #E5C250;border-left-width: 10px;background-color: #fff\">\n",
    "    <p><strong>Tip:</strong> It is common to mistakenly use <code>=</code> where you mean <code>==</code>. Remember that <code>=</code> is the <strong>assignment</strong> operator in Python, assigning a value to a variable. To test equality, we need a different symbol, so the double equal sign was adopted.</p>\n",
    "   </div>\n",
    "   \n",
    "Try some comparison operations below:"
   ]
  },
  {
   "cell_type": "code",
   "execution_count": null,
   "id": "5682cecd",
   "metadata": {},
   "outputs": [],
   "source": [
    "age = 20"
   ]
  },
  {
   "cell_type": "code",
   "execution_count": null,
   "id": "ec89d7f5",
   "metadata": {},
   "outputs": [],
   "source": [
    "age < 13"
   ]
  },
  {
   "cell_type": "code",
   "execution_count": null,
   "id": "0aa9a73c",
   "metadata": {},
   "outputs": [],
   "source": [
    "age >= 20 and age <=21"
   ]
  },
  {
   "cell_type": "code",
   "execution_count": null,
   "id": "395c8943",
   "metadata": {},
   "outputs": [],
   "source": [
    "age == 19"
   ]
  },
  {
   "cell_type": "code",
   "execution_count": null,
   "id": "f1e164b3",
   "metadata": {},
   "outputs": [],
   "source": [
    "my_age = '20' # Note that this is a string value\n",
    "\n",
    "age == my_age"
   ]
  },
  {
   "cell_type": "code",
   "execution_count": null,
   "id": "b584c3f9",
   "metadata": {},
   "outputs": [],
   "source": [
    "age == int(my_age)"
   ]
  },
  {
   "cell_type": "markdown",
   "id": "e48388dd",
   "metadata": {},
   "source": [
    "### 3.6 Compound Relations Using `and`, `or`, and Parentheses\n",
    "Often, you want some combination of things to be true. You can combine relations within a conditional using `and` and `or`.\n",
    "\n",
    "Continuing the example above, suppose you have:"
   ]
  },
  {
   "cell_type": "code",
   "execution_count": null,
   "id": "41b66c2e",
   "metadata": {},
   "outputs": [],
   "source": [
    "mass     = [ 3.54,  2.07,  9.22,  1.86,  1.71]\n",
    "velocity = [10.00, 20.00, 30.00, 25.00, 20.00]\n",
    "\n",
    "i = 0\n",
    "for i in range(5):\n",
    "    if mass[i] > 5 and velocity[i] > 20:\n",
    "        print(\"Fast heavy object.  Duck!\")\n",
    "    elif mass[i] > 2 and mass[i] <= 5 and velocity[i] <= 20:\n",
    "        print(\"Normal traffic\")\n",
    "    elif mass[i] <= 2 and velocity[i] <= 20:\n",
    "        print(\"Slow light object.  Ignore it\")\n",
    "    else:\n",
    "        print(\"Whoa!  Something is up with the data.  Check it\")"
   ]
  },
  {
   "cell_type": "markdown",
   "id": "a5acf829",
   "metadata": {},
   "source": [
    "Just like with arithmetic, you can and should use parentheses whenever there is possible ambiguity. A good general rule is to *always* use parentheses when mixing `and` and `or` in the same condition. \n",
    "\n",
    "That is, instead of: `if mass[i] <= 2 or mass[i] >= 5 and velocity[i] > 20:`, write one of these:"
   ]
  },
  {
   "cell_type": "code",
   "execution_count": null,
   "id": "b7f55cd2",
   "metadata": {},
   "outputs": [],
   "source": [
    "if (mass[i] <= 2 or mass[i] >= 5) and velocity[i] > 20:\n",
    "if mass[i] <= 2 or (mass[i] >= 5 and velocity[i] > 20):"
   ]
  },
  {
   "cell_type": "markdown",
   "id": "c55bd531",
   "metadata": {},
   "source": [
    "so it is perfectly clear to a reader (and to Python) what you really mean.\n",
    "\n",
    "\n",
    "<div style=\"padding: 10px;margin-bottom: 20px;border: thin solid #E5C250;border-left-width: 10px;background-color: #fff\">\n",
    "    <p><strong>Tip:</strong> Try to keep code simple and easy to read. In the example above, parentheses help, but is still a bit unclear and could use some comments to help a reader understand the logic behind the code.</p>\n",
    "   </div>"
   ]
  },
  {
   "cell_type": "markdown",
   "id": "537684a8",
   "metadata": {},
   "source": [
    "# 4. Loops\n",
    "Loops are one of those foundational computer programming concepts that underlie a lot of what you will do, even if you don't *explicitly* write a loop yourself. People get bored doing the same thing over and over....\n",
    "![Groundhog Day](graphics/groundhog_day.jpg)\n",
    "But, computers don't get bored! We will look at two main types of loops:\n",
    "\n",
    "1. `for` loops: *for* each item in a list of items, do something\n",
    "1. `while` loops: *while* some condition is met, do something\n",
    "\n",
    "\n",
    "## 4.1 `for` Loops\n",
    "\n",
    "If we had to find the longest word on each line of a big book, we'd quickly get tired! Buy, if we ask the computer to do this, it will happily comply. All we need to do is:\n",
    "\n",
    "   1. Give the computer a list (of the lines in the book)\n",
    "   1. Tell it what we want it to do for each item in the list (find the longest word)\n",
    "      * Note that this could be written as nested loop: Once the computer gets a line, make a new loop to look at each word of that line.\n",
    "\n",
    "Another step toward putting this into code would be:\n",
    "\n",
    "For every line in this book,\n",
    "  find the longest word\n",
    "  and save information about that word in a variable\n",
    "\n",
    "For loops are used heavily in coding. The example above looked at each line of a book, but we can imagine loops of each photo in a folder, each number from one to a million, each person on the email list, each car in the parking lot...we could go on, and on, and on... 😉 \n",
    "\n",
    "Now we will look at writing a loop in code. \n",
    "\n",
    "Here's an example that prints each of the values in a list of numbers:\n"
   ]
  },
  {
   "cell_type": "code",
   "execution_count": null,
   "id": "571b395b",
   "metadata": {},
   "outputs": [],
   "source": [
    "# This for loop is equivalent to:\n",
    "# print(2)\n",
    "# print(3)\n",
    "# print(5)\n",
    "for number in [2, 3, 5]:\n",
    "    print(number)"
   ]
  },
  {
   "cell_type": "markdown",
   "id": "56a2839b",
   "metadata": {},
   "source": [
    "### 4.1.1. A `for` loop is made up of a collection, a loop variable, and a body"
   ]
  },
  {
   "cell_type": "code",
   "execution_count": null,
   "id": "5d5274d2",
   "metadata": {},
   "outputs": [],
   "source": [
    "for number in [2, 3, 5]:\n",
    "    print(number)"
   ]
  },
  {
   "cell_type": "markdown",
   "id": "70277760",
   "metadata": {},
   "source": [
    "* The collection, `[2, 3, 5]`, is what the loop is being run on.\n",
    "* The loop variable, `number`, is what changes for each *iteration* of the loop.\n",
    "    * The \"current item\".\n",
    "* The body, `print(number)`, specifies what to do for each item in the collection."
   ]
  },
  {
   "cell_type": "markdown",
   "id": "615bf072",
   "metadata": {},
   "source": [
    "### 4.1.2 Python syntax and `for` loops\n",
    "\n",
    "Many computing languages use special words or characters to designate the start and end of the body of loops. Good coding practice suggests using line breaks and indentation to make code readable. Python takes things a step further and uses line breaks and indentation to designate the start and end of the body of loops.\n",
    "\n",
    "\n",
    "The first line of the `for` loop must end with a colon, and the body must be indented.\n",
    "\n",
    "* The colon at the end of the first line signals the start of a *block* of statements.\n",
    "* Python uses indentation rather than `{}` or `begin/end` to show nesting as compared to many other languages.\n",
    "    * Any **consistent** indentation is legal (spaces or tabs), but PEP-8 suggests four spaces."
   ]
  },
  {
   "cell_type": "code",
   "execution_count": null,
   "id": "5f0e6644",
   "metadata": {},
   "outputs": [],
   "source": [
    "# Indentation is always meaningful in Python\n",
    "for number in [2, 3, 5]:\n",
    "print(number)"
   ]
  },
  {
   "cell_type": "code",
   "execution_count": null,
   "id": "481f77a5",
   "metadata": {},
   "outputs": [],
   "source": [
    "firstName=\"Jon\"\n",
    "  lastName=\"Smith\""
   ]
  },
  {
   "cell_type": "markdown",
   "id": "51648f15",
   "metadata": {},
   "source": [
    "### 4.1.3 Loop variables can be called anything\n",
    "* As with all variables, loop variables are:\n",
    "    * Created on demand.\n",
    "    * Meaningless to Python: their names can be anything at all--but should be meaningful to you and readers!\n",
    "        * Good suggestions are singular/plural pairs: `for item in items:`, `for record in records:`, etc."
   ]
  },
  {
   "cell_type": "code",
   "execution_count": null,
   "id": "fe02cbf1",
   "metadata": {},
   "outputs": [],
   "source": [
    "for kitten in [2, 3, 5]:\n",
    "    print(kitten)"
   ]
  },
  {
   "cell_type": "markdown",
   "id": "c99ba768",
   "metadata": {},
   "source": [
    "### 4.1.4 The body of a loop can contain many statements\n",
    "\n",
    "* But longer loops can be difficult to read!\n",
    "* Hard for human beings to keep larger chunks of code in mind."
   ]
  },
  {
   "cell_type": "code",
   "execution_count": null,
   "id": "3133b80c",
   "metadata": {},
   "outputs": [],
   "source": [
    "primes = [2, 3, 5]\n",
    "for p in primes:\n",
    "    squared = p ** 2\n",
    "    cubed = p ** 3\n",
    "    print(p, squared, cubed)"
   ]
  },
  {
   "cell_type": "markdown",
   "id": "5762dafb",
   "metadata": {},
   "source": [
    "### 4.1.5 Use `range` to iterate over a sequence of numbers\n",
    "\n",
    "* The built-in function `range` produces a sequence of numbers.\n",
    "    * *Not* a list: the numbers are produced on demand to make looping over large ranges more efficient.\n",
    "* `range(N)` is the numbers 0..N-1\n",
    "    * Exactly the legal indices of a list or character string of length N"
   ]
  },
  {
   "cell_type": "code",
   "execution_count": null,
   "id": "2782fc9d",
   "metadata": {},
   "outputs": [],
   "source": [
    "print('a range is not a list: range(0, 3)')\n",
    "for number in range(0,3):\n",
    "    print(number)"
   ]
  },
  {
   "cell_type": "markdown",
   "id": "ad14f5c7",
   "metadata": {},
   "source": [
    "# 5. Functions\n",
    "> You can think of a function as a small program inside a program.  The basic idea of a function is that we write a sequence of statements and give that sequence a name. The instructions can then be executed at any point in the program by referring to the function name… when a function is subsequently used in a program, we say that the definition is called or invoked.  \n",
    ">\n",
    ">*John Zelle*\n",
    "\n",
    "Functions make coding easier to write, read and maintain. They reduce repetition and provide discrete mini-programs that once written and tested can be used over and over.\n",
    "\n",
    "We've been using Python functions since the start...`print` is a function! But the really cool thing is that **you** can (and should) write functions too! Functions are not complicated or limited to people with special skills. Conversely they can make your coding much easier!\n",
    "\n",
    "Two good indication of times to write a function is when you are tempted to copy and paste code from one section into another to re-use it, or when you think \"in this part of my code, I need to do this thing....\"\n",
    "\n",
    "The repeated code can likely be made into a function and called when needed. And the \"thing\" that needs to be done can also likely be written as a function.\n",
    "\n",
    "\n",
    "## 5.1 Break programs down into functions to make them easier to understand\n",
    "\n",
    "* Human beings can only keep a few items in working memory at a time.\n",
    "* Understand larger/more complicated ideas by understanding and combining pieces.\n",
    "    * Components in a machine.\n",
    "    * Lemmas when proving theorems.\n",
    "* Functions serve the same purpose in programs.\n",
    "    * *Encapsulate* complexity so that we can treat it as a single \"thing\".\n",
    "* Also enables *re-use*.\n",
    "    * Write one time, use many times.\n",
    "\n",
    "## 5.2 Define a function using `def` with a name, parameters, and a block of code\n",
    "\n",
    "* Begin the definition of a new function with `def`.\n",
    "* Followed by the name of the function.\n",
    "    * Must obey the same rules as variable names.\n",
    "* Then *parameters* in parentheses.\n",
    "    * Empty parentheses if the function doesn't take any inputs.\n",
    "* Then a colon.\n",
    "* Then an indented block of code.\n",
    "\n",
    "\n",
    "In Python, we can define a function using `def`:\n",
    "\n",
    "```python\n",
    "def add(x,y):\n",
    "    return x + y\n",
    "```\n",
    "\n",
    "The `add` function above adds two numbers. Let's run it below:\n"
   ]
  },
  {
   "cell_type": "code",
   "execution_count": null,
   "id": "7347cea9",
   "metadata": {},
   "outputs": [],
   "source": [
    "# Add the code for the add function here\n",
    "\n",
    "\n",
    "# Run the function\n",
    "add(4,6)"
   ]
  },
  {
   "cell_type": "markdown",
   "id": "56f32c32",
   "metadata": {},
   "source": [
    "## 5.3 A function can take 0 or more inputs\n",
    "\n",
    "The `add` function above took two inputs, `x` and `y`. Not all functions take inputs.\n",
    "\n",
    "Inputs are also referred to as arguments."
   ]
  },
  {
   "cell_type": "code",
   "execution_count": null,
   "id": "c69807eb",
   "metadata": {},
   "outputs": [],
   "source": [
    "# A function with no inputs\n",
    "\n",
    "def say_hello():\n",
    "    print('Hello!')"
   ]
  },
  {
   "cell_type": "markdown",
   "id": "f5db6125",
   "metadata": {},
   "source": [
    "## 5.4 Defining a function does not run it\n",
    "* Defining the function is separate from running it. \n",
    "* Similarly, a function needs to be defined before it can be run."
   ]
  },
  {
   "cell_type": "code",
   "execution_count": null,
   "id": "120270d9",
   "metadata": {},
   "outputs": [],
   "source": [
    "say_hello() # Note the parentheses here. Even though there are no inputs, these are needed to run the function."
   ]
  },
  {
   "cell_type": "markdown",
   "id": "b16ea0a3",
   "metadata": {},
   "source": [
    "## 5.5 Positional Arguments\n",
    "In the `add` function, `x` and `y` are positional arguments--**the order arguments are passed to the function matters.** "
   ]
  },
  {
   "cell_type": "code",
   "execution_count": null,
   "id": "856b8e13",
   "metadata": {},
   "outputs": [],
   "source": [
    "def order(x,y):\n",
    "    print(f'{x} is first')\n",
    "    print(f'{y} is second')\n",
    "    \n",
    "order(3,4)\n",
    "order(4,3)"
   ]
  },
  {
   "cell_type": "markdown",
   "id": "6e85d836",
   "metadata": {},
   "source": [
    "## 5.6 Keyword arguments\n",
    "Sometimes, especially as the number of arguments grows, it can be easier to use keyword arguments. These can also be optional and have default values if not specified. This allows functions to behave somewhat differently based on the number of arguments passed in."
   ]
  },
  {
   "cell_type": "code",
   "execution_count": null,
   "id": "354afa28",
   "metadata": {},
   "outputs": [],
   "source": [
    "def say_hello(friend, other_friend = None):\n",
    "    if other_friend:  # Not None, so was passed in\n",
    "        print(f'Hello {friend} and {other_friend}!')\n",
    "    else:\n",
    "        print(f'Hi {friend}!')\n",
    "\n",
    "say_hello('Jan')\n",
    "\n",
    "# Pass by keywork\n",
    "say_hello(friend = 'Jan', other_friend = 'Joan')\n",
    "\n",
    "# Pass by position\n",
    "say_hello('Jan','Joan')"
   ]
  },
  {
   "cell_type": "markdown",
   "id": "fb3ac743",
   "metadata": {},
   "source": [
    "## 5.7 Every function returns something\n",
    "* Every function call produces some result.\n",
    "* If the function doesn't have a useful result to return, it usually returns the special value `None`."
   ]
  },
  {
   "cell_type": "code",
   "execution_count": null,
   "id": "af5d7845",
   "metadata": {},
   "outputs": [],
   "source": [
    "result = print('example')\n",
    "print(f'Result of print is: {result}')"
   ]
  },
  {
   "cell_type": "markdown",
   "id": "8471b10d",
   "metadata": {},
   "source": [
    "The `return` in the function determines what is returned..."
   ]
  },
  {
   "cell_type": "code",
   "execution_count": null,
   "id": "23001b58",
   "metadata": {},
   "outputs": [],
   "source": [
    "def say_hello(friend, other_friend=None):\n",
    "    '''Greet one or two friends. Retunrs friend count'''\n",
    "    if other_friend:  # Not None, so was passed in\n",
    "        print(f'Hello {friend} and {other_friend}!')\n",
    "        return 2\n",
    "    else:\n",
    "        print(f'Hi {friend}!')\n",
    "        return 1\n",
    "    \n",
    "friends = say_hello('Jan', 'Joan')\n",
    "print(f'I have {friends} firends')"
   ]
  },
  {
   "cell_type": "markdown",
   "id": "6a8b3c41",
   "metadata": {},
   "source": [
    "# 6. Data Wrangling\n",
    "<img src='graphics/universe.png' align='left' width=150 alt='A bunch of planets and stars'> In the previous notebooks, we have focused on Python fundamentals that have hopefully given you a flavor of Python, coding, and working in Jupyter. There is a **lot** more to Python, and we have more to cover, but this transitions to being more focused on the applications of data science and artificial intelligence that will be covered in the rest of the *Practicum AI* curriculum. **We are only introducing a small portion of the Python universe!** Python is used for everything from games and art to AI and scientific discovery. Our goal is not to make you a Python programmer, but it start you learning enough to continue learning what you need to accomplish your goals.\n",
    "\n",
    "In this section, we will start to explore [Pandas](https://pandas.pydata.org/), one of the main data manipulation fraeworks. <img src='graphics/pandas_logo.png' alt='The Pandas logo' align='right' width=200>\n",
    "\n",
    "The developers of Pandas describe it as:\n",
    "\n",
    " > pandas is a fast, powerful, flexible and easy to use open source data analysis and manipulation tool,\n",
    "built on top of the Python programming language.\n",
    "\n",
    "\n",
    "## 6.1 Pandas Dataframes\n",
    "\n",
    "Pandas provides one of the most useful data structures for managing data: the dataframe. Pandas dataframes allow fast, flexible, and efficient data manipulation. Dataframes are the natural data structure for tabular data.\n",
    "\n",
    "A [DataFrame](https://pandas.pydata.org/pandas-docs/stable/generated/pandas.DataFrame.html) (2 dimensional--rows and columns) is a collection of [Series](https://pandas.pydata.org/pandas-docs/stable/generated/pandas.Series.html) (1 dimensional). The DataFrame is the way Pandas represents a table, and Series is the data-structure Pandas use to represent a column.\n",
    "\n",
    "Pandas is built on top of the [Numpy](http://www.numpy.org/) library, which in practice means that most of the methods defined for Numpy Arrays apply to Pandas Series/DataFrames.\n",
    "\n",
    "What makes Pandas so attractive is the powerful interface to access individual records of the table, proper handling of missing values, and relational-databases operations between DataFrames.\n",
    "\n",
    "## 6.2 Creating a series\n",
    "\n",
    "We will start with making a Pandas series. Both Numpy and Pandas are usually imported with abbreviated aliases, `np` and `pd`."
   ]
  },
  {
   "cell_type": "code",
   "execution_count": 1,
   "id": "2752f8a3",
   "metadata": {},
   "outputs": [],
   "source": [
    "import numpy as np\n",
    "import pandas as pd"
   ]
  },
  {
   "cell_type": "code",
   "execution_count": 2,
   "id": "7e22a1cf",
   "metadata": {},
   "outputs": [],
   "source": [
    "# Make some standard Python lists, a numpy array and a dictionary\n",
    "\n",
    "labels = ['a', 'b', 'c']\n",
    "my_data = [10,20,30]\n",
    "array_1 = np.array(my_data)\n",
    "d = {'a':10, 'b':20, 'c':30}"
   ]
  },
  {
   "cell_type": "code",
   "execution_count": 3,
   "id": "7c1432a0",
   "metadata": {},
   "outputs": [
    {
     "data": {
      "text/plain": [
       "0    10\n",
       "1    20\n",
       "2    30\n",
       "dtype: int64"
      ]
     },
     "execution_count": 3,
     "metadata": {},
     "output_type": "execute_result"
    }
   ],
   "source": [
    "# Create a series from my_data\n",
    "\n",
    "pd.Series(my_data)"
   ]
  },
  {
   "cell_type": "code",
   "execution_count": 4,
   "id": "6e7d0cf6",
   "metadata": {},
   "outputs": [
    {
     "data": {
      "text/plain": [
       "0    a\n",
       "1    b\n",
       "2    c\n",
       "dtype: object"
      ]
     },
     "execution_count": 4,
     "metadata": {},
     "output_type": "execute_result"
    }
   ],
   "source": [
    "# Create a series from labels\n",
    "\n",
    "pd.Series(labels)"
   ]
  },
  {
   "cell_type": "markdown",
   "id": "82ae812e",
   "metadata": {},
   "source": [
    "## 6.3 Creating Pandas Dataframes\n",
    "\n",
    "Now that we've seen series, we can look at how these are combined as columns in tables.\n",
    "\n",
    "While we will start with the common name `df` for our dataframe, like any variable name, it helps if it meaningful! Again, there is nothing special about the name `df`, but you will see it used everywhere..."
   ]
  },
  {
   "cell_type": "code",
   "execution_count": 5,
   "id": "1f9d2f08",
   "metadata": {},
   "outputs": [
    {
     "data": {
      "text/html": [
       "<div>\n",
       "<style scoped>\n",
       "    .dataframe tbody tr th:only-of-type {\n",
       "        vertical-align: middle;\n",
       "    }\n",
       "\n",
       "    .dataframe tbody tr th {\n",
       "        vertical-align: top;\n",
       "    }\n",
       "\n",
       "    .dataframe thead th {\n",
       "        text-align: right;\n",
       "    }\n",
       "</style>\n",
       "<table border=\"1\" class=\"dataframe\">\n",
       "  <thead>\n",
       "    <tr style=\"text-align: right;\">\n",
       "      <th></th>\n",
       "      <th>Data</th>\n",
       "    </tr>\n",
       "  </thead>\n",
       "  <tbody>\n",
       "    <tr>\n",
       "      <th>a</th>\n",
       "      <td>10</td>\n",
       "    </tr>\n",
       "    <tr>\n",
       "      <th>b</th>\n",
       "      <td>20</td>\n",
       "    </tr>\n",
       "    <tr>\n",
       "      <th>c</th>\n",
       "      <td>30</td>\n",
       "    </tr>\n",
       "  </tbody>\n",
       "</table>\n",
       "</div>"
      ],
      "text/plain": [
       "   Data\n",
       "a    10\n",
       "b    20\n",
       "c    30"
      ]
     },
     "execution_count": 5,
     "metadata": {},
     "output_type": "execute_result"
    }
   ],
   "source": [
    "df = pd.DataFrame(data=my_data, index=labels, columns=['Data'])\n",
    "df"
   ]
  },
  {
   "cell_type": "code",
   "execution_count": 6,
   "id": "507c042e",
   "metadata": {},
   "outputs": [],
   "source": [
    "# Make some random numbers for data. \n",
    "\n",
    "# This makes an array of random integers from 1-10, then reshapes it into a 5x4 matrix\n",
    "data = np.random.randint(1,10, size=20).reshape(5,4)\n",
    "\n",
    "# Make row and colum labels\n",
    "row_labels = ['A', 'B', 'C', 'D', 'E']  # need 5 rows\n",
    "column_headings = ['W', 'X', 'Y', 'Z']  # need 4 columns"
   ]
  },
  {
   "cell_type": "code",
   "execution_count": 7,
   "id": "30b14232",
   "metadata": {},
   "outputs": [
    {
     "data": {
      "text/html": [
       "<div>\n",
       "<style scoped>\n",
       "    .dataframe tbody tr th:only-of-type {\n",
       "        vertical-align: middle;\n",
       "    }\n",
       "\n",
       "    .dataframe tbody tr th {\n",
       "        vertical-align: top;\n",
       "    }\n",
       "\n",
       "    .dataframe thead th {\n",
       "        text-align: right;\n",
       "    }\n",
       "</style>\n",
       "<table border=\"1\" class=\"dataframe\">\n",
       "  <thead>\n",
       "    <tr style=\"text-align: right;\">\n",
       "      <th></th>\n",
       "      <th>W</th>\n",
       "      <th>X</th>\n",
       "      <th>Y</th>\n",
       "      <th>Z</th>\n",
       "    </tr>\n",
       "  </thead>\n",
       "  <tbody>\n",
       "    <tr>\n",
       "      <th>A</th>\n",
       "      <td>8</td>\n",
       "      <td>4</td>\n",
       "      <td>4</td>\n",
       "      <td>2</td>\n",
       "    </tr>\n",
       "    <tr>\n",
       "      <th>B</th>\n",
       "      <td>7</td>\n",
       "      <td>4</td>\n",
       "      <td>4</td>\n",
       "      <td>3</td>\n",
       "    </tr>\n",
       "    <tr>\n",
       "      <th>C</th>\n",
       "      <td>6</td>\n",
       "      <td>8</td>\n",
       "      <td>3</td>\n",
       "      <td>4</td>\n",
       "    </tr>\n",
       "    <tr>\n",
       "      <th>D</th>\n",
       "      <td>7</td>\n",
       "      <td>5</td>\n",
       "      <td>7</td>\n",
       "      <td>2</td>\n",
       "    </tr>\n",
       "    <tr>\n",
       "      <th>E</th>\n",
       "      <td>3</td>\n",
       "      <td>8</td>\n",
       "      <td>7</td>\n",
       "      <td>9</td>\n",
       "    </tr>\n",
       "  </tbody>\n",
       "</table>\n",
       "</div>"
      ],
      "text/plain": [
       "   W  X  Y  Z\n",
       "A  8  4  4  2\n",
       "B  7  4  4  3\n",
       "C  6  8  3  4\n",
       "D  7  5  7  2\n",
       "E  3  8  7  9"
      ]
     },
     "execution_count": 7,
     "metadata": {},
     "output_type": "execute_result"
    }
   ],
   "source": [
    "df = pd.DataFrame(data=data, index=row_labels,\n",
    "                 columns=column_headings)\n",
    "df"
   ]
  },
  {
   "cell_type": "markdown",
   "id": "6cf367e3",
   "metadata": {},
   "source": [
    "Instead of creating dataframe from scratch, the most common way to get dataframe is reading from a csv file using read_csv function. Let's look at some examples with structured EHR data."
   ]
  },
  {
   "cell_type": "code",
   "execution_count": 34,
   "id": "71d31d4e",
   "metadata": {
    "scrolled": true
   },
   "outputs": [
    {
     "data": {
      "text/html": [
       "<div>\n",
       "<style scoped>\n",
       "    .dataframe tbody tr th:only-of-type {\n",
       "        vertical-align: middle;\n",
       "    }\n",
       "\n",
       "    .dataframe tbody tr th {\n",
       "        vertical-align: top;\n",
       "    }\n",
       "\n",
       "    .dataframe thead th {\n",
       "        text-align: right;\n",
       "    }\n",
       "</style>\n",
       "<table border=\"1\" class=\"dataframe\">\n",
       "  <thead>\n",
       "    <tr style=\"text-align: right;\">\n",
       "      <th></th>\n",
       "      <th>patient_deiden_id</th>\n",
       "      <th>vitals_datetime</th>\n",
       "      <th>temp_source</th>\n",
       "      <th>temp_source_value</th>\n",
       "      <th>temp_source_unit</th>\n",
       "      <th>clean_core_body_temp_celsius</th>\n",
       "    </tr>\n",
       "  </thead>\n",
       "  <tbody>\n",
       "    <tr>\n",
       "      <th>0</th>\n",
       "      <td>108386</td>\n",
       "      <td>10/15/2014 18:46</td>\n",
       "      <td>Oral</td>\n",
       "      <td>98.1</td>\n",
       "      <td>Farenheit</td>\n",
       "      <td>37.2222</td>\n",
       "    </tr>\n",
       "    <tr>\n",
       "      <th>1</th>\n",
       "      <td>108386</td>\n",
       "      <td>10/16/2014 3:12</td>\n",
       "      <td>Oral</td>\n",
       "      <td>97.4</td>\n",
       "      <td>Farenheit</td>\n",
       "      <td>36.8333</td>\n",
       "    </tr>\n",
       "    <tr>\n",
       "      <th>2</th>\n",
       "      <td>108386</td>\n",
       "      <td>10/16/2014 6:31</td>\n",
       "      <td>Oral</td>\n",
       "      <td>97.9</td>\n",
       "      <td>Farenheit</td>\n",
       "      <td>37.1111</td>\n",
       "    </tr>\n",
       "    <tr>\n",
       "      <th>3</th>\n",
       "      <td>108386</td>\n",
       "      <td>10/16/2014 11:40</td>\n",
       "      <td>Oral</td>\n",
       "      <td>97.9</td>\n",
       "      <td>Farenheit</td>\n",
       "      <td>37.1111</td>\n",
       "    </tr>\n",
       "    <tr>\n",
       "      <th>4</th>\n",
       "      <td>108386</td>\n",
       "      <td>10/16/2014 16:20</td>\n",
       "      <td>Oral</td>\n",
       "      <td>97.7</td>\n",
       "      <td>Farenheit</td>\n",
       "      <td>37.0000</td>\n",
       "    </tr>\n",
       "    <tr>\n",
       "      <th>...</th>\n",
       "      <td>...</td>\n",
       "      <td>...</td>\n",
       "      <td>...</td>\n",
       "      <td>...</td>\n",
       "      <td>...</td>\n",
       "      <td>...</td>\n",
       "    </tr>\n",
       "    <tr>\n",
       "      <th>1995</th>\n",
       "      <td>114960</td>\n",
       "      <td>5/15/2017 15:00</td>\n",
       "      <td>Oral</td>\n",
       "      <td>99.0</td>\n",
       "      <td>Farenheit</td>\n",
       "      <td>37.7222</td>\n",
       "    </tr>\n",
       "    <tr>\n",
       "      <th>1996</th>\n",
       "      <td>114960</td>\n",
       "      <td>5/15/2017 20:02</td>\n",
       "      <td>Oral</td>\n",
       "      <td>98.8</td>\n",
       "      <td>Farenheit</td>\n",
       "      <td>37.6111</td>\n",
       "    </tr>\n",
       "    <tr>\n",
       "      <th>1997</th>\n",
       "      <td>114960</td>\n",
       "      <td>5/16/2017 0:35</td>\n",
       "      <td>Oral</td>\n",
       "      <td>99.1</td>\n",
       "      <td>Farenheit</td>\n",
       "      <td>37.7778</td>\n",
       "    </tr>\n",
       "    <tr>\n",
       "      <th>1998</th>\n",
       "      <td>114960</td>\n",
       "      <td>5/16/2017 2:38</td>\n",
       "      <td>Oral</td>\n",
       "      <td>99.5</td>\n",
       "      <td>Farenheit</td>\n",
       "      <td>38.0000</td>\n",
       "    </tr>\n",
       "    <tr>\n",
       "      <th>1999</th>\n",
       "      <td>114960</td>\n",
       "      <td>5/16/2017 9:24</td>\n",
       "      <td>Oral</td>\n",
       "      <td>99.5</td>\n",
       "      <td>Farenheit</td>\n",
       "      <td>38.0000</td>\n",
       "    </tr>\n",
       "  </tbody>\n",
       "</table>\n",
       "<p>2000 rows × 6 columns</p>\n",
       "</div>"
      ],
      "text/plain": [
       "      patient_deiden_id   vitals_datetime temp_source  temp_source_value  \\\n",
       "0                108386  10/15/2014 18:46        Oral               98.1   \n",
       "1                108386   10/16/2014 3:12        Oral               97.4   \n",
       "2                108386   10/16/2014 6:31        Oral               97.9   \n",
       "3                108386  10/16/2014 11:40        Oral               97.9   \n",
       "4                108386  10/16/2014 16:20        Oral               97.7   \n",
       "...                 ...               ...         ...                ...   \n",
       "1995             114960   5/15/2017 15:00        Oral               99.0   \n",
       "1996             114960   5/15/2017 20:02        Oral               98.8   \n",
       "1997             114960    5/16/2017 0:35        Oral               99.1   \n",
       "1998             114960    5/16/2017 2:38        Oral               99.5   \n",
       "1999             114960    5/16/2017 9:24        Oral               99.5   \n",
       "\n",
       "     temp_source_unit  clean_core_body_temp_celsius  \n",
       "0           Farenheit                       37.2222  \n",
       "1           Farenheit                       36.8333  \n",
       "2           Farenheit                       37.1111  \n",
       "3           Farenheit                       37.1111  \n",
       "4           Farenheit                       37.0000  \n",
       "...               ...                           ...  \n",
       "1995        Farenheit                       37.7222  \n",
       "1996        Farenheit                       37.6111  \n",
       "1997        Farenheit                       37.7778  \n",
       "1998        Farenheit                       38.0000  \n",
       "1999        Farenheit                       38.0000  \n",
       "\n",
       "[2000 rows x 6 columns]"
      ]
     },
     "execution_count": 34,
     "metadata": {},
     "output_type": "execute_result"
    }
   ],
   "source": [
    "temperature = pd.read_csv('data/temperature_sample.csv')\n",
    "temperature"
   ]
  },
  {
   "cell_type": "markdown",
   "id": "c625d3ef",
   "metadata": {},
   "source": [
    "| Field |  Description |\n",
    "| --- | --- |\n",
    "|  patient_deiden_id |  Patient identifier |\n",
    "|  vitals_datetime |  datetime of measuring the temperature |\n",
    "|  temp_source |  the way to make the observation |\n",
    "|  temp_source_value | the result value of temperature before cleaning |\n",
    "|  temp_source_unit |  the result unit of temperature before cleaning |\n",
    "|  clean_core_body_temp_celsius |  the result value of body temperature in celsius after cleaning |"
   ]
  },
  {
   "cell_type": "markdown",
   "id": "6bca4e36",
   "metadata": {},
   "source": [
    "## 6.4 Viewing Parts of a Dataframe\n",
    "Dataframes frequently hold lots of data and we want to explore them without getting pages of output."
   ]
  },
  {
   "cell_type": "code",
   "execution_count": 36,
   "id": "29ff37bb",
   "metadata": {},
   "outputs": [
    {
     "data": {
      "text/html": [
       "<div>\n",
       "<style scoped>\n",
       "    .dataframe tbody tr th:only-of-type {\n",
       "        vertical-align: middle;\n",
       "    }\n",
       "\n",
       "    .dataframe tbody tr th {\n",
       "        vertical-align: top;\n",
       "    }\n",
       "\n",
       "    .dataframe thead th {\n",
       "        text-align: right;\n",
       "    }\n",
       "</style>\n",
       "<table border=\"1\" class=\"dataframe\">\n",
       "  <thead>\n",
       "    <tr style=\"text-align: right;\">\n",
       "      <th></th>\n",
       "      <th>patient_deiden_id</th>\n",
       "      <th>vitals_datetime</th>\n",
       "      <th>temp_source</th>\n",
       "      <th>temp_source_value</th>\n",
       "      <th>temp_source_unit</th>\n",
       "      <th>clean_core_body_temp_celsius</th>\n",
       "    </tr>\n",
       "  </thead>\n",
       "  <tbody>\n",
       "    <tr>\n",
       "      <th>0</th>\n",
       "      <td>108386</td>\n",
       "      <td>10/15/2014 18:46</td>\n",
       "      <td>Oral</td>\n",
       "      <td>98.1</td>\n",
       "      <td>Farenheit</td>\n",
       "      <td>37.2222</td>\n",
       "    </tr>\n",
       "    <tr>\n",
       "      <th>1</th>\n",
       "      <td>108386</td>\n",
       "      <td>10/16/2014 3:12</td>\n",
       "      <td>Oral</td>\n",
       "      <td>97.4</td>\n",
       "      <td>Farenheit</td>\n",
       "      <td>36.8333</td>\n",
       "    </tr>\n",
       "    <tr>\n",
       "      <th>2</th>\n",
       "      <td>108386</td>\n",
       "      <td>10/16/2014 6:31</td>\n",
       "      <td>Oral</td>\n",
       "      <td>97.9</td>\n",
       "      <td>Farenheit</td>\n",
       "      <td>37.1111</td>\n",
       "    </tr>\n",
       "    <tr>\n",
       "      <th>3</th>\n",
       "      <td>108386</td>\n",
       "      <td>10/16/2014 11:40</td>\n",
       "      <td>Oral</td>\n",
       "      <td>97.9</td>\n",
       "      <td>Farenheit</td>\n",
       "      <td>37.1111</td>\n",
       "    </tr>\n",
       "    <tr>\n",
       "      <th>4</th>\n",
       "      <td>108386</td>\n",
       "      <td>10/16/2014 16:20</td>\n",
       "      <td>Oral</td>\n",
       "      <td>97.7</td>\n",
       "      <td>Farenheit</td>\n",
       "      <td>37.0000</td>\n",
       "    </tr>\n",
       "  </tbody>\n",
       "</table>\n",
       "</div>"
      ],
      "text/plain": [
       "   patient_deiden_id   vitals_datetime temp_source  temp_source_value  \\\n",
       "0             108386  10/15/2014 18:46        Oral               98.1   \n",
       "1             108386   10/16/2014 3:12        Oral               97.4   \n",
       "2             108386   10/16/2014 6:31        Oral               97.9   \n",
       "3             108386  10/16/2014 11:40        Oral               97.9   \n",
       "4             108386  10/16/2014 16:20        Oral               97.7   \n",
       "\n",
       "  temp_source_unit  clean_core_body_temp_celsius  \n",
       "0        Farenheit                       37.2222  \n",
       "1        Farenheit                       36.8333  \n",
       "2        Farenheit                       37.1111  \n",
       "3        Farenheit                       37.1111  \n",
       "4        Farenheit                       37.0000  "
      ]
     },
     "execution_count": 36,
     "metadata": {},
     "output_type": "execute_result"
    }
   ],
   "source": [
    "# View the 1st 5 rows\n",
    "temperature.head()"
   ]
  },
  {
   "cell_type": "code",
   "execution_count": 35,
   "id": "9d930f92",
   "metadata": {},
   "outputs": [
    {
     "data": {
      "text/html": [
       "<div>\n",
       "<style scoped>\n",
       "    .dataframe tbody tr th:only-of-type {\n",
       "        vertical-align: middle;\n",
       "    }\n",
       "\n",
       "    .dataframe tbody tr th {\n",
       "        vertical-align: top;\n",
       "    }\n",
       "\n",
       "    .dataframe thead th {\n",
       "        text-align: right;\n",
       "    }\n",
       "</style>\n",
       "<table border=\"1\" class=\"dataframe\">\n",
       "  <thead>\n",
       "    <tr style=\"text-align: right;\">\n",
       "      <th></th>\n",
       "      <th>patient_deiden_id</th>\n",
       "      <th>vitals_datetime</th>\n",
       "      <th>temp_source</th>\n",
       "      <th>temp_source_value</th>\n",
       "      <th>temp_source_unit</th>\n",
       "      <th>clean_core_body_temp_celsius</th>\n",
       "    </tr>\n",
       "  </thead>\n",
       "  <tbody>\n",
       "    <tr>\n",
       "      <th>1997</th>\n",
       "      <td>114960</td>\n",
       "      <td>5/16/2017 0:35</td>\n",
       "      <td>Oral</td>\n",
       "      <td>99.1</td>\n",
       "      <td>Farenheit</td>\n",
       "      <td>37.7778</td>\n",
       "    </tr>\n",
       "    <tr>\n",
       "      <th>1998</th>\n",
       "      <td>114960</td>\n",
       "      <td>5/16/2017 2:38</td>\n",
       "      <td>Oral</td>\n",
       "      <td>99.5</td>\n",
       "      <td>Farenheit</td>\n",
       "      <td>38.0000</td>\n",
       "    </tr>\n",
       "    <tr>\n",
       "      <th>1999</th>\n",
       "      <td>114960</td>\n",
       "      <td>5/16/2017 9:24</td>\n",
       "      <td>Oral</td>\n",
       "      <td>99.5</td>\n",
       "      <td>Farenheit</td>\n",
       "      <td>38.0000</td>\n",
       "    </tr>\n",
       "  </tbody>\n",
       "</table>\n",
       "</div>"
      ],
      "text/plain": [
       "      patient_deiden_id vitals_datetime temp_source  temp_source_value  \\\n",
       "1997             114960  5/16/2017 0:35        Oral               99.1   \n",
       "1998             114960  5/16/2017 2:38        Oral               99.5   \n",
       "1999             114960  5/16/2017 9:24        Oral               99.5   \n",
       "\n",
       "     temp_source_unit  clean_core_body_temp_celsius  \n",
       "1997        Farenheit                       37.7778  \n",
       "1998        Farenheit                       38.0000  \n",
       "1999        Farenheit                       38.0000  "
      ]
     },
     "execution_count": 35,
     "metadata": {},
     "output_type": "execute_result"
    }
   ],
   "source": [
    "# View the last 3 rows (head also takes a number or rows as an optional argument)\n",
    "temperature.tail(3)"
   ]
  },
  {
   "cell_type": "code",
   "execution_count": 37,
   "id": "ffbfc5a7",
   "metadata": {},
   "outputs": [
    {
     "data": {
      "text/plain": [
       "0       Oral\n",
       "1       Oral\n",
       "2       Oral\n",
       "3       Oral\n",
       "4       Oral\n",
       "        ... \n",
       "1995    Oral\n",
       "1996    Oral\n",
       "1997    Oral\n",
       "1998    Oral\n",
       "1999    Oral\n",
       "Name: temp_source, Length: 2000, dtype: object"
      ]
     },
     "execution_count": 37,
     "metadata": {},
     "output_type": "execute_result"
    }
   ],
   "source": [
    "# View one column (only works if there are no spaces in the column names!)\n",
    "temperature.temp_source"
   ]
  },
  {
   "cell_type": "code",
   "execution_count": 38,
   "id": "58e93cbb",
   "metadata": {},
   "outputs": [
    {
     "data": {
      "text/html": [
       "<div>\n",
       "<style scoped>\n",
       "    .dataframe tbody tr th:only-of-type {\n",
       "        vertical-align: middle;\n",
       "    }\n",
       "\n",
       "    .dataframe tbody tr th {\n",
       "        vertical-align: top;\n",
       "    }\n",
       "\n",
       "    .dataframe thead th {\n",
       "        text-align: right;\n",
       "    }\n",
       "</style>\n",
       "<table border=\"1\" class=\"dataframe\">\n",
       "  <thead>\n",
       "    <tr style=\"text-align: right;\">\n",
       "      <th></th>\n",
       "      <th>temp_source</th>\n",
       "      <th>temp_source_value</th>\n",
       "    </tr>\n",
       "  </thead>\n",
       "  <tbody>\n",
       "    <tr>\n",
       "      <th>0</th>\n",
       "      <td>Oral</td>\n",
       "      <td>98.1</td>\n",
       "    </tr>\n",
       "    <tr>\n",
       "      <th>1</th>\n",
       "      <td>Oral</td>\n",
       "      <td>97.4</td>\n",
       "    </tr>\n",
       "    <tr>\n",
       "      <th>2</th>\n",
       "      <td>Oral</td>\n",
       "      <td>97.9</td>\n",
       "    </tr>\n",
       "    <tr>\n",
       "      <th>3</th>\n",
       "      <td>Oral</td>\n",
       "      <td>97.9</td>\n",
       "    </tr>\n",
       "    <tr>\n",
       "      <th>4</th>\n",
       "      <td>Oral</td>\n",
       "      <td>97.7</td>\n",
       "    </tr>\n",
       "  </tbody>\n",
       "</table>\n",
       "</div>"
      ],
      "text/plain": [
       "  temp_source  temp_source_value\n",
       "0        Oral               98.1\n",
       "1        Oral               97.4\n",
       "2        Oral               97.9\n",
       "3        Oral               97.9\n",
       "4        Oral               97.7"
      ]
     },
     "execution_count": 38,
     "metadata": {},
     "output_type": "execute_result"
    }
   ],
   "source": [
    "# View multiple columns or if there are spaces in names\n",
    "# Note the double square brackets!\n",
    "temperature[['temp_source', 'temp_source_value']].head()"
   ]
  },
  {
   "cell_type": "markdown",
   "id": "c8637cf9",
   "metadata": {},
   "source": [
    "## 6.5 Indexing and Slicing\n",
    "\n",
    "To access the value of a particular cell of a DataFrame, we have two options, depending on what information we have. \n",
    "\n",
    "Columns and rows exist in an order, and can be accessed similarly to lists using numeric indices (counting from 0). Columns and rows can also have labeled names (here we only have column names for our temperature data).\n",
    "\n",
    "We'll start with two examples. Let's imagine we want to get the value from row 4, column 'clean_core_body_temp_celsius' from a dataframe. First, we need to remember that Python uses 0-based indexing. So, the 4th row is row index 3, and 'clean_core_body_temp_celsius' is column index 5."
   ]
  },
  {
   "cell_type": "code",
   "execution_count": 40,
   "id": "fdd9fd0e",
   "metadata": {},
   "outputs": [
    {
     "data": {
      "text/plain": [
       "37.1111"
      ]
     },
     "execution_count": 40,
     "metadata": {},
     "output_type": "execute_result"
    }
   ],
   "source": [
    "# Get the value from for the 4th row, colum clean_core_body_temp_celsius using iloc\n",
    "\n",
    "temperature.iloc[3,5]"
   ]
  },
  {
   "cell_type": "code",
   "execution_count": 43,
   "id": "916f190a",
   "metadata": {},
   "outputs": [
    {
     "data": {
      "text/plain": [
       "37.1111"
      ]
     },
     "execution_count": 43,
     "metadata": {},
     "output_type": "execute_result"
    }
   ],
   "source": [
    "# Get the value from for the 4th row, colum clean_core_body_temp_celsius using loc\n",
    "\n",
    "temperature.loc[3, 'clean_core_body_temp_celsius']"
   ]
  },
  {
   "cell_type": "markdown",
   "id": "a8b3384a",
   "metadata": {},
   "source": [
    "`iloc` and `loc` can be useful at different times. Learning to use each will help you as you go. "
   ]
  },
  {
   "cell_type": "markdown",
   "id": "c21a09f4",
   "metadata": {},
   "source": [
    "### 6.6.1 Select multiple columns or rows using `DataFrame.loc` and a named slice"
   ]
  },
  {
   "cell_type": "code",
   "execution_count": 45,
   "id": "20ecd659",
   "metadata": {},
   "outputs": [
    {
     "data": {
      "text/html": [
       "<div>\n",
       "<style scoped>\n",
       "    .dataframe tbody tr th:only-of-type {\n",
       "        vertical-align: middle;\n",
       "    }\n",
       "\n",
       "    .dataframe tbody tr th {\n",
       "        vertical-align: top;\n",
       "    }\n",
       "\n",
       "    .dataframe thead th {\n",
       "        text-align: right;\n",
       "    }\n",
       "</style>\n",
       "<table border=\"1\" class=\"dataframe\">\n",
       "  <thead>\n",
       "    <tr style=\"text-align: right;\">\n",
       "      <th></th>\n",
       "      <th>patient_deiden_id</th>\n",
       "      <th>vitals_datetime</th>\n",
       "      <th>temp_source</th>\n",
       "      <th>temp_source_value</th>\n",
       "    </tr>\n",
       "  </thead>\n",
       "  <tbody>\n",
       "    <tr>\n",
       "      <th>0</th>\n",
       "      <td>108386</td>\n",
       "      <td>10/15/2014 18:46</td>\n",
       "      <td>Oral</td>\n",
       "      <td>98.1</td>\n",
       "    </tr>\n",
       "    <tr>\n",
       "      <th>1</th>\n",
       "      <td>108386</td>\n",
       "      <td>10/16/2014 3:12</td>\n",
       "      <td>Oral</td>\n",
       "      <td>97.4</td>\n",
       "    </tr>\n",
       "    <tr>\n",
       "      <th>2</th>\n",
       "      <td>108386</td>\n",
       "      <td>10/16/2014 6:31</td>\n",
       "      <td>Oral</td>\n",
       "      <td>97.9</td>\n",
       "    </tr>\n",
       "    <tr>\n",
       "      <th>3</th>\n",
       "      <td>108386</td>\n",
       "      <td>10/16/2014 11:40</td>\n",
       "      <td>Oral</td>\n",
       "      <td>97.9</td>\n",
       "    </tr>\n",
       "  </tbody>\n",
       "</table>\n",
       "</div>"
      ],
      "text/plain": [
       "   patient_deiden_id   vitals_datetime temp_source  temp_source_value\n",
       "0             108386  10/15/2014 18:46        Oral               98.1\n",
       "1             108386   10/16/2014 3:12        Oral               97.4\n",
       "2             108386   10/16/2014 6:31        Oral               97.9\n",
       "3             108386  10/16/2014 11:40        Oral               97.9"
      ]
     },
     "execution_count": 45,
     "metadata": {},
     "output_type": "execute_result"
    }
   ],
   "source": [
    "temperature.loc[0:3, 'patient_deiden_id':'temp_source_value']"
   ]
  },
  {
   "cell_type": "markdown",
   "id": "8018226b",
   "metadata": {},
   "source": [
    "In the above code, we discover that **slicing using `loc` is inclusive at both ends**, which differs from **slicing using `iloc`, where slicing indicates everything up to but not including the final index**. And 'iloc' only supports interger-location based indexing, that is for 'patient_deiden_id':'temp_source_value' used above, we should replace it with numeric indices 0:3."
   ]
  },
  {
   "cell_type": "code",
   "execution_count": 49,
   "id": "05ead60e",
   "metadata": {},
   "outputs": [
    {
     "data": {
      "text/html": [
       "<div>\n",
       "<style scoped>\n",
       "    .dataframe tbody tr th:only-of-type {\n",
       "        vertical-align: middle;\n",
       "    }\n",
       "\n",
       "    .dataframe tbody tr th {\n",
       "        vertical-align: top;\n",
       "    }\n",
       "\n",
       "    .dataframe thead th {\n",
       "        text-align: right;\n",
       "    }\n",
       "</style>\n",
       "<table border=\"1\" class=\"dataframe\">\n",
       "  <thead>\n",
       "    <tr style=\"text-align: right;\">\n",
       "      <th></th>\n",
       "      <th>patient_deiden_id</th>\n",
       "      <th>vitals_datetime</th>\n",
       "      <th>temp_source</th>\n",
       "    </tr>\n",
       "  </thead>\n",
       "  <tbody>\n",
       "    <tr>\n",
       "      <th>0</th>\n",
       "      <td>108386</td>\n",
       "      <td>10/15/2014 18:46</td>\n",
       "      <td>Oral</td>\n",
       "    </tr>\n",
       "    <tr>\n",
       "      <th>1</th>\n",
       "      <td>108386</td>\n",
       "      <td>10/16/2014 3:12</td>\n",
       "      <td>Oral</td>\n",
       "    </tr>\n",
       "    <tr>\n",
       "      <th>2</th>\n",
       "      <td>108386</td>\n",
       "      <td>10/16/2014 6:31</td>\n",
       "      <td>Oral</td>\n",
       "    </tr>\n",
       "  </tbody>\n",
       "</table>\n",
       "</div>"
      ],
      "text/plain": [
       "   patient_deiden_id   vitals_datetime temp_source\n",
       "0             108386  10/15/2014 18:46        Oral\n",
       "1             108386   10/16/2014 3:12        Oral\n",
       "2             108386   10/16/2014 6:31        Oral"
      ]
     },
     "execution_count": 49,
     "metadata": {},
     "output_type": "execute_result"
    }
   ],
   "source": [
    "temperature.iloc[0:3,0:3]"
   ]
  },
  {
   "cell_type": "markdown",
   "id": "031c4f16",
   "metadata": {},
   "source": [
    "If we want to select multiple noncontinuous columns, we can create a list including the column names we want to select. For example, we want to select temperature data with selected columns 'patient_deiden_id', 'vitals_datetime', and 'clean_core_body_temp_celsius'."
   ]
  },
  {
   "cell_type": "code",
   "execution_count": 19,
   "id": "061c7c5d",
   "metadata": {},
   "outputs": [
    {
     "data": {
      "text/html": [
       "<div>\n",
       "<style scoped>\n",
       "    .dataframe tbody tr th:only-of-type {\n",
       "        vertical-align: middle;\n",
       "    }\n",
       "\n",
       "    .dataframe tbody tr th {\n",
       "        vertical-align: top;\n",
       "    }\n",
       "\n",
       "    .dataframe thead th {\n",
       "        text-align: right;\n",
       "    }\n",
       "</style>\n",
       "<table border=\"1\" class=\"dataframe\">\n",
       "  <thead>\n",
       "    <tr style=\"text-align: right;\">\n",
       "      <th></th>\n",
       "      <th>patient_deiden_id</th>\n",
       "      <th>vitals_datetime</th>\n",
       "      <th>clean_core_body_temp_celsius</th>\n",
       "    </tr>\n",
       "  </thead>\n",
       "  <tbody>\n",
       "    <tr>\n",
       "      <th>0</th>\n",
       "      <td>108386</td>\n",
       "      <td>10/15/2014 18:46</td>\n",
       "      <td>37.2222</td>\n",
       "    </tr>\n",
       "    <tr>\n",
       "      <th>1</th>\n",
       "      <td>108386</td>\n",
       "      <td>10/16/2014 3:12</td>\n",
       "      <td>36.8333</td>\n",
       "    </tr>\n",
       "    <tr>\n",
       "      <th>2</th>\n",
       "      <td>108386</td>\n",
       "      <td>10/16/2014 6:31</td>\n",
       "      <td>37.1111</td>\n",
       "    </tr>\n",
       "    <tr>\n",
       "      <th>3</th>\n",
       "      <td>108386</td>\n",
       "      <td>10/16/2014 11:40</td>\n",
       "      <td>37.1111</td>\n",
       "    </tr>\n",
       "  </tbody>\n",
       "</table>\n",
       "</div>"
      ],
      "text/plain": [
       "   patient_deiden_id   vitals_datetime  clean_core_body_temp_celsius\n",
       "0             108386  10/15/2014 18:46                       37.2222\n",
       "1             108386   10/16/2014 3:12                       36.8333\n",
       "2             108386   10/16/2014 6:31                       37.1111\n",
       "3             108386  10/16/2014 11:40                       37.1111"
      ]
     },
     "execution_count": 19,
     "metadata": {},
     "output_type": "execute_result"
    }
   ],
   "source": [
    "temperature_select = temperature.loc[0:3, ['patient_deiden_id', 'vitals_datetime', 'clean_core_body_temp_celsius']]\n",
    "temperature_select"
   ]
  },
  {
   "cell_type": "markdown",
   "id": "a83eb89e",
   "metadata": {},
   "source": [
    "### 6.6.2 Result of slicing can be used in further operations\n",
    "\n",
    "* SLices are most typically used to select portions of data tables, not simply print them\n",
    "* All the statistical operators that work on entire dataframes work the same way on slices.\n",
    "* E.g., calculate max of a slice."
   ]
  },
  {
   "cell_type": "code",
   "execution_count": 51,
   "id": "c7e2efc3",
   "metadata": {},
   "outputs": [
    {
     "data": {
      "text/plain": [
       "temp_source_value               99.0000\n",
       "clean_core_body_temp_celsius    38.2222\n",
       "dtype: float64"
      ]
     },
     "execution_count": 51,
     "metadata": {},
     "output_type": "execute_result"
    }
   ],
   "source": [
    "temperature.loc[0:200, ['temp_source_value', 'clean_core_body_temp_celsius']].max()"
   ]
  },
  {
   "cell_type": "code",
   "execution_count": 52,
   "id": "2c103183",
   "metadata": {},
   "outputs": [
    {
     "data": {
      "text/plain": [
       "temp_source_value               93.3000\n",
       "clean_core_body_temp_celsius    34.5556\n",
       "dtype: float64"
      ]
     },
     "execution_count": 52,
     "metadata": {},
     "output_type": "execute_result"
    }
   ],
   "source": [
    "temperature.loc[0:200, ['temp_source_value', 'clean_core_body_temp_celsius']].min()"
   ]
  },
  {
   "cell_type": "markdown",
   "id": "020725fb",
   "metadata": {},
   "source": [
    "## 6.7 Use comparisons to select data based on value\n",
    "\n",
    "* Comparison is applied element by element.\n",
    "* Returns a similarly-shaped dataframe of `True` and `False`."
   ]
  },
  {
   "cell_type": "code",
   "execution_count": 61,
   "id": "3d2d4600",
   "metadata": {},
   "outputs": [
    {
     "name": "stdout",
     "output_type": "stream",
     "text": [
      "Subset of data:\n",
      "      temp_source_value  clean_core_body_temp_celsius\n",
      "0                 98.1                       37.2222\n",
      "1                 97.4                       36.8333\n",
      "2                 97.9                       37.1111\n",
      "3                 97.9                       37.1111\n",
      "4                 97.7                       37.0000\n",
      "..                 ...                           ...\n",
      "196               97.8                       37.0556\n",
      "197               98.8                       38.1111\n",
      "198               99.0                       38.2222\n",
      "199               98.6                       37.5000\n",
      "200               98.4                       37.3889\n",
      "\n",
      "[201 rows x 2 columns]\n",
      "\n",
      "Where are values large?\n",
      "      temp_source_value  clean_core_body_temp_celsius\n",
      "0                 True                         False\n",
      "1                 True                         False\n",
      "2                 True                         False\n",
      "3                 True                         False\n",
      "4                 True                         False\n",
      "..                 ...                           ...\n",
      "196               True                         False\n",
      "197               True                          True\n",
      "198               True                          True\n",
      "199               True                         False\n",
      "200               True                         False\n",
      "\n",
      "[201 rows x 2 columns]\n"
     ]
    }
   ],
   "source": [
    "# Use a subset of data to keep output readable.\n",
    "subset = temperature.loc[0:200,  ['temp_source_value', 'clean_core_body_temp_celsius']]\n",
    "print('Subset of data:\\n', subset)\n",
    "\n",
    "# Which values were greater than 38 ?\n",
    "print('\\nWhere are values large?\\n', subset > 38)"
   ]
  },
  {
   "cell_type": "markdown",
   "id": "afc5dec7",
   "metadata": {},
   "source": [
    "## 6.8 Creating and deleting new rows and columns\n",
    "\n",
    "We can add and remove rows and columns in our dataframes.\n",
    "\n",
    "Let's add a column with the conversion of temperature values in Farenheit to Celsius "
   ]
  },
  {
   "cell_type": "code",
   "execution_count": 56,
   "id": "107af062",
   "metadata": {},
   "outputs": [
    {
     "data": {
      "text/html": [
       "<div>\n",
       "<style scoped>\n",
       "    .dataframe tbody tr th:only-of-type {\n",
       "        vertical-align: middle;\n",
       "    }\n",
       "\n",
       "    .dataframe tbody tr th {\n",
       "        vertical-align: top;\n",
       "    }\n",
       "\n",
       "    .dataframe thead th {\n",
       "        text-align: right;\n",
       "    }\n",
       "</style>\n",
       "<table border=\"1\" class=\"dataframe\">\n",
       "  <thead>\n",
       "    <tr style=\"text-align: right;\">\n",
       "      <th></th>\n",
       "      <th>patient_deiden_id</th>\n",
       "      <th>vitals_datetime</th>\n",
       "      <th>temp_source</th>\n",
       "      <th>temp_source_value</th>\n",
       "      <th>temp_source_unit</th>\n",
       "      <th>clean_core_body_temp_celsius</th>\n",
       "      <th>temp_celsius</th>\n",
       "    </tr>\n",
       "  </thead>\n",
       "  <tbody>\n",
       "    <tr>\n",
       "      <th>0</th>\n",
       "      <td>108386</td>\n",
       "      <td>10/15/2014 18:46</td>\n",
       "      <td>Oral</td>\n",
       "      <td>98.1</td>\n",
       "      <td>Farenheit</td>\n",
       "      <td>37.2222</td>\n",
       "      <td>36.722222</td>\n",
       "    </tr>\n",
       "    <tr>\n",
       "      <th>1</th>\n",
       "      <td>108386</td>\n",
       "      <td>10/16/2014 3:12</td>\n",
       "      <td>Oral</td>\n",
       "      <td>97.4</td>\n",
       "      <td>Farenheit</td>\n",
       "      <td>36.8333</td>\n",
       "      <td>36.333333</td>\n",
       "    </tr>\n",
       "    <tr>\n",
       "      <th>2</th>\n",
       "      <td>108386</td>\n",
       "      <td>10/16/2014 6:31</td>\n",
       "      <td>Oral</td>\n",
       "      <td>97.9</td>\n",
       "      <td>Farenheit</td>\n",
       "      <td>37.1111</td>\n",
       "      <td>36.611111</td>\n",
       "    </tr>\n",
       "    <tr>\n",
       "      <th>3</th>\n",
       "      <td>108386</td>\n",
       "      <td>10/16/2014 11:40</td>\n",
       "      <td>Oral</td>\n",
       "      <td>97.9</td>\n",
       "      <td>Farenheit</td>\n",
       "      <td>37.1111</td>\n",
       "      <td>36.611111</td>\n",
       "    </tr>\n",
       "    <tr>\n",
       "      <th>4</th>\n",
       "      <td>108386</td>\n",
       "      <td>10/16/2014 16:20</td>\n",
       "      <td>Oral</td>\n",
       "      <td>97.7</td>\n",
       "      <td>Farenheit</td>\n",
       "      <td>37.0000</td>\n",
       "      <td>36.500000</td>\n",
       "    </tr>\n",
       "  </tbody>\n",
       "</table>\n",
       "</div>"
      ],
      "text/plain": [
       "   patient_deiden_id   vitals_datetime temp_source  temp_source_value  \\\n",
       "0             108386  10/15/2014 18:46        Oral               98.1   \n",
       "1             108386   10/16/2014 3:12        Oral               97.4   \n",
       "2             108386   10/16/2014 6:31        Oral               97.9   \n",
       "3             108386  10/16/2014 11:40        Oral               97.9   \n",
       "4             108386  10/16/2014 16:20        Oral               97.7   \n",
       "\n",
       "  temp_source_unit  clean_core_body_temp_celsius  temp_celsius  \n",
       "0        Farenheit                       37.2222     36.722222  \n",
       "1        Farenheit                       36.8333     36.333333  \n",
       "2        Farenheit                       37.1111     36.611111  \n",
       "3        Farenheit                       37.1111     36.611111  \n",
       "4        Farenheit                       37.0000     36.500000  "
      ]
     },
     "execution_count": 56,
     "metadata": {},
     "output_type": "execute_result"
    }
   ],
   "source": [
    "temperature['temp_celsius'] = (temperature['temp_source_value'] - 32) * 5 / 9\n",
    "temperature.head()"
   ]
  },
  {
   "cell_type": "markdown",
   "id": "3ebe98a4",
   "metadata": {},
   "source": [
    "We can **drop** columns. Let's say, we determined that there was something wrong with the converted 'temp_celsius' and we want to get rid of the column"
   ]
  },
  {
   "cell_type": "code",
   "execution_count": 57,
   "id": "48b57eaa",
   "metadata": {},
   "outputs": [
    {
     "data": {
      "text/html": [
       "<div>\n",
       "<style scoped>\n",
       "    .dataframe tbody tr th:only-of-type {\n",
       "        vertical-align: middle;\n",
       "    }\n",
       "\n",
       "    .dataframe tbody tr th {\n",
       "        vertical-align: top;\n",
       "    }\n",
       "\n",
       "    .dataframe thead th {\n",
       "        text-align: right;\n",
       "    }\n",
       "</style>\n",
       "<table border=\"1\" class=\"dataframe\">\n",
       "  <thead>\n",
       "    <tr style=\"text-align: right;\">\n",
       "      <th></th>\n",
       "      <th>patient_deiden_id</th>\n",
       "      <th>vitals_datetime</th>\n",
       "      <th>temp_source</th>\n",
       "      <th>temp_source_value</th>\n",
       "      <th>temp_source_unit</th>\n",
       "      <th>clean_core_body_temp_celsius</th>\n",
       "      <th>temp_celsius</th>\n",
       "    </tr>\n",
       "  </thead>\n",
       "  <tbody>\n",
       "    <tr>\n",
       "      <th>0</th>\n",
       "      <td>108386</td>\n",
       "      <td>10/15/2014 18:46</td>\n",
       "      <td>Oral</td>\n",
       "      <td>98.1</td>\n",
       "      <td>Farenheit</td>\n",
       "      <td>37.2222</td>\n",
       "      <td>36.722222</td>\n",
       "    </tr>\n",
       "    <tr>\n",
       "      <th>1</th>\n",
       "      <td>108386</td>\n",
       "      <td>10/16/2014 3:12</td>\n",
       "      <td>Oral</td>\n",
       "      <td>97.4</td>\n",
       "      <td>Farenheit</td>\n",
       "      <td>36.8333</td>\n",
       "      <td>36.333333</td>\n",
       "    </tr>\n",
       "    <tr>\n",
       "      <th>2</th>\n",
       "      <td>108386</td>\n",
       "      <td>10/16/2014 6:31</td>\n",
       "      <td>Oral</td>\n",
       "      <td>97.9</td>\n",
       "      <td>Farenheit</td>\n",
       "      <td>37.1111</td>\n",
       "      <td>36.611111</td>\n",
       "    </tr>\n",
       "    <tr>\n",
       "      <th>3</th>\n",
       "      <td>108386</td>\n",
       "      <td>10/16/2014 11:40</td>\n",
       "      <td>Oral</td>\n",
       "      <td>97.9</td>\n",
       "      <td>Farenheit</td>\n",
       "      <td>37.1111</td>\n",
       "      <td>36.611111</td>\n",
       "    </tr>\n",
       "    <tr>\n",
       "      <th>4</th>\n",
       "      <td>108386</td>\n",
       "      <td>10/16/2014 16:20</td>\n",
       "      <td>Oral</td>\n",
       "      <td>97.7</td>\n",
       "      <td>Farenheit</td>\n",
       "      <td>37.0000</td>\n",
       "      <td>36.500000</td>\n",
       "    </tr>\n",
       "  </tbody>\n",
       "</table>\n",
       "</div>"
      ],
      "text/plain": [
       "   patient_deiden_id   vitals_datetime temp_source  temp_source_value  \\\n",
       "0             108386  10/15/2014 18:46        Oral               98.1   \n",
       "1             108386   10/16/2014 3:12        Oral               97.4   \n",
       "2             108386   10/16/2014 6:31        Oral               97.9   \n",
       "3             108386  10/16/2014 11:40        Oral               97.9   \n",
       "4             108386  10/16/2014 16:20        Oral               97.7   \n",
       "\n",
       "  temp_source_unit  clean_core_body_temp_celsius  temp_celsius  \n",
       "0        Farenheit                       37.2222     36.722222  \n",
       "1        Farenheit                       36.8333     36.333333  \n",
       "2        Farenheit                       37.1111     36.611111  \n",
       "3        Farenheit                       37.1111     36.611111  \n",
       "4        Farenheit                       37.0000     36.500000  "
      ]
     },
     "execution_count": 57,
     "metadata": {},
     "output_type": "execute_result"
    }
   ],
   "source": [
    "temperature.drop('temp_source_value', axis=1)\n",
    "\n",
    "temperature.head()"
   ]
  },
  {
   "cell_type": "markdown",
   "id": "6af31be9",
   "metadata": {},
   "source": [
    "**What happened?? `temp_celsius` is still there!!**\n",
    "\n",
    "<div style=\"padding: 10px;margin-bottom: 20px;border: thin solid #E5C250;border-left-width: 10px;background-color: #fff\">\n",
    "    <p><strong>Tip:</strong> Unless you specify <code>inplace=True</code> or assign the dataframe back to itself (or a different variable name) <strong>the <code>drop</code> method does not change the original dataframe!!</strong></p>\n",
    "   </div>"
   ]
  },
  {
   "cell_type": "code",
   "execution_count": 58,
   "id": "f567810d",
   "metadata": {},
   "outputs": [
    {
     "data": {
      "text/html": [
       "<div>\n",
       "<style scoped>\n",
       "    .dataframe tbody tr th:only-of-type {\n",
       "        vertical-align: middle;\n",
       "    }\n",
       "\n",
       "    .dataframe tbody tr th {\n",
       "        vertical-align: top;\n",
       "    }\n",
       "\n",
       "    .dataframe thead th {\n",
       "        text-align: right;\n",
       "    }\n",
       "</style>\n",
       "<table border=\"1\" class=\"dataframe\">\n",
       "  <thead>\n",
       "    <tr style=\"text-align: right;\">\n",
       "      <th></th>\n",
       "      <th>patient_deiden_id</th>\n",
       "      <th>vitals_datetime</th>\n",
       "      <th>temp_source</th>\n",
       "      <th>temp_source_value</th>\n",
       "      <th>temp_source_unit</th>\n",
       "      <th>clean_core_body_temp_celsius</th>\n",
       "    </tr>\n",
       "  </thead>\n",
       "  <tbody>\n",
       "    <tr>\n",
       "      <th>0</th>\n",
       "      <td>108386</td>\n",
       "      <td>10/15/2014 18:46</td>\n",
       "      <td>Oral</td>\n",
       "      <td>98.1</td>\n",
       "      <td>Farenheit</td>\n",
       "      <td>37.2222</td>\n",
       "    </tr>\n",
       "    <tr>\n",
       "      <th>1</th>\n",
       "      <td>108386</td>\n",
       "      <td>10/16/2014 3:12</td>\n",
       "      <td>Oral</td>\n",
       "      <td>97.4</td>\n",
       "      <td>Farenheit</td>\n",
       "      <td>36.8333</td>\n",
       "    </tr>\n",
       "    <tr>\n",
       "      <th>2</th>\n",
       "      <td>108386</td>\n",
       "      <td>10/16/2014 6:31</td>\n",
       "      <td>Oral</td>\n",
       "      <td>97.9</td>\n",
       "      <td>Farenheit</td>\n",
       "      <td>37.1111</td>\n",
       "    </tr>\n",
       "    <tr>\n",
       "      <th>3</th>\n",
       "      <td>108386</td>\n",
       "      <td>10/16/2014 11:40</td>\n",
       "      <td>Oral</td>\n",
       "      <td>97.9</td>\n",
       "      <td>Farenheit</td>\n",
       "      <td>37.1111</td>\n",
       "    </tr>\n",
       "    <tr>\n",
       "      <th>4</th>\n",
       "      <td>108386</td>\n",
       "      <td>10/16/2014 16:20</td>\n",
       "      <td>Oral</td>\n",
       "      <td>97.7</td>\n",
       "      <td>Farenheit</td>\n",
       "      <td>37.0000</td>\n",
       "    </tr>\n",
       "  </tbody>\n",
       "</table>\n",
       "</div>"
      ],
      "text/plain": [
       "   patient_deiden_id   vitals_datetime temp_source  temp_source_value  \\\n",
       "0             108386  10/15/2014 18:46        Oral               98.1   \n",
       "1             108386   10/16/2014 3:12        Oral               97.4   \n",
       "2             108386   10/16/2014 6:31        Oral               97.9   \n",
       "3             108386  10/16/2014 11:40        Oral               97.9   \n",
       "4             108386  10/16/2014 16:20        Oral               97.7   \n",
       "\n",
       "  temp_source_unit  clean_core_body_temp_celsius  \n",
       "0        Farenheit                       37.2222  \n",
       "1        Farenheit                       36.8333  \n",
       "2        Farenheit                       37.1111  \n",
       "3        Farenheit                       37.1111  \n",
       "4        Farenheit                       37.0000  "
      ]
     },
     "execution_count": 58,
     "metadata": {},
     "output_type": "execute_result"
    }
   ],
   "source": [
    "# Redo above, assigning result to another different name\n",
    "temperature_v2 = temperature.drop('temp_celsius', axis=1)\n",
    "\n",
    "temperature_v2.head()"
   ]
  },
  {
   "cell_type": "code",
   "execution_count": 59,
   "id": "ccf9d0b4",
   "metadata": {},
   "outputs": [
    {
     "data": {
      "text/html": [
       "<div>\n",
       "<style scoped>\n",
       "    .dataframe tbody tr th:only-of-type {\n",
       "        vertical-align: middle;\n",
       "    }\n",
       "\n",
       "    .dataframe tbody tr th {\n",
       "        vertical-align: top;\n",
       "    }\n",
       "\n",
       "    .dataframe thead th {\n",
       "        text-align: right;\n",
       "    }\n",
       "</style>\n",
       "<table border=\"1\" class=\"dataframe\">\n",
       "  <thead>\n",
       "    <tr style=\"text-align: right;\">\n",
       "      <th></th>\n",
       "      <th>patient_deiden_id</th>\n",
       "      <th>vitals_datetime</th>\n",
       "      <th>temp_source</th>\n",
       "      <th>temp_source_value</th>\n",
       "      <th>temp_source_unit</th>\n",
       "      <th>clean_core_body_temp_celsius</th>\n",
       "    </tr>\n",
       "  </thead>\n",
       "  <tbody>\n",
       "    <tr>\n",
       "      <th>0</th>\n",
       "      <td>108386</td>\n",
       "      <td>10/15/2014 18:46</td>\n",
       "      <td>Oral</td>\n",
       "      <td>98.1</td>\n",
       "      <td>Farenheit</td>\n",
       "      <td>37.2222</td>\n",
       "    </tr>\n",
       "    <tr>\n",
       "      <th>1</th>\n",
       "      <td>108386</td>\n",
       "      <td>10/16/2014 3:12</td>\n",
       "      <td>Oral</td>\n",
       "      <td>97.4</td>\n",
       "      <td>Farenheit</td>\n",
       "      <td>36.8333</td>\n",
       "    </tr>\n",
       "    <tr>\n",
       "      <th>2</th>\n",
       "      <td>108386</td>\n",
       "      <td>10/16/2014 6:31</td>\n",
       "      <td>Oral</td>\n",
       "      <td>97.9</td>\n",
       "      <td>Farenheit</td>\n",
       "      <td>37.1111</td>\n",
       "    </tr>\n",
       "    <tr>\n",
       "      <th>3</th>\n",
       "      <td>108386</td>\n",
       "      <td>10/16/2014 11:40</td>\n",
       "      <td>Oral</td>\n",
       "      <td>97.9</td>\n",
       "      <td>Farenheit</td>\n",
       "      <td>37.1111</td>\n",
       "    </tr>\n",
       "    <tr>\n",
       "      <th>4</th>\n",
       "      <td>108386</td>\n",
       "      <td>10/16/2014 16:20</td>\n",
       "      <td>Oral</td>\n",
       "      <td>97.7</td>\n",
       "      <td>Farenheit</td>\n",
       "      <td>37.0000</td>\n",
       "    </tr>\n",
       "  </tbody>\n",
       "</table>\n",
       "</div>"
      ],
      "text/plain": [
       "   patient_deiden_id   vitals_datetime temp_source  temp_source_value  \\\n",
       "0             108386  10/15/2014 18:46        Oral               98.1   \n",
       "1             108386   10/16/2014 3:12        Oral               97.4   \n",
       "2             108386   10/16/2014 6:31        Oral               97.9   \n",
       "3             108386  10/16/2014 11:40        Oral               97.9   \n",
       "4             108386  10/16/2014 16:20        Oral               97.7   \n",
       "\n",
       "  temp_source_unit  clean_core_body_temp_celsius  \n",
       "0        Farenheit                       37.2222  \n",
       "1        Farenheit                       36.8333  \n",
       "2        Farenheit                       37.1111  \n",
       "3        Farenheit                       37.1111  \n",
       "4        Farenheit                       37.0000  "
      ]
     },
     "execution_count": 59,
     "metadata": {},
     "output_type": "execute_result"
    }
   ],
   "source": [
    "# Use inplace=True to drop temp_celsius\n",
    "\n",
    "temperature.drop('temp_celsius', axis=1, inplace=True)\n",
    "\n",
    "temperature.head()"
   ]
  },
  {
   "cell_type": "markdown",
   "id": "077a065d",
   "metadata": {},
   "source": [
    "## 6.9 Select values or `NaN` using a Boolean mask\n",
    "* A frame full of Booleans is sometimes called a *mask* because of how it can be used."
   ]
  },
  {
   "cell_type": "code",
   "execution_count": 62,
   "id": "0fe44028",
   "metadata": {},
   "outputs": [
    {
     "data": {
      "text/html": [
       "<div>\n",
       "<style scoped>\n",
       "    .dataframe tbody tr th:only-of-type {\n",
       "        vertical-align: middle;\n",
       "    }\n",
       "\n",
       "    .dataframe tbody tr th {\n",
       "        vertical-align: top;\n",
       "    }\n",
       "\n",
       "    .dataframe thead th {\n",
       "        text-align: right;\n",
       "    }\n",
       "</style>\n",
       "<table border=\"1\" class=\"dataframe\">\n",
       "  <thead>\n",
       "    <tr style=\"text-align: right;\">\n",
       "      <th></th>\n",
       "      <th>temp_source_value</th>\n",
       "      <th>clean_core_body_temp_celsius</th>\n",
       "    </tr>\n",
       "  </thead>\n",
       "  <tbody>\n",
       "    <tr>\n",
       "      <th>0</th>\n",
       "      <td>98.1</td>\n",
       "      <td>37.2222</td>\n",
       "    </tr>\n",
       "    <tr>\n",
       "      <th>1</th>\n",
       "      <td>97.4</td>\n",
       "      <td>NaN</td>\n",
       "    </tr>\n",
       "    <tr>\n",
       "      <th>2</th>\n",
       "      <td>97.9</td>\n",
       "      <td>37.1111</td>\n",
       "    </tr>\n",
       "    <tr>\n",
       "      <th>3</th>\n",
       "      <td>97.9</td>\n",
       "      <td>37.1111</td>\n",
       "    </tr>\n",
       "    <tr>\n",
       "      <th>4</th>\n",
       "      <td>97.7</td>\n",
       "      <td>NaN</td>\n",
       "    </tr>\n",
       "    <tr>\n",
       "      <th>...</th>\n",
       "      <td>...</td>\n",
       "      <td>...</td>\n",
       "    </tr>\n",
       "    <tr>\n",
       "      <th>196</th>\n",
       "      <td>97.8</td>\n",
       "      <td>37.0556</td>\n",
       "    </tr>\n",
       "    <tr>\n",
       "      <th>197</th>\n",
       "      <td>98.8</td>\n",
       "      <td>38.1111</td>\n",
       "    </tr>\n",
       "    <tr>\n",
       "      <th>198</th>\n",
       "      <td>99.0</td>\n",
       "      <td>38.2222</td>\n",
       "    </tr>\n",
       "    <tr>\n",
       "      <th>199</th>\n",
       "      <td>98.6</td>\n",
       "      <td>37.5000</td>\n",
       "    </tr>\n",
       "    <tr>\n",
       "      <th>200</th>\n",
       "      <td>98.4</td>\n",
       "      <td>37.3889</td>\n",
       "    </tr>\n",
       "  </tbody>\n",
       "</table>\n",
       "<p>201 rows × 2 columns</p>\n",
       "</div>"
      ],
      "text/plain": [
       "     temp_source_value  clean_core_body_temp_celsius\n",
       "0                 98.1                       37.2222\n",
       "1                 97.4                           NaN\n",
       "2                 97.9                       37.1111\n",
       "3                 97.9                       37.1111\n",
       "4                 97.7                           NaN\n",
       "..                 ...                           ...\n",
       "196               97.8                       37.0556\n",
       "197               98.8                       38.1111\n",
       "198               99.0                       38.2222\n",
       "199               98.6                       37.5000\n",
       "200               98.4                       37.3889\n",
       "\n",
       "[201 rows x 2 columns]"
      ]
     },
     "execution_count": 62,
     "metadata": {},
     "output_type": "execute_result"
    }
   ],
   "source": [
    "mask = subset > 37\n",
    "subset[mask]"
   ]
  },
  {
   "cell_type": "markdown",
   "id": "6600c6eb",
   "metadata": {},
   "source": [
    "* Get the value where the mask is true, and NaN (Not a Number) where it is false.\n",
    "* Useful because NaNs are ignored by operations like max, min, average, etc."
   ]
  },
  {
   "cell_type": "code",
   "execution_count": 63,
   "id": "1be0f682",
   "metadata": {},
   "outputs": [
    {
     "data": {
      "text/html": [
       "<div>\n",
       "<style scoped>\n",
       "    .dataframe tbody tr th:only-of-type {\n",
       "        vertical-align: middle;\n",
       "    }\n",
       "\n",
       "    .dataframe tbody tr th {\n",
       "        vertical-align: top;\n",
       "    }\n",
       "\n",
       "    .dataframe thead th {\n",
       "        text-align: right;\n",
       "    }\n",
       "</style>\n",
       "<table border=\"1\" class=\"dataframe\">\n",
       "  <thead>\n",
       "    <tr style=\"text-align: right;\">\n",
       "      <th></th>\n",
       "      <th>temp_source_value</th>\n",
       "      <th>clean_core_body_temp_celsius</th>\n",
       "    </tr>\n",
       "  </thead>\n",
       "  <tbody>\n",
       "    <tr>\n",
       "      <th>count</th>\n",
       "      <td>201.000000</td>\n",
       "      <td>26.000000</td>\n",
       "    </tr>\n",
       "    <tr>\n",
       "      <th>mean</th>\n",
       "      <td>97.283085</td>\n",
       "      <td>37.329058</td>\n",
       "    </tr>\n",
       "    <tr>\n",
       "      <th>std</th>\n",
       "      <td>0.804060</td>\n",
       "      <td>0.284545</td>\n",
       "    </tr>\n",
       "    <tr>\n",
       "      <th>min</th>\n",
       "      <td>93.300000</td>\n",
       "      <td>37.055600</td>\n",
       "    </tr>\n",
       "    <tr>\n",
       "      <th>25%</th>\n",
       "      <td>97.300000</td>\n",
       "      <td>37.125000</td>\n",
       "    </tr>\n",
       "    <tr>\n",
       "      <th>50%</th>\n",
       "      <td>97.400000</td>\n",
       "      <td>37.222200</td>\n",
       "    </tr>\n",
       "    <tr>\n",
       "      <th>75%</th>\n",
       "      <td>97.500000</td>\n",
       "      <td>37.388900</td>\n",
       "    </tr>\n",
       "    <tr>\n",
       "      <th>max</th>\n",
       "      <td>99.000000</td>\n",
       "      <td>38.222200</td>\n",
       "    </tr>\n",
       "  </tbody>\n",
       "</table>\n",
       "</div>"
      ],
      "text/plain": [
       "       temp_source_value  clean_core_body_temp_celsius\n",
       "count         201.000000                     26.000000\n",
       "mean           97.283085                     37.329058\n",
       "std             0.804060                      0.284545\n",
       "min            93.300000                     37.055600\n",
       "25%            97.300000                     37.125000\n",
       "50%            97.400000                     37.222200\n",
       "75%            97.500000                     37.388900\n",
       "max            99.000000                     38.222200"
      ]
     },
     "execution_count": 63,
     "metadata": {},
     "output_type": "execute_result"
    }
   ],
   "source": [
    "subset[subset > 37].describe()"
   ]
  },
  {
   "cell_type": "code",
   "execution_count": 64,
   "id": "f5f955c5",
   "metadata": {},
   "outputs": [
    {
     "data": {
      "text/html": [
       "<div>\n",
       "<style scoped>\n",
       "    .dataframe tbody tr th:only-of-type {\n",
       "        vertical-align: middle;\n",
       "    }\n",
       "\n",
       "    .dataframe tbody tr th {\n",
       "        vertical-align: top;\n",
       "    }\n",
       "\n",
       "    .dataframe thead th {\n",
       "        text-align: right;\n",
       "    }\n",
       "</style>\n",
       "<table border=\"1\" class=\"dataframe\">\n",
       "  <thead>\n",
       "    <tr style=\"text-align: right;\">\n",
       "      <th></th>\n",
       "      <th>patient_deiden_id</th>\n",
       "      <th>vitals_datetime</th>\n",
       "      <th>temp_source</th>\n",
       "      <th>temp_source_value</th>\n",
       "      <th>temp_source_unit</th>\n",
       "      <th>clean_core_body_temp_celsius</th>\n",
       "    </tr>\n",
       "  </thead>\n",
       "  <tbody>\n",
       "    <tr>\n",
       "      <th>1</th>\n",
       "      <td>108386</td>\n",
       "      <td>10/16/2014 3:12</td>\n",
       "      <td>Oral</td>\n",
       "      <td>97.4</td>\n",
       "      <td>Farenheit</td>\n",
       "      <td>36.8333</td>\n",
       "    </tr>\n",
       "    <tr>\n",
       "      <th>5</th>\n",
       "      <td>108386</td>\n",
       "      <td>10/16/2014 17:30</td>\n",
       "      <td>Oral</td>\n",
       "      <td>97.5</td>\n",
       "      <td>Farenheit</td>\n",
       "      <td>36.8889</td>\n",
       "    </tr>\n",
       "    <tr>\n",
       "      <th>6</th>\n",
       "      <td>108386</td>\n",
       "      <td>10/17/2014 1:14</td>\n",
       "      <td>Oral</td>\n",
       "      <td>97.5</td>\n",
       "      <td>Farenheit</td>\n",
       "      <td>36.8889</td>\n",
       "    </tr>\n",
       "    <tr>\n",
       "      <th>7</th>\n",
       "      <td>108386</td>\n",
       "      <td>10/17/2014 7:06</td>\n",
       "      <td>Oral</td>\n",
       "      <td>97.5</td>\n",
       "      <td>Farenheit</td>\n",
       "      <td>36.8889</td>\n",
       "    </tr>\n",
       "    <tr>\n",
       "      <th>9</th>\n",
       "      <td>108386</td>\n",
       "      <td>10/17/2014 15:47</td>\n",
       "      <td>Oral</td>\n",
       "      <td>97.5</td>\n",
       "      <td>Farenheit</td>\n",
       "      <td>36.8889</td>\n",
       "    </tr>\n",
       "  </tbody>\n",
       "</table>\n",
       "</div>"
      ],
      "text/plain": [
       "   patient_deiden_id   vitals_datetime temp_source  temp_source_value  \\\n",
       "1             108386   10/16/2014 3:12        Oral               97.4   \n",
       "5             108386  10/16/2014 17:30        Oral               97.5   \n",
       "6             108386   10/17/2014 1:14        Oral               97.5   \n",
       "7             108386   10/17/2014 7:06        Oral               97.5   \n",
       "9             108386  10/17/2014 15:47        Oral               97.5   \n",
       "\n",
       "  temp_source_unit  clean_core_body_temp_celsius  \n",
       "1        Farenheit                       36.8333  \n",
       "5        Farenheit                       36.8889  \n",
       "6        Farenheit                       36.8889  \n",
       "7        Farenheit                       36.8889  \n",
       "9        Farenheit                       36.8889  "
      ]
     },
     "execution_count": 64,
     "metadata": {},
     "output_type": "execute_result"
    }
   ],
   "source": [
    "# let's find patients with clean body temperature < 37 celsius\n",
    "patient_temperature_less_than_37 = temperature[temperature['clean_core_body_temp_celsius'] < 37]\n",
    "patient_temperature_less_than_37.head()"
   ]
  },
  {
   "cell_type": "markdown",
   "id": "08e7039a",
   "metadata": {},
   "source": [
    "Multiple boolean masks can be applied by using operator '|' (or), '&' (and). "
   ]
  },
  {
   "cell_type": "code",
   "execution_count": 65,
   "id": "82d77d5c",
   "metadata": {},
   "outputs": [
    {
     "data": {
      "text/html": [
       "<div>\n",
       "<style scoped>\n",
       "    .dataframe tbody tr th:only-of-type {\n",
       "        vertical-align: middle;\n",
       "    }\n",
       "\n",
       "    .dataframe tbody tr th {\n",
       "        vertical-align: top;\n",
       "    }\n",
       "\n",
       "    .dataframe thead th {\n",
       "        text-align: right;\n",
       "    }\n",
       "</style>\n",
       "<table border=\"1\" class=\"dataframe\">\n",
       "  <thead>\n",
       "    <tr style=\"text-align: right;\">\n",
       "      <th></th>\n",
       "      <th>patient_deiden_id</th>\n",
       "      <th>vitals_datetime</th>\n",
       "      <th>temp_source</th>\n",
       "      <th>temp_source_value</th>\n",
       "      <th>temp_source_unit</th>\n",
       "      <th>clean_core_body_temp_celsius</th>\n",
       "    </tr>\n",
       "  </thead>\n",
       "  <tbody>\n",
       "    <tr>\n",
       "      <th>0</th>\n",
       "      <td>108386</td>\n",
       "      <td>10/15/2014 18:46</td>\n",
       "      <td>Oral</td>\n",
       "      <td>98.1</td>\n",
       "      <td>Farenheit</td>\n",
       "      <td>37.2222</td>\n",
       "    </tr>\n",
       "    <tr>\n",
       "      <th>2</th>\n",
       "      <td>108386</td>\n",
       "      <td>10/16/2014 6:31</td>\n",
       "      <td>Oral</td>\n",
       "      <td>97.9</td>\n",
       "      <td>Farenheit</td>\n",
       "      <td>37.1111</td>\n",
       "    </tr>\n",
       "    <tr>\n",
       "      <th>3</th>\n",
       "      <td>108386</td>\n",
       "      <td>10/16/2014 11:40</td>\n",
       "      <td>Oral</td>\n",
       "      <td>97.9</td>\n",
       "      <td>Farenheit</td>\n",
       "      <td>37.1111</td>\n",
       "    </tr>\n",
       "    <tr>\n",
       "      <th>4</th>\n",
       "      <td>108386</td>\n",
       "      <td>10/16/2014 16:20</td>\n",
       "      <td>Oral</td>\n",
       "      <td>97.7</td>\n",
       "      <td>Farenheit</td>\n",
       "      <td>37.0000</td>\n",
       "    </tr>\n",
       "    <tr>\n",
       "      <th>8</th>\n",
       "      <td>108386</td>\n",
       "      <td>10/17/2014 11:15</td>\n",
       "      <td>Oral</td>\n",
       "      <td>97.9</td>\n",
       "      <td>Farenheit</td>\n",
       "      <td>37.1111</td>\n",
       "    </tr>\n",
       "  </tbody>\n",
       "</table>\n",
       "</div>"
      ],
      "text/plain": [
       "   patient_deiden_id   vitals_datetime temp_source  temp_source_value  \\\n",
       "0             108386  10/15/2014 18:46        Oral               98.1   \n",
       "2             108386   10/16/2014 6:31        Oral               97.9   \n",
       "3             108386  10/16/2014 11:40        Oral               97.9   \n",
       "4             108386  10/16/2014 16:20        Oral               97.7   \n",
       "8             108386  10/17/2014 11:15        Oral               97.9   \n",
       "\n",
       "  temp_source_unit  clean_core_body_temp_celsius  \n",
       "0        Farenheit                       37.2222  \n",
       "2        Farenheit                       37.1111  \n",
       "3        Farenheit                       37.1111  \n",
       "4        Farenheit                       37.0000  \n",
       "8        Farenheit                       37.1111  "
      ]
     },
     "execution_count": 65,
     "metadata": {},
     "output_type": "execute_result"
    }
   ],
   "source": [
    "# find patients with temperature >= 37 celsius,  but < 39 celsius\n",
    "patient_temperature_37_39 = temperature[(temperature['clean_core_body_temp_celsius'] >= 37) & (temperature['clean_core_body_temp_celsius'] < 39)]\n",
    "patient_temperature_37_39.head()"
   ]
  },
  {
   "cell_type": "code",
   "execution_count": 66,
   "id": "bb4d5d1e",
   "metadata": {},
   "outputs": [
    {
     "data": {
      "text/html": [
       "<div>\n",
       "<style scoped>\n",
       "    .dataframe tbody tr th:only-of-type {\n",
       "        vertical-align: middle;\n",
       "    }\n",
       "\n",
       "    .dataframe tbody tr th {\n",
       "        vertical-align: top;\n",
       "    }\n",
       "\n",
       "    .dataframe thead th {\n",
       "        text-align: right;\n",
       "    }\n",
       "</style>\n",
       "<table border=\"1\" class=\"dataframe\">\n",
       "  <thead>\n",
       "    <tr style=\"text-align: right;\">\n",
       "      <th></th>\n",
       "      <th>patient_deiden_id</th>\n",
       "      <th>vitals_datetime</th>\n",
       "      <th>temp_source</th>\n",
       "      <th>temp_source_value</th>\n",
       "      <th>temp_source_unit</th>\n",
       "      <th>clean_core_body_temp_celsius</th>\n",
       "    </tr>\n",
       "  </thead>\n",
       "  <tbody>\n",
       "    <tr>\n",
       "      <th>13</th>\n",
       "      <td>108386</td>\n",
       "      <td>10/18/2014 12:08</td>\n",
       "      <td>NaN</td>\n",
       "      <td>93.9</td>\n",
       "      <td>Farenheit</td>\n",
       "      <td>34.8889</td>\n",
       "    </tr>\n",
       "    <tr>\n",
       "      <th>125</th>\n",
       "      <td>108395</td>\n",
       "      <td>2/5/2015 4:54</td>\n",
       "      <td>NaN</td>\n",
       "      <td>93.3</td>\n",
       "      <td>Farenheit</td>\n",
       "      <td>34.5556</td>\n",
       "    </tr>\n",
       "    <tr>\n",
       "      <th>126</th>\n",
       "      <td>108395</td>\n",
       "      <td>2/5/2015 4:55</td>\n",
       "      <td>NaN</td>\n",
       "      <td>93.6</td>\n",
       "      <td>Farenheit</td>\n",
       "      <td>34.7222</td>\n",
       "    </tr>\n",
       "    <tr>\n",
       "      <th>127</th>\n",
       "      <td>108395</td>\n",
       "      <td>2/5/2015 4:56</td>\n",
       "      <td>NaN</td>\n",
       "      <td>94.0</td>\n",
       "      <td>Farenheit</td>\n",
       "      <td>34.9444</td>\n",
       "    </tr>\n",
       "    <tr>\n",
       "      <th>212</th>\n",
       "      <td>108428</td>\n",
       "      <td>3/4/2013 9:20</td>\n",
       "      <td>NaN</td>\n",
       "      <td>102.7</td>\n",
       "      <td>Farenheit</td>\n",
       "      <td>39.2778</td>\n",
       "    </tr>\n",
       "  </tbody>\n",
       "</table>\n",
       "</div>"
      ],
      "text/plain": [
       "     patient_deiden_id   vitals_datetime temp_source  temp_source_value  \\\n",
       "13              108386  10/18/2014 12:08         NaN               93.9   \n",
       "125             108395     2/5/2015 4:54         NaN               93.3   \n",
       "126             108395     2/5/2015 4:55         NaN               93.6   \n",
       "127             108395     2/5/2015 4:56         NaN               94.0   \n",
       "212             108428     3/4/2013 9:20         NaN              102.7   \n",
       "\n",
       "    temp_source_unit  clean_core_body_temp_celsius  \n",
       "13         Farenheit                       34.8889  \n",
       "125        Farenheit                       34.5556  \n",
       "126        Farenheit                       34.7222  \n",
       "127        Farenheit                       34.9444  \n",
       "212        Farenheit                       39.2778  "
      ]
     },
     "execution_count": 66,
     "metadata": {},
     "output_type": "execute_result"
    }
   ],
   "source": [
    "# find patients with temperature < 35 celsius or temperature > 39\n",
    "patient_temperature_less_35_greater_39 = temperature[(temperature['clean_core_body_temp_celsius'] < 35) | (temperature['clean_core_body_temp_celsius'] > 39)]\n",
    "patient_temperature_less_35_greater_39.head()"
   ]
  },
  {
   "cell_type": "markdown",
   "id": "69aec028",
   "metadata": {},
   "source": [
    "## 6.10 Use the Pandas library to do statistics on tabular data\n",
    "\n",
    "Pandas has a lot of built in functionality in terms of statistics and visualization. Many of these have been highly optimized and run very quickly. \n",
    "\n",
    "`matplotlib` is another common visualization library that we will explore some too."
   ]
  },
  {
   "cell_type": "code",
   "execution_count": 88,
   "id": "d9d133e5",
   "metadata": {},
   "outputs": [],
   "source": [
    "import pandas as pd\n",
    "import matplotlib.pyplot as plt\n",
    "%matplotlib inline\n",
    "# Used in Jupyter to make graphs display in notebooks."
   ]
  },
  {
   "cell_type": "markdown",
   "id": "12699139",
   "metadata": {},
   "source": [
    "### 6.10.1 Explore dataframe `.shape`, `.count()`, `.sum()`, `.describe()`\n",
    "\n",
    "As noted, there are a lot of methods that can be used with dataframes. Let's explore some here."
   ]
  },
  {
   "cell_type": "code",
   "execution_count": 67,
   "id": "aef7586b",
   "metadata": {},
   "outputs": [
    {
     "data": {
      "text/plain": [
       "(2000, 6)"
      ]
     },
     "execution_count": 67,
     "metadata": {},
     "output_type": "execute_result"
    }
   ],
   "source": [
    "temperature.shape # Note .shape does not have (), shape is an attribute"
   ]
  },
  {
   "cell_type": "code",
   "execution_count": 68,
   "id": "82303d74",
   "metadata": {},
   "outputs": [
    {
     "data": {
      "text/plain": [
       "2000"
      ]
     },
     "execution_count": 68,
     "metadata": {},
     "output_type": "execute_result"
    }
   ],
   "source": [
    "temperature['clean_core_body_temp_celsius'].count()"
   ]
  },
  {
   "cell_type": "code",
   "execution_count": 69,
   "id": "cef4431b",
   "metadata": {},
   "outputs": [
    {
     "data": {
      "text/plain": [
       "74111.4394"
      ]
     },
     "execution_count": 69,
     "metadata": {},
     "output_type": "execute_result"
    }
   ],
   "source": [
    "temperature['clean_core_body_temp_celsius'].sum()"
   ]
  },
  {
   "cell_type": "code",
   "execution_count": 70,
   "id": "488a7989",
   "metadata": {},
   "outputs": [
    {
     "data": {
      "text/plain": [
       "37.055719700000076"
      ]
     },
     "execution_count": 70,
     "metadata": {},
     "output_type": "execute_result"
    }
   ],
   "source": [
    "temperature['clean_core_body_temp_celsius'].mean()"
   ]
  },
  {
   "cell_type": "markdown",
   "id": "965bd253",
   "metadata": {},
   "source": [
    "There are also `.max()`, `.min()`, `.std()`, `.median()` and others, but `.describe()` shows lots of information about data distributions:"
   ]
  },
  {
   "cell_type": "code",
   "execution_count": 71,
   "id": "354667ee",
   "metadata": {},
   "outputs": [
    {
     "data": {
      "text/plain": [
       "count    2000.000000\n",
       "mean       37.055720\n",
       "std         0.753823\n",
       "min        32.944400\n",
       "25%        36.500000\n",
       "50%        36.944400\n",
       "75%        37.555600\n",
       "max        39.611100\n",
       "Name: clean_core_body_temp_celsius, dtype: float64"
      ]
     },
     "execution_count": 71,
     "metadata": {},
     "output_type": "execute_result"
    }
   ],
   "source": [
    "temperature['clean_core_body_temp_celsius'].describe()"
   ]
  },
  {
   "cell_type": "markdown",
   "id": "3e7fd4f2",
   "metadata": {},
   "source": [
    "## 6.10.2 Explore dataframe groupby()\n",
    "\n",
    "Pandas groupby() operation involves some combination of splitting the object, applying a function, and combining the results. This can be used to group large amounts of data and compute operations on these groups.\n",
    "\n",
    "For example, we want to see for each patient, what is their minimum temperature and maximum temperature? We can group the dataframe based on the patient identify, patient_deiden_id, and apply the functions we have explored eg., .min(), .max()."
   ]
  },
  {
   "cell_type": "code",
   "execution_count": 79,
   "id": "88631fe7",
   "metadata": {},
   "outputs": [
    {
     "data": {
      "text/html": [
       "<div>\n",
       "<style scoped>\n",
       "    .dataframe tbody tr th:only-of-type {\n",
       "        vertical-align: middle;\n",
       "    }\n",
       "\n",
       "    .dataframe tbody tr th {\n",
       "        vertical-align: top;\n",
       "    }\n",
       "\n",
       "    .dataframe thead th {\n",
       "        text-align: right;\n",
       "    }\n",
       "</style>\n",
       "<table border=\"1\" class=\"dataframe\">\n",
       "  <thead>\n",
       "    <tr style=\"text-align: right;\">\n",
       "      <th></th>\n",
       "      <th>patient_deiden_id</th>\n",
       "      <th>clean_core_body_temp_celsius</th>\n",
       "    </tr>\n",
       "  </thead>\n",
       "  <tbody>\n",
       "    <tr>\n",
       "      <th>0</th>\n",
       "      <td>108386</td>\n",
       "      <td>34.8889</td>\n",
       "    </tr>\n",
       "    <tr>\n",
       "      <th>1</th>\n",
       "      <td>108395</td>\n",
       "      <td>34.5556</td>\n",
       "    </tr>\n",
       "    <tr>\n",
       "      <th>2</th>\n",
       "      <td>108428</td>\n",
       "      <td>36.7778</td>\n",
       "    </tr>\n",
       "    <tr>\n",
       "      <th>3</th>\n",
       "      <td>108431</td>\n",
       "      <td>36.3333</td>\n",
       "    </tr>\n",
       "    <tr>\n",
       "      <th>4</th>\n",
       "      <td>108442</td>\n",
       "      <td>37.3333</td>\n",
       "    </tr>\n",
       "  </tbody>\n",
       "</table>\n",
       "</div>"
      ],
      "text/plain": [
       "   patient_deiden_id  clean_core_body_temp_celsius\n",
       "0             108386                       34.8889\n",
       "1             108395                       34.5556\n",
       "2             108428                       36.7778\n",
       "3             108431                       36.3333\n",
       "4             108442                       37.3333"
      ]
     },
     "execution_count": 79,
     "metadata": {},
     "output_type": "execute_result"
    }
   ],
   "source": [
    "# groupby patient_deiden_id, find the minimum temperature for each patient\n",
    "temp_min = temperature.groupby(['patient_deiden_id'])['clean_core_body_temp_celsius'].min().reset_index()\n",
    "temp_min.head()"
   ]
  },
  {
   "cell_type": "code",
   "execution_count": 80,
   "id": "e13ac41a",
   "metadata": {},
   "outputs": [
    {
     "data": {
      "text/html": [
       "<div>\n",
       "<style scoped>\n",
       "    .dataframe tbody tr th:only-of-type {\n",
       "        vertical-align: middle;\n",
       "    }\n",
       "\n",
       "    .dataframe tbody tr th {\n",
       "        vertical-align: top;\n",
       "    }\n",
       "\n",
       "    .dataframe thead th {\n",
       "        text-align: right;\n",
       "    }\n",
       "</style>\n",
       "<table border=\"1\" class=\"dataframe\">\n",
       "  <thead>\n",
       "    <tr style=\"text-align: right;\">\n",
       "      <th></th>\n",
       "      <th>patient_deiden_id</th>\n",
       "      <th>clean_core_body_temp_celsius</th>\n",
       "    </tr>\n",
       "  </thead>\n",
       "  <tbody>\n",
       "    <tr>\n",
       "      <th>0</th>\n",
       "      <td>108386</td>\n",
       "      <td>37.5000</td>\n",
       "    </tr>\n",
       "    <tr>\n",
       "      <th>1</th>\n",
       "      <td>108395</td>\n",
       "      <td>38.2222</td>\n",
       "    </tr>\n",
       "    <tr>\n",
       "      <th>2</th>\n",
       "      <td>108428</td>\n",
       "      <td>39.6111</td>\n",
       "    </tr>\n",
       "    <tr>\n",
       "      <th>3</th>\n",
       "      <td>108431</td>\n",
       "      <td>37.7778</td>\n",
       "    </tr>\n",
       "    <tr>\n",
       "      <th>4</th>\n",
       "      <td>108442</td>\n",
       "      <td>37.3333</td>\n",
       "    </tr>\n",
       "  </tbody>\n",
       "</table>\n",
       "</div>"
      ],
      "text/plain": [
       "   patient_deiden_id  clean_core_body_temp_celsius\n",
       "0             108386                       37.5000\n",
       "1             108395                       38.2222\n",
       "2             108428                       39.6111\n",
       "3             108431                       37.7778\n",
       "4             108442                       37.3333"
      ]
     },
     "execution_count": 80,
     "metadata": {},
     "output_type": "execute_result"
    }
   ],
   "source": [
    "# groupby patient_deiden_id, find the maximum temperature for each patient\n",
    "temp_max = temperature.groupby(['patient_deiden_id'])['clean_core_body_temp_celsius'].max().reset_index()\n",
    "temp_max.head()"
   ]
  },
  {
   "cell_type": "markdown",
   "id": "fba26af6",
   "metadata": {},
   "source": [
    "We can even use aggregate() function to get these statistics at the same time. The input of aggregate fucntion is a dictionary representing with {key : value}. The key here is the column name that you want to apply statistic functions. The value here is a list of function names including 'min', 'max', 'mean', 'sum'. "
   ]
  },
  {
   "cell_type": "code",
   "execution_count": 81,
   "id": "adcd8577",
   "metadata": {},
   "outputs": [
    {
     "data": {
      "text/html": [
       "<div>\n",
       "<style scoped>\n",
       "    .dataframe tbody tr th:only-of-type {\n",
       "        vertical-align: middle;\n",
       "    }\n",
       "\n",
       "    .dataframe tbody tr th {\n",
       "        vertical-align: top;\n",
       "    }\n",
       "\n",
       "    .dataframe thead tr th {\n",
       "        text-align: left;\n",
       "    }\n",
       "\n",
       "    .dataframe thead tr:last-of-type th {\n",
       "        text-align: right;\n",
       "    }\n",
       "</style>\n",
       "<table border=\"1\" class=\"dataframe\">\n",
       "  <thead>\n",
       "    <tr>\n",
       "      <th></th>\n",
       "      <th colspan=\"3\" halign=\"left\">clean_core_body_temp_celsius</th>\n",
       "      <th colspan=\"2\" halign=\"left\">temp_source_value</th>\n",
       "    </tr>\n",
       "    <tr>\n",
       "      <th></th>\n",
       "      <th>min</th>\n",
       "      <th>max</th>\n",
       "      <th>mean</th>\n",
       "      <th>min</th>\n",
       "      <th>max</th>\n",
       "    </tr>\n",
       "    <tr>\n",
       "      <th>patient_deiden_id</th>\n",
       "      <th></th>\n",
       "      <th></th>\n",
       "      <th></th>\n",
       "      <th></th>\n",
       "      <th></th>\n",
       "    </tr>\n",
       "  </thead>\n",
       "  <tbody>\n",
       "    <tr>\n",
       "      <th>108386</th>\n",
       "      <td>34.8889</td>\n",
       "      <td>37.5000</td>\n",
       "      <td>36.851693</td>\n",
       "      <td>93.9</td>\n",
       "      <td>98.4</td>\n",
       "    </tr>\n",
       "    <tr>\n",
       "      <th>108395</th>\n",
       "      <td>34.5556</td>\n",
       "      <td>38.2222</td>\n",
       "      <td>36.686108</td>\n",
       "      <td>93.3</td>\n",
       "      <td>99.0</td>\n",
       "    </tr>\n",
       "    <tr>\n",
       "      <th>108428</th>\n",
       "      <td>36.7778</td>\n",
       "      <td>39.6111</td>\n",
       "      <td>37.751753</td>\n",
       "      <td>97.3</td>\n",
       "      <td>103.3</td>\n",
       "    </tr>\n",
       "    <tr>\n",
       "      <th>108431</th>\n",
       "      <td>36.3333</td>\n",
       "      <td>37.7778</td>\n",
       "      <td>36.850357</td>\n",
       "      <td>96.5</td>\n",
       "      <td>98.6</td>\n",
       "    </tr>\n",
       "    <tr>\n",
       "      <th>108442</th>\n",
       "      <td>37.3333</td>\n",
       "      <td>37.3333</td>\n",
       "      <td>37.333300</td>\n",
       "      <td>97.4</td>\n",
       "      <td>97.4</td>\n",
       "    </tr>\n",
       "  </tbody>\n",
       "</table>\n",
       "</div>"
      ],
      "text/plain": [
       "                  clean_core_body_temp_celsius                      \\\n",
       "                                           min      max       mean   \n",
       "patient_deiden_id                                                    \n",
       "108386                                 34.8889  37.5000  36.851693   \n",
       "108395                                 34.5556  38.2222  36.686108   \n",
       "108428                                 36.7778  39.6111  37.751753   \n",
       "108431                                 36.3333  37.7778  36.850357   \n",
       "108442                                 37.3333  37.3333  37.333300   \n",
       "\n",
       "                  temp_source_value         \n",
       "                                min    max  \n",
       "patient_deiden_id                           \n",
       "108386                         93.9   98.4  \n",
       "108395                         93.3   99.0  \n",
       "108428                         97.3  103.3  \n",
       "108431                         96.5   98.6  \n",
       "108442                         97.4   97.4  "
      ]
     },
     "execution_count": 81,
     "metadata": {},
     "output_type": "execute_result"
    }
   ],
   "source": [
    "temp_statistic = temperature.groupby(['patient_deiden_id']).aggregate({'clean_core_body_temp_celsius' : ['min', 'max', 'mean'],\n",
    "                                                                      'temp_source_value' : ['min', 'max']})\n",
    "temp_statistic.head()"
   ]
  },
  {
   "cell_type": "markdown",
   "id": "361e8316",
   "metadata": {},
   "source": [
    "## 6.11 Merge dataframes\n",
    "\n",
    "We have a dataframe of temperature data. We also have a dataframe of heart rate data of same patients. If we can explore the temperature and heartrate at the same time, our work will be much easier. Let us first look at the heart rate dataframe."
   ]
  },
  {
   "cell_type": "code",
   "execution_count": 84,
   "id": "0a4f5dc6",
   "metadata": {},
   "outputs": [
    {
     "data": {
      "text/html": [
       "<div>\n",
       "<style scoped>\n",
       "    .dataframe tbody tr th:only-of-type {\n",
       "        vertical-align: middle;\n",
       "    }\n",
       "\n",
       "    .dataframe tbody tr th {\n",
       "        vertical-align: top;\n",
       "    }\n",
       "\n",
       "    .dataframe thead th {\n",
       "        text-align: right;\n",
       "    }\n",
       "</style>\n",
       "<table border=\"1\" class=\"dataframe\">\n",
       "  <thead>\n",
       "    <tr style=\"text-align: right;\">\n",
       "      <th></th>\n",
       "      <th>patient_deiden_id</th>\n",
       "      <th>vitals_datetime</th>\n",
       "      <th>heart_rate</th>\n",
       "      <th>heart_rate_source</th>\n",
       "    </tr>\n",
       "  </thead>\n",
       "  <tbody>\n",
       "    <tr>\n",
       "      <th>0</th>\n",
       "      <td>108386</td>\n",
       "      <td>10/18/2014 8:50</td>\n",
       "      <td>63</td>\n",
       "      <td>NaN</td>\n",
       "    </tr>\n",
       "    <tr>\n",
       "      <th>1</th>\n",
       "      <td>108386</td>\n",
       "      <td>10/18/2014 8:50</td>\n",
       "      <td>64</td>\n",
       "      <td>NaN</td>\n",
       "    </tr>\n",
       "    <tr>\n",
       "      <th>2</th>\n",
       "      <td>108386</td>\n",
       "      <td>10/18/2014 8:51</td>\n",
       "      <td>63</td>\n",
       "      <td>NaN</td>\n",
       "    </tr>\n",
       "    <tr>\n",
       "      <th>3</th>\n",
       "      <td>108386</td>\n",
       "      <td>10/18/2014 8:51</td>\n",
       "      <td>64</td>\n",
       "      <td>NaN</td>\n",
       "    </tr>\n",
       "    <tr>\n",
       "      <th>4</th>\n",
       "      <td>108386</td>\n",
       "      <td>10/18/2014 8:52</td>\n",
       "      <td>63</td>\n",
       "      <td>NaN</td>\n",
       "    </tr>\n",
       "  </tbody>\n",
       "</table>\n",
       "</div>"
      ],
      "text/plain": [
       "   patient_deiden_id  vitals_datetime  heart_rate heart_rate_source\n",
       "0             108386  10/18/2014 8:50          63               NaN\n",
       "1             108386  10/18/2014 8:50          64               NaN\n",
       "2             108386  10/18/2014 8:51          63               NaN\n",
       "3             108386  10/18/2014 8:51          64               NaN\n",
       "4             108386  10/18/2014 8:52          63               NaN"
      ]
     },
     "execution_count": 84,
     "metadata": {},
     "output_type": "execute_result"
    }
   ],
   "source": [
    "heart_rate = pd.read_csv('data/heart_rate_sample.csv')\n",
    "heart_rate.head()"
   ]
  },
  {
   "cell_type": "markdown",
   "id": "89e7e674",
   "metadata": {},
   "source": [
    "We can use merge() function to merge two dataframe by specifying the level what to do the merge. For example, we want the \n",
    "temperature value and heart rate value measured at the same time belonging to the same person will be shown in the same row."
   ]
  },
  {
   "cell_type": "code",
   "execution_count": 85,
   "id": "9742deeb",
   "metadata": {},
   "outputs": [
    {
     "data": {
      "text/html": [
       "<div>\n",
       "<style scoped>\n",
       "    .dataframe tbody tr th:only-of-type {\n",
       "        vertical-align: middle;\n",
       "    }\n",
       "\n",
       "    .dataframe tbody tr th {\n",
       "        vertical-align: top;\n",
       "    }\n",
       "\n",
       "    .dataframe thead th {\n",
       "        text-align: right;\n",
       "    }\n",
       "</style>\n",
       "<table border=\"1\" class=\"dataframe\">\n",
       "  <thead>\n",
       "    <tr style=\"text-align: right;\">\n",
       "      <th></th>\n",
       "      <th>patient_deiden_id</th>\n",
       "      <th>vitals_datetime</th>\n",
       "      <th>temp_source</th>\n",
       "      <th>temp_source_value</th>\n",
       "      <th>temp_source_unit</th>\n",
       "      <th>clean_core_body_temp_celsius</th>\n",
       "      <th>heart_rate</th>\n",
       "      <th>heart_rate_source</th>\n",
       "    </tr>\n",
       "  </thead>\n",
       "  <tbody>\n",
       "    <tr>\n",
       "      <th>0</th>\n",
       "      <td>108431</td>\n",
       "      <td>4/8/2015 11:02</td>\n",
       "      <td>Oral</td>\n",
       "      <td>98.6</td>\n",
       "      <td>Farenheit</td>\n",
       "      <td>37.5000</td>\n",
       "      <td>71</td>\n",
       "      <td>NaN</td>\n",
       "    </tr>\n",
       "    <tr>\n",
       "      <th>1</th>\n",
       "      <td>114917</td>\n",
       "      <td>1/13/2019 12:04</td>\n",
       "      <td>NaN</td>\n",
       "      <td>96.6</td>\n",
       "      <td>Farenheit</td>\n",
       "      <td>36.3889</td>\n",
       "      <td>85</td>\n",
       "      <td>NaN</td>\n",
       "    </tr>\n",
       "    <tr>\n",
       "      <th>2</th>\n",
       "      <td>114917</td>\n",
       "      <td>1/13/2019 12:05</td>\n",
       "      <td>NaN</td>\n",
       "      <td>97.3</td>\n",
       "      <td>Farenheit</td>\n",
       "      <td>36.7778</td>\n",
       "      <td>86</td>\n",
       "      <td>NaN</td>\n",
       "    </tr>\n",
       "    <tr>\n",
       "      <th>3</th>\n",
       "      <td>114917</td>\n",
       "      <td>1/13/2019 12:06</td>\n",
       "      <td>NaN</td>\n",
       "      <td>97.4</td>\n",
       "      <td>Farenheit</td>\n",
       "      <td>36.8333</td>\n",
       "      <td>86</td>\n",
       "      <td>NaN</td>\n",
       "    </tr>\n",
       "    <tr>\n",
       "      <th>4</th>\n",
       "      <td>114917</td>\n",
       "      <td>1/13/2019 12:07</td>\n",
       "      <td>NaN</td>\n",
       "      <td>97.4</td>\n",
       "      <td>Farenheit</td>\n",
       "      <td>36.8333</td>\n",
       "      <td>87</td>\n",
       "      <td>NaN</td>\n",
       "    </tr>\n",
       "  </tbody>\n",
       "</table>\n",
       "</div>"
      ],
      "text/plain": [
       "   patient_deiden_id  vitals_datetime temp_source  temp_source_value  \\\n",
       "0             108431   4/8/2015 11:02        Oral               98.6   \n",
       "1             114917  1/13/2019 12:04         NaN               96.6   \n",
       "2             114917  1/13/2019 12:05         NaN               97.3   \n",
       "3             114917  1/13/2019 12:06         NaN               97.4   \n",
       "4             114917  1/13/2019 12:07         NaN               97.4   \n",
       "\n",
       "  temp_source_unit  clean_core_body_temp_celsius  heart_rate heart_rate_source  \n",
       "0        Farenheit                       37.5000          71               NaN  \n",
       "1        Farenheit                       36.3889          85               NaN  \n",
       "2        Farenheit                       36.7778          86               NaN  \n",
       "3        Farenheit                       36.8333          86               NaN  \n",
       "4        Farenheit                       36.8333          87               NaN  "
      ]
     },
     "execution_count": 85,
     "metadata": {},
     "output_type": "execute_result"
    }
   ],
   "source": [
    "merged_df = temperature.merge(heart_rate, on=['patient_deiden_id', 'vitals_datetime'])\n",
    "merged_df.head()"
   ]
  },
  {
   "cell_type": "markdown",
   "id": "434eaec6",
   "metadata": {},
   "source": [
    "## 6.12 Visualizing data with Pandas\n",
    "\n",
    "Pandas has a number of built in visualization functions\n",
    "\n",
    "<div style=\"padding: 10px;margin-bottom: 20px;border: thin solid #30335D;border-left-width: 10px;background-color: #fff\"><strong>Note:</strong> Matplotlib is but one Python plotting option.  If you are already familiar with ggplot and the grammar of graphics, the plotnine library is the Python equivalent of this popular R package.  Seaborn is also a great Python graphing library.</div>"
   ]
  },
  {
   "cell_type": "code",
   "execution_count": 72,
   "id": "5dc26384",
   "metadata": {},
   "outputs": [
    {
     "data": {
      "text/plain": [
       "<AxesSubplot:>"
      ]
     },
     "execution_count": 72,
     "metadata": {},
     "output_type": "execute_result"
    },
    {
     "data": {
      "image/png": "[encoded data removed]",
      "text/plain": [
       "<Figure size 432x288 with 1 Axes>"
      ]
     },
     "metadata": {
      "needs_background": "light"
     },
     "output_type": "display_data"
    }
   ],
   "source": [
    "merged_df['clean_core_body_temp_celsius'].hist()"
   ]
  },
  {
   "cell_type": "code",
   "execution_count": 86,
   "id": "d2630e97",
   "metadata": {},
   "outputs": [
    {
     "data": {
      "text/plain": [
       "<AxesSubplot:xlabel='clean_core_body_temp_celsius', ylabel='heart_rate'>"
      ]
     },
     "execution_count": 86,
     "metadata": {},
     "output_type": "execute_result"
    },
    {
     "data": {
      "image/png": "[encoded data removed]",
      "text/plain": [
       "<Figure size 432x288 with 1 Axes>"
      ]
     },
     "metadata": {
      "needs_background": "light"
     },
     "output_type": "display_data"
    }
   ],
   "source": [
    "merged_df.plot.scatter('clean_core_body_temp_celsius', 'heart_rate')"
   ]
  },
  {
   "cell_type": "code",
   "execution_count": 89,
   "id": "6e2ee696",
   "metadata": {},
   "outputs": [
    {
     "data": {
      "text/plain": [
       "Text(0, 0.5, 'Heart rate (in bpm)')"
      ]
     },
     "execution_count": 89,
     "metadata": {},
     "output_type": "execute_result"
    },
    {
     "data": {
      "image/png": "[encoded data removed]",
      "text/plain": [
       "<Figure size 432x288 with 1 Axes>"
      ]
     },
     "metadata": {
      "needs_background": "light"
     },
     "output_type": "display_data"
    }
   ],
   "source": [
    "# We can also modify the output using matplotlib options\n",
    "merged_df.plot.scatter('clean_core_body_temp_celsius', 'heart_rate', s=150, c='orange')\n",
    "\n",
    "plt.grid(True)\n",
    "plt.title('Temperature vs. Heart rate scatter plot', fontsize=15)\n",
    "plt.xlabel('Temperature (in celsius)', fontsize=10)\n",
    "plt.ylabel('Heart rate (in bpm)', fontsize=10)"
   ]
  },
  {
   "cell_type": "markdown",
   "id": "7ea2856c",
   "metadata": {},
   "source": [
    "### 6.12.1 Saving plots\n",
    "\n",
    "We may want to save the output of a plot. This can be done using the `plt.savefig()` function. By default, the format will be determined from the filename extension you provide."
   ]
  },
  {
   "cell_type": "code",
   "execution_count": 90,
   "id": "4de2a3c4",
   "metadata": {},
   "outputs": [
    {
     "data": {
      "text/plain": [
       "<Figure size 432x288 with 0 Axes>"
      ]
     },
     "metadata": {},
     "output_type": "display_data"
    }
   ],
   "source": [
    "plt.savefig('plot.pdf')"
   ]
  },
  {
   "cell_type": "markdown",
   "id": "0846c5a1",
   "metadata": {},
   "source": [
    "## 6.13 Use `DataFrame.info` to find out more about a dataframe"
   ]
  },
  {
   "cell_type": "code",
   "execution_count": 91,
   "id": "f1cafc89",
   "metadata": {},
   "outputs": [
    {
     "name": "stdout",
     "output_type": "stream",
     "text": [
      "<class 'pandas.core.frame.DataFrame'>\n",
      "RangeIndex: 2000 entries, 0 to 1999\n",
      "Data columns (total 6 columns):\n",
      " #   Column                        Non-Null Count  Dtype  \n",
      "---  ------                        --------------  -----  \n",
      " 0   patient_deiden_id             2000 non-null   int64  \n",
      " 1   vitals_datetime               2000 non-null   object \n",
      " 2   temp_source                   392 non-null    object \n",
      " 3   temp_source_value             2000 non-null   float64\n",
      " 4   temp_source_unit              2000 non-null   object \n",
      " 5   clean_core_body_temp_celsius  2000 non-null   float64\n",
      "dtypes: float64(2), int64(1), object(3)\n",
      "memory usage: 93.9+ KB\n"
     ]
    }
   ],
   "source": [
    "temperature.info()"
   ]
  },
  {
   "cell_type": "markdown",
   "id": "1a679b9c",
   "metadata": {},
   "source": [
    "## 6.14 The `DataFrame.columns` variable stores information about the dataframe's columns\n",
    "\n",
    "* Note that this is an attribute, *not* a method.\n",
    "    * Like `math.pi`.\n",
    "    * So do not use `()` to try to call it.\n",
    "* Called a *member variable*, or just *member*."
   ]
  },
  {
   "cell_type": "code",
   "execution_count": 92,
   "id": "04a2a783",
   "metadata": {},
   "outputs": [
    {
     "data": {
      "text/plain": [
       "Index(['patient_deiden_id', 'vitals_datetime', 'temp_source',\n",
       "       'temp_source_value', 'temp_source_unit',\n",
       "       'clean_core_body_temp_celsius'],\n",
       "      dtype='object')"
      ]
     },
     "execution_count": 92,
     "metadata": {},
     "output_type": "execute_result"
    }
   ],
   "source": [
    "temperature.columns"
   ]
  },
  {
   "cell_type": "markdown",
   "id": "b6c0d990",
   "metadata": {},
   "source": [
    "## 6.15 Use `DataFrame.T` to transpose a dataframe\n",
    "\n",
    "* Sometimes we want to treat columns as rows and vice versa.\n",
    "* Transpose (written `.T`) doesn't copy the data, just changes the program's view of it.\n",
    "* Like `columns`, it is a member variable."
   ]
  },
  {
   "cell_type": "code",
   "execution_count": 93,
   "id": "fd6bf454",
   "metadata": {},
   "outputs": [
    {
     "data": {
      "text/html": [
       "<div>\n",
       "<style scoped>\n",
       "    .dataframe tbody tr th:only-of-type {\n",
       "        vertical-align: middle;\n",
       "    }\n",
       "\n",
       "    .dataframe tbody tr th {\n",
       "        vertical-align: top;\n",
       "    }\n",
       "\n",
       "    .dataframe thead th {\n",
       "        text-align: right;\n",
       "    }\n",
       "</style>\n",
       "<table border=\"1\" class=\"dataframe\">\n",
       "  <thead>\n",
       "    <tr style=\"text-align: right;\">\n",
       "      <th></th>\n",
       "      <th>0</th>\n",
       "      <th>1</th>\n",
       "      <th>2</th>\n",
       "      <th>3</th>\n",
       "      <th>4</th>\n",
       "      <th>5</th>\n",
       "      <th>6</th>\n",
       "      <th>7</th>\n",
       "      <th>8</th>\n",
       "      <th>9</th>\n",
       "      <th>...</th>\n",
       "      <th>1990</th>\n",
       "      <th>1991</th>\n",
       "      <th>1992</th>\n",
       "      <th>1993</th>\n",
       "      <th>1994</th>\n",
       "      <th>1995</th>\n",
       "      <th>1996</th>\n",
       "      <th>1997</th>\n",
       "      <th>1998</th>\n",
       "      <th>1999</th>\n",
       "    </tr>\n",
       "  </thead>\n",
       "  <tbody>\n",
       "    <tr>\n",
       "      <th>patient_deiden_id</th>\n",
       "      <td>108386</td>\n",
       "      <td>108386</td>\n",
       "      <td>108386</td>\n",
       "      <td>108386</td>\n",
       "      <td>108386</td>\n",
       "      <td>108386</td>\n",
       "      <td>108386</td>\n",
       "      <td>108386</td>\n",
       "      <td>108386</td>\n",
       "      <td>108386</td>\n",
       "      <td>...</td>\n",
       "      <td>114958</td>\n",
       "      <td>114958</td>\n",
       "      <td>114960</td>\n",
       "      <td>114960</td>\n",
       "      <td>114960</td>\n",
       "      <td>114960</td>\n",
       "      <td>114960</td>\n",
       "      <td>114960</td>\n",
       "      <td>114960</td>\n",
       "      <td>114960</td>\n",
       "    </tr>\n",
       "    <tr>\n",
       "      <th>vitals_datetime</th>\n",
       "      <td>10/15/2014 18:46</td>\n",
       "      <td>10/16/2014 3:12</td>\n",
       "      <td>10/16/2014 6:31</td>\n",
       "      <td>10/16/2014 11:40</td>\n",
       "      <td>10/16/2014 16:20</td>\n",
       "      <td>10/16/2014 17:30</td>\n",
       "      <td>10/17/2014 1:14</td>\n",
       "      <td>10/17/2014 7:06</td>\n",
       "      <td>10/17/2014 11:15</td>\n",
       "      <td>10/17/2014 15:47</td>\n",
       "      <td>...</td>\n",
       "      <td>5/26/2017 14:33</td>\n",
       "      <td>5/26/2017 15:17</td>\n",
       "      <td>5/15/2017 7:15</td>\n",
       "      <td>5/15/2017 10:13</td>\n",
       "      <td>5/15/2017 13:12</td>\n",
       "      <td>5/15/2017 15:00</td>\n",
       "      <td>5/15/2017 20:02</td>\n",
       "      <td>5/16/2017 0:35</td>\n",
       "      <td>5/16/2017 2:38</td>\n",
       "      <td>5/16/2017 9:24</td>\n",
       "    </tr>\n",
       "    <tr>\n",
       "      <th>temp_source</th>\n",
       "      <td>Oral</td>\n",
       "      <td>Oral</td>\n",
       "      <td>Oral</td>\n",
       "      <td>Oral</td>\n",
       "      <td>Oral</td>\n",
       "      <td>Oral</td>\n",
       "      <td>Oral</td>\n",
       "      <td>Oral</td>\n",
       "      <td>Oral</td>\n",
       "      <td>Oral</td>\n",
       "      <td>...</td>\n",
       "      <td>Axillary</td>\n",
       "      <td>NaN</td>\n",
       "      <td>Oral</td>\n",
       "      <td>Oral</td>\n",
       "      <td>Oral</td>\n",
       "      <td>Oral</td>\n",
       "      <td>Oral</td>\n",
       "      <td>Oral</td>\n",
       "      <td>Oral</td>\n",
       "      <td>Oral</td>\n",
       "    </tr>\n",
       "    <tr>\n",
       "      <th>temp_source_value</th>\n",
       "      <td>98.1</td>\n",
       "      <td>97.4</td>\n",
       "      <td>97.9</td>\n",
       "      <td>97.9</td>\n",
       "      <td>97.7</td>\n",
       "      <td>97.5</td>\n",
       "      <td>97.5</td>\n",
       "      <td>97.5</td>\n",
       "      <td>97.9</td>\n",
       "      <td>97.5</td>\n",
       "      <td>...</td>\n",
       "      <td>97.5</td>\n",
       "      <td>97.5</td>\n",
       "      <td>99.1</td>\n",
       "      <td>99.5</td>\n",
       "      <td>99.3</td>\n",
       "      <td>99.0</td>\n",
       "      <td>98.8</td>\n",
       "      <td>99.1</td>\n",
       "      <td>99.5</td>\n",
       "      <td>99.5</td>\n",
       "    </tr>\n",
       "    <tr>\n",
       "      <th>temp_source_unit</th>\n",
       "      <td>Farenheit</td>\n",
       "      <td>Farenheit</td>\n",
       "      <td>Farenheit</td>\n",
       "      <td>Farenheit</td>\n",
       "      <td>Farenheit</td>\n",
       "      <td>Farenheit</td>\n",
       "      <td>Farenheit</td>\n",
       "      <td>Farenheit</td>\n",
       "      <td>Farenheit</td>\n",
       "      <td>Farenheit</td>\n",
       "      <td>...</td>\n",
       "      <td>Farenheit</td>\n",
       "      <td>Farenheit</td>\n",
       "      <td>Farenheit</td>\n",
       "      <td>Farenheit</td>\n",
       "      <td>Farenheit</td>\n",
       "      <td>Farenheit</td>\n",
       "      <td>Farenheit</td>\n",
       "      <td>Farenheit</td>\n",
       "      <td>Farenheit</td>\n",
       "      <td>Farenheit</td>\n",
       "    </tr>\n",
       "    <tr>\n",
       "      <th>clean_core_body_temp_celsius</th>\n",
       "      <td>37.2222</td>\n",
       "      <td>36.8333</td>\n",
       "      <td>37.1111</td>\n",
       "      <td>37.1111</td>\n",
       "      <td>37.0</td>\n",
       "      <td>36.8889</td>\n",
       "      <td>36.8889</td>\n",
       "      <td>36.8889</td>\n",
       "      <td>37.1111</td>\n",
       "      <td>36.8889</td>\n",
       "      <td>...</td>\n",
       "      <td>37.3889</td>\n",
       "      <td>37.3889</td>\n",
       "      <td>37.7778</td>\n",
       "      <td>38.0</td>\n",
       "      <td>37.8889</td>\n",
       "      <td>37.7222</td>\n",
       "      <td>37.6111</td>\n",
       "      <td>37.7778</td>\n",
       "      <td>38.0</td>\n",
       "      <td>38.0</td>\n",
       "    </tr>\n",
       "  </tbody>\n",
       "</table>\n",
       "<p>6 rows × 2000 columns</p>\n",
       "</div>"
      ],
      "text/plain": [
       "                                          0                1     \\\n",
       "patient_deiden_id                       108386           108386   \n",
       "vitals_datetime               10/15/2014 18:46  10/16/2014 3:12   \n",
       "temp_source                               Oral             Oral   \n",
       "temp_source_value                         98.1             97.4   \n",
       "temp_source_unit                     Farenheit        Farenheit   \n",
       "clean_core_body_temp_celsius           37.2222          36.8333   \n",
       "\n",
       "                                         2                 3     \\\n",
       "patient_deiden_id                      108386            108386   \n",
       "vitals_datetime               10/16/2014 6:31  10/16/2014 11:40   \n",
       "temp_source                              Oral              Oral   \n",
       "temp_source_value                        97.9              97.9   \n",
       "temp_source_unit                    Farenheit         Farenheit   \n",
       "clean_core_body_temp_celsius          37.1111           37.1111   \n",
       "\n",
       "                                          4                 5     \\\n",
       "patient_deiden_id                       108386            108386   \n",
       "vitals_datetime               10/16/2014 16:20  10/16/2014 17:30   \n",
       "temp_source                               Oral              Oral   \n",
       "temp_source_value                         97.7              97.5   \n",
       "temp_source_unit                     Farenheit         Farenheit   \n",
       "clean_core_body_temp_celsius              37.0           36.8889   \n",
       "\n",
       "                                         6                7     \\\n",
       "patient_deiden_id                      108386           108386   \n",
       "vitals_datetime               10/17/2014 1:14  10/17/2014 7:06   \n",
       "temp_source                              Oral             Oral   \n",
       "temp_source_value                        97.5             97.5   \n",
       "temp_source_unit                    Farenheit        Farenheit   \n",
       "clean_core_body_temp_celsius          36.8889          36.8889   \n",
       "\n",
       "                                          8                 9     ...  \\\n",
       "patient_deiden_id                       108386            108386  ...   \n",
       "vitals_datetime               10/17/2014 11:15  10/17/2014 15:47  ...   \n",
       "temp_source                               Oral              Oral  ...   \n",
       "temp_source_value                         97.9              97.5  ...   \n",
       "temp_source_unit                     Farenheit         Farenheit  ...   \n",
       "clean_core_body_temp_celsius           37.1111           36.8889  ...   \n",
       "\n",
       "                                         1990             1991  \\\n",
       "patient_deiden_id                      114958           114958   \n",
       "vitals_datetime               5/26/2017 14:33  5/26/2017 15:17   \n",
       "temp_source                          Axillary              NaN   \n",
       "temp_source_value                        97.5             97.5   \n",
       "temp_source_unit                    Farenheit        Farenheit   \n",
       "clean_core_body_temp_celsius          37.3889          37.3889   \n",
       "\n",
       "                                        1992             1993  \\\n",
       "patient_deiden_id                     114960           114960   \n",
       "vitals_datetime               5/15/2017 7:15  5/15/2017 10:13   \n",
       "temp_source                             Oral             Oral   \n",
       "temp_source_value                       99.1             99.5   \n",
       "temp_source_unit                   Farenheit        Farenheit   \n",
       "clean_core_body_temp_celsius         37.7778             38.0   \n",
       "\n",
       "                                         1994             1995  \\\n",
       "patient_deiden_id                      114960           114960   \n",
       "vitals_datetime               5/15/2017 13:12  5/15/2017 15:00   \n",
       "temp_source                              Oral             Oral   \n",
       "temp_source_value                        99.3             99.0   \n",
       "temp_source_unit                    Farenheit        Farenheit   \n",
       "clean_core_body_temp_celsius          37.8889          37.7222   \n",
       "\n",
       "                                         1996            1997            1998  \\\n",
       "patient_deiden_id                      114960          114960          114960   \n",
       "vitals_datetime               5/15/2017 20:02  5/16/2017 0:35  5/16/2017 2:38   \n",
       "temp_source                              Oral            Oral            Oral   \n",
       "temp_source_value                        98.8            99.1            99.5   \n",
       "temp_source_unit                    Farenheit       Farenheit       Farenheit   \n",
       "clean_core_body_temp_celsius          37.6111         37.7778            38.0   \n",
       "\n",
       "                                        1999  \n",
       "patient_deiden_id                     114960  \n",
       "vitals_datetime               5/16/2017 9:24  \n",
       "temp_source                             Oral  \n",
       "temp_source_value                       99.5  \n",
       "temp_source_unit                   Farenheit  \n",
       "clean_core_body_temp_celsius            38.0  \n",
       "\n",
       "[6 rows x 2000 columns]"
      ]
     },
     "execution_count": 93,
     "metadata": {},
     "output_type": "execute_result"
    }
   ],
   "source": [
    "temperature.T"
   ]
  }
 ],
 "metadata": {
  "kernelspec": {
   "display_name": "Python 3 (ipykernel)",
   "language": "python",
   "name": "python3"
  },
  "language_info": {
   "codemirror_mode": {
    "name": "ipython",
    "version": 3
   },
   "file_extension": ".py",
   "mimetype": "text/x-python",
   "name": "python",
   "nbconvert_exporter": "python",
   "pygments_lexer": "ipython3",
   "version": "3.9.13"
  },
  "vscode": {
   "interpreter": {
    "hash": "442d0c0e479a9a390f050bd5e20dc551a2c9cfe478296c9d47f476f59d719e25"
   }
  }
 },
 "nbformat": 4,
 "nbformat_minor": 5
}
