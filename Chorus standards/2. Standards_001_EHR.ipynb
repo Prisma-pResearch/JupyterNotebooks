{
 "cells": [
  {
   "cell_type": "markdown",
   "metadata": {},
   "source": [
    "# Introduction to EHR\n",
    "\n",
    "In this module, you will learn about basics of EHR data.\n",
    "\n",
    "An electronic health record (EHR) is a digital version of a patient’s medical information. EHRs are created and maintained by healthcare providers and can be shared among providers at different healthcare setting. EHRs can contain a wide range of data, such as medical history, medication usage, allergies, vaccination history, lab results, radiology images, vital signs, payment information, and personal information such as height, weight, age, and other demographics.\n",
    "\n",
    "![Sample view of EHR data](https://blueehr.com/blogs/wp-content/uploads/2017/09/mips-reporting_patient-portal-1024x581-1.png)\n",
    "<center> The image is credit to <a href = \"https://blueehr.com/blogs/\">blueEHR </a> </center>\n",
    "\n",
    "**Here are some advantages of EHRs:**\n",
    "\n",
    "- Up-to-date, accurate information about the patient can lead to more effective diagnoses, reduced errors, and safer care.\n",
    "- Easier access to patient records.\n",
    "- Secure sharing of EHR data with patients and medical staff.\n",
    "- Reduced cost due to less paperwork, fewer duplicate tests, safer care, and better health.\n",
    "\n",
    "Right now, EHRs are widely applied around health systems. Clinicians and researchers are able to find valuable information about patients and population efficiently.\n",
    "\n",
    "\n",
    "## 1. EHRs data architecture\n",
    "\n",
    "EHR data is extracted from various clinical sources, it can be huge and messy.\n",
    "\n",
    "![EHR data](./Images/EHR.jpg)\n",
    "<center> The image is credit to <a href = \"https://doi.org/10.1016/B978-0-12-817356-5.00016-4\">Medical Big Data Mining and Processing in e-Healthcare </a> </center>\n",
    "\n",
    "To organize the data in an efficient method, health ITs usually do some pre-processing to divide the huge datasets into smaller file blocks. Each block will represent a specific area of the health records. \n",
    "\n",
    "And then, by integrating with relational [database](https://en.wikipedia.org/wiki/Database) concepts, we could treat the huge datasets as a single database schema and the smaller blocks can be converted into tables.\n",
    "For each table, there will be multiple rows to store records corresponding to various patients and encounters. \n",
    "\n",
    "With the applications of database management systems, we are able to store, query and analyze the EHR data in a structured and easier way. \n",
    "\n",
    "Below is an example : \n",
    "\n",
    "| Table Name             | Table Description                                                                                                                  | Table Category        |\n",
    "| ---------------------- | ---------------------------------------------------------------------------------------------------------------------------------- | --------------------- |\n",
    "| encounters             | Encounter records for each patient                                                                                                 | Administrative Data   |\n",
    "| diagnoses              | Diagnoses records for each encounter                                                                                                       | Clinical Data         |\n",
    "| intake_outtake         | Intake and output measurements related data                                                                                        | Clinical Data         |\n",
    "| labs                   | Laboratory results with details including lab names, specimen taken date and time, unit, and LOINC codes.                          | Clinical Data         |\n",
    "| meds                   | Medication data with details including medication name, dose, and date and time stamps.                                            | Clinical Data         |\n",
    "| procedures             | Patient procedure records: ICD9, ICD10, and CPT including the “procedure_hierarchy”                                                | Clinical Data         |\n",
    "| vitals                 | Patient vitals records: heart rate, blood pressure and etc                                                                         | Clinical Data         |\n",
    "| internal_stations      | Information regarding patient's location including enter and exit times to each location                                           | Health System Data    |\n",
    "\n",
    "Traditionally, people will use [SQL](https://en.wikipedia.org/wiki/SQL) databases to store the big data. Recently, there are more ideas such as [GraphQL](https://en.wikipedia.org/wiki/GraphQL).\n",
    "\n",
    "## 3. Looking into EHR data\n",
    "\n",
    "Now, let's look into the `sample EHR data` with `Python` and find out some interesting statistics.\n"
   ]
  },
  {
   "cell_type": "code",
   "execution_count": 1,
   "metadata": {},
   "outputs": [
    {
     "name": "stdout",
     "output_type": "stream",
     "text": [
      "The sample data contains : 497 rows. \n",
      "Here are the first 10 rows:\n"
     ]
    },
    {
     "data": {
      "text/html": [
       "<div>\n",
       "<style scoped>\n",
       "    .dataframe tbody tr th:only-of-type {\n",
       "        vertical-align: middle;\n",
       "    }\n",
       "\n",
       "    .dataframe tbody tr th {\n",
       "        vertical-align: top;\n",
       "    }\n",
       "\n",
       "    .dataframe thead th {\n",
       "        text-align: right;\n",
       "    }\n",
       "</style>\n",
       "<table border=\"1\" class=\"dataframe\">\n",
       "  <thead>\n",
       "    <tr style=\"text-align: right;\">\n",
       "      <th></th>\n",
       "      <th>sex</th>\n",
       "      <th>race</th>\n",
       "      <th>birth_date</th>\n",
       "      <th>patient_deiden_id</th>\n",
       "      <th>merged_admit_datetime</th>\n",
       "      <th>patient_type</th>\n",
       "    </tr>\n",
       "  </thead>\n",
       "  <tbody>\n",
       "    <tr>\n",
       "      <th>0</th>\n",
       "      <td>FEMALE</td>\n",
       "      <td>WHITE</td>\n",
       "      <td>1932-03-21</td>\n",
       "      <td>114927</td>\n",
       "      <td>2017-02-02 15:58:00</td>\n",
       "      <td>OBSERVATION</td>\n",
       "    </tr>\n",
       "    <tr>\n",
       "      <th>1</th>\n",
       "      <td>MALE</td>\n",
       "      <td>WHITE</td>\n",
       "      <td>1947-12-04</td>\n",
       "      <td>114920</td>\n",
       "      <td>2017-03-30 09:16:00</td>\n",
       "      <td>AMBULATORY SURGERY</td>\n",
       "    </tr>\n",
       "    <tr>\n",
       "      <th>2</th>\n",
       "      <td>MALE</td>\n",
       "      <td>WHITE</td>\n",
       "      <td>1934-05-25</td>\n",
       "      <td>114985</td>\n",
       "      <td>2017-04-05 08:44:00</td>\n",
       "      <td>INPATIENT</td>\n",
       "    </tr>\n",
       "    <tr>\n",
       "      <th>3</th>\n",
       "      <td>FEMALE</td>\n",
       "      <td>WHITE</td>\n",
       "      <td>1944-09-01</td>\n",
       "      <td>114930</td>\n",
       "      <td>2016-02-15 09:39:00</td>\n",
       "      <td>AMBULATORY SURGERY</td>\n",
       "    </tr>\n",
       "    <tr>\n",
       "      <th>4</th>\n",
       "      <td>MALE</td>\n",
       "      <td>WHITE</td>\n",
       "      <td>1945-09-25</td>\n",
       "      <td>114931</td>\n",
       "      <td>2017-01-20 12:45:00</td>\n",
       "      <td>AMBULATORY SURGERY</td>\n",
       "    </tr>\n",
       "    <tr>\n",
       "      <th>5</th>\n",
       "      <td>FEMALE</td>\n",
       "      <td>OTHER</td>\n",
       "      <td>2000-03-20</td>\n",
       "      <td>114917</td>\n",
       "      <td>2019-01-13 04:53:00</td>\n",
       "      <td>INPATIENT</td>\n",
       "    </tr>\n",
       "    <tr>\n",
       "      <th>6</th>\n",
       "      <td>FEMALE</td>\n",
       "      <td>WHITE</td>\n",
       "      <td>1978-08-30</td>\n",
       "      <td>114977</td>\n",
       "      <td>2014-11-01 04:44:00</td>\n",
       "      <td>INPATIENT</td>\n",
       "    </tr>\n",
       "    <tr>\n",
       "      <th>7</th>\n",
       "      <td>MALE</td>\n",
       "      <td>WHITE</td>\n",
       "      <td>1938-11-20</td>\n",
       "      <td>114918</td>\n",
       "      <td>2016-06-17 12:01:00</td>\n",
       "      <td>INPATIENT</td>\n",
       "    </tr>\n",
       "    <tr>\n",
       "      <th>8</th>\n",
       "      <td>MALE</td>\n",
       "      <td>WHITE</td>\n",
       "      <td>1938-11-20</td>\n",
       "      <td>114918</td>\n",
       "      <td>2016-08-12 10:02:00</td>\n",
       "      <td>AMBULATORY SURGERY</td>\n",
       "    </tr>\n",
       "    <tr>\n",
       "      <th>9</th>\n",
       "      <td>FEMALE</td>\n",
       "      <td>BLACK</td>\n",
       "      <td>1979-12-23</td>\n",
       "      <td>114978</td>\n",
       "      <td>2016-12-20 12:11:00</td>\n",
       "      <td>AMBULATORY SURGERY</td>\n",
       "    </tr>\n",
       "  </tbody>\n",
       "</table>\n",
       "</div>"
      ],
      "text/plain": [
       "      sex   race  birth_date  patient_deiden_id merged_admit_datetime  \\\n",
       "0  FEMALE  WHITE  1932-03-21             114927   2017-02-02 15:58:00   \n",
       "1    MALE  WHITE  1947-12-04             114920   2017-03-30 09:16:00   \n",
       "2    MALE  WHITE  1934-05-25             114985   2017-04-05 08:44:00   \n",
       "3  FEMALE  WHITE  1944-09-01             114930   2016-02-15 09:39:00   \n",
       "4    MALE  WHITE  1945-09-25             114931   2017-01-20 12:45:00   \n",
       "5  FEMALE  OTHER  2000-03-20             114917   2019-01-13 04:53:00   \n",
       "6  FEMALE  WHITE  1978-08-30             114977   2014-11-01 04:44:00   \n",
       "7    MALE  WHITE  1938-11-20             114918   2016-06-17 12:01:00   \n",
       "8    MALE  WHITE  1938-11-20             114918   2016-08-12 10:02:00   \n",
       "9  FEMALE  BLACK  1979-12-23             114978   2016-12-20 12:11:00   \n",
       "\n",
       "         patient_type  \n",
       "0         OBSERVATION  \n",
       "1  AMBULATORY SURGERY  \n",
       "2           INPATIENT  \n",
       "3  AMBULATORY SURGERY  \n",
       "4  AMBULATORY SURGERY  \n",
       "5           INPATIENT  \n",
       "6           INPATIENT  \n",
       "7           INPATIENT  \n",
       "8  AMBULATORY SURGERY  \n",
       "9  AMBULATORY SURGERY  "
      ]
     },
     "execution_count": 1,
     "metadata": {},
     "output_type": "execute_result"
    }
   ],
   "source": [
    "from IPython.core.interactiveshell import InteractiveShell\n",
    "InteractiveShell.ast_node_interactivity = \"all\"\n",
    "\n",
    "import pandas as pd\n",
    "\n",
    "# Step 1. Load the sample EHR data\n",
    "\n",
    "sample_ehr = pd.read_csv('./SampleDatasets/encounters_sample.csv', usecols = ['patient_deiden_id', 'sex', 'race', 'birth_date', 'merged_admit_datetime', 'patient_type'])\n",
    "\n",
    "print(f'The sample data contains : {sample_ehr.shape[0]} rows. \\nHere are the first 10 rows:')\n",
    "sample_ehr.head(10)"
   ]
  },
  {
   "cell_type": "markdown",
   "metadata": {},
   "source": [
    "From the sample EHR data, we could fetch sex, race, birth_date and other information for each patient.\n",
    "\n",
    "* `patient_deiden_id`, it's an de-identified identifier to represent each patient in the EHR data."
   ]
  },
  {
   "cell_type": "code",
   "execution_count": 2,
   "metadata": {},
   "outputs": [
    {
     "data": {
      "text/plain": [
       "WHITE              329\n",
       "BLACK              129\n",
       "OTHER               29\n",
       "ASIAN                5\n",
       "AMERICAN INDIAN      3\n",
       "UNKNOWN              1\n",
       "MULTIRACIAL          1\n",
       "Name: race, dtype: int64"
      ]
     },
     "execution_count": 2,
     "metadata": {},
     "output_type": "execute_result"
    }
   ],
   "source": [
    "# Get the distribution of unique races from sample patients\n",
    "_unique_races = sample_ehr['race'].value_counts()\n",
    "_unique_races\n"
   ]
  },
  {
   "cell_type": "markdown",
   "metadata": {},
   "source": [
    "By checking the distribution, the percentage of last couple of race types is quite low, which we could merge them into 'OTHER'. "
   ]
  },
  {
   "cell_type": "code",
   "execution_count": 3,
   "metadata": {},
   "outputs": [
    {
     "data": {
      "text/plain": [
       "WHITE    329\n",
       "BLACK    129\n",
       "OTHER     39\n",
       "Name: race, dtype: int64"
      ]
     },
     "execution_count": 3,
     "metadata": {},
     "output_type": "execute_result"
    }
   ],
   "source": [
    "sample_ehr['race'] = sample_ehr['race'].apply(lambda x: x if x in ['WHITE', 'BLACK', 'OTHER'] else 'OTHER')\n",
    "_unique_races = sample_ehr['race'].value_counts()\n",
    "_unique_races"
   ]
  },
  {
   "cell_type": "code",
   "execution_count": 4,
   "metadata": {},
   "outputs": [
    {
     "name": "stdout",
     "output_type": "stream",
     "text": [
      "The update sample data with age column : \n"
     ]
    },
    {
     "data": {
      "text/html": [
       "<div>\n",
       "<style scoped>\n",
       "    .dataframe tbody tr th:only-of-type {\n",
       "        vertical-align: middle;\n",
       "    }\n",
       "\n",
       "    .dataframe tbody tr th {\n",
       "        vertical-align: top;\n",
       "    }\n",
       "\n",
       "    .dataframe thead th {\n",
       "        text-align: right;\n",
       "    }\n",
       "</style>\n",
       "<table border=\"1\" class=\"dataframe\">\n",
       "  <thead>\n",
       "    <tr style=\"text-align: right;\">\n",
       "      <th></th>\n",
       "      <th>sex</th>\n",
       "      <th>race</th>\n",
       "      <th>birth_date</th>\n",
       "      <th>patient_deiden_id</th>\n",
       "      <th>merged_admit_datetime</th>\n",
       "      <th>patient_type</th>\n",
       "      <th>admit_age</th>\n",
       "    </tr>\n",
       "  </thead>\n",
       "  <tbody>\n",
       "    <tr>\n",
       "      <th>0</th>\n",
       "      <td>FEMALE</td>\n",
       "      <td>WHITE</td>\n",
       "      <td>1932-03-21</td>\n",
       "      <td>114927</td>\n",
       "      <td>2017-02-02 15:58:00</td>\n",
       "      <td>OBSERVATION</td>\n",
       "      <td>84</td>\n",
       "    </tr>\n",
       "    <tr>\n",
       "      <th>1</th>\n",
       "      <td>MALE</td>\n",
       "      <td>WHITE</td>\n",
       "      <td>1947-12-04</td>\n",
       "      <td>114920</td>\n",
       "      <td>2017-03-30 09:16:00</td>\n",
       "      <td>AMBULATORY SURGERY</td>\n",
       "      <td>69</td>\n",
       "    </tr>\n",
       "    <tr>\n",
       "      <th>2</th>\n",
       "      <td>MALE</td>\n",
       "      <td>WHITE</td>\n",
       "      <td>1934-05-25</td>\n",
       "      <td>114985</td>\n",
       "      <td>2017-04-05 08:44:00</td>\n",
       "      <td>INPATIENT</td>\n",
       "      <td>82</td>\n",
       "    </tr>\n",
       "    <tr>\n",
       "      <th>3</th>\n",
       "      <td>FEMALE</td>\n",
       "      <td>WHITE</td>\n",
       "      <td>1944-09-01</td>\n",
       "      <td>114930</td>\n",
       "      <td>2016-02-15 09:39:00</td>\n",
       "      <td>AMBULATORY SURGERY</td>\n",
       "      <td>71</td>\n",
       "    </tr>\n",
       "    <tr>\n",
       "      <th>4</th>\n",
       "      <td>MALE</td>\n",
       "      <td>WHITE</td>\n",
       "      <td>1945-09-25</td>\n",
       "      <td>114931</td>\n",
       "      <td>2017-01-20 12:45:00</td>\n",
       "      <td>AMBULATORY SURGERY</td>\n",
       "      <td>71</td>\n",
       "    </tr>\n",
       "    <tr>\n",
       "      <th>5</th>\n",
       "      <td>FEMALE</td>\n",
       "      <td>OTHER</td>\n",
       "      <td>2000-03-20</td>\n",
       "      <td>114917</td>\n",
       "      <td>2019-01-13 04:53:00</td>\n",
       "      <td>INPATIENT</td>\n",
       "      <td>18</td>\n",
       "    </tr>\n",
       "    <tr>\n",
       "      <th>6</th>\n",
       "      <td>FEMALE</td>\n",
       "      <td>WHITE</td>\n",
       "      <td>1978-08-30</td>\n",
       "      <td>114977</td>\n",
       "      <td>2014-11-01 04:44:00</td>\n",
       "      <td>INPATIENT</td>\n",
       "      <td>36</td>\n",
       "    </tr>\n",
       "    <tr>\n",
       "      <th>7</th>\n",
       "      <td>MALE</td>\n",
       "      <td>WHITE</td>\n",
       "      <td>1938-11-20</td>\n",
       "      <td>114918</td>\n",
       "      <td>2016-06-17 12:01:00</td>\n",
       "      <td>INPATIENT</td>\n",
       "      <td>77</td>\n",
       "    </tr>\n",
       "    <tr>\n",
       "      <th>8</th>\n",
       "      <td>MALE</td>\n",
       "      <td>WHITE</td>\n",
       "      <td>1938-11-20</td>\n",
       "      <td>114918</td>\n",
       "      <td>2016-08-12 10:02:00</td>\n",
       "      <td>AMBULATORY SURGERY</td>\n",
       "      <td>77</td>\n",
       "    </tr>\n",
       "    <tr>\n",
       "      <th>9</th>\n",
       "      <td>FEMALE</td>\n",
       "      <td>BLACK</td>\n",
       "      <td>1979-12-23</td>\n",
       "      <td>114978</td>\n",
       "      <td>2016-12-20 12:11:00</td>\n",
       "      <td>AMBULATORY SURGERY</td>\n",
       "      <td>36</td>\n",
       "    </tr>\n",
       "  </tbody>\n",
       "</table>\n",
       "</div>"
      ],
      "text/plain": [
       "      sex   race  birth_date  patient_deiden_id merged_admit_datetime  \\\n",
       "0  FEMALE  WHITE  1932-03-21             114927   2017-02-02 15:58:00   \n",
       "1    MALE  WHITE  1947-12-04             114920   2017-03-30 09:16:00   \n",
       "2    MALE  WHITE  1934-05-25             114985   2017-04-05 08:44:00   \n",
       "3  FEMALE  WHITE  1944-09-01             114930   2016-02-15 09:39:00   \n",
       "4    MALE  WHITE  1945-09-25             114931   2017-01-20 12:45:00   \n",
       "5  FEMALE  OTHER  2000-03-20             114917   2019-01-13 04:53:00   \n",
       "6  FEMALE  WHITE  1978-08-30             114977   2014-11-01 04:44:00   \n",
       "7    MALE  WHITE  1938-11-20             114918   2016-06-17 12:01:00   \n",
       "8    MALE  WHITE  1938-11-20             114918   2016-08-12 10:02:00   \n",
       "9  FEMALE  BLACK  1979-12-23             114978   2016-12-20 12:11:00   \n",
       "\n",
       "         patient_type  admit_age  \n",
       "0         OBSERVATION         84  \n",
       "1  AMBULATORY SURGERY         69  \n",
       "2           INPATIENT         82  \n",
       "3  AMBULATORY SURGERY         71  \n",
       "4  AMBULATORY SURGERY         71  \n",
       "5           INPATIENT         18  \n",
       "6           INPATIENT         36  \n",
       "7           INPATIENT         77  \n",
       "8  AMBULATORY SURGERY         77  \n",
       "9  AMBULATORY SURGERY         36  "
      ]
     },
     "execution_count": 4,
     "metadata": {},
     "output_type": "execute_result"
    }
   ],
   "source": [
    "# Calculate the ages of each patient when they admited into the hospital\n",
    "\n",
    "from datetime import date, datetime\n",
    "### datetime libray is a common Python package used to process with datetime values\n",
    "\n",
    "def calculateAge(row):\n",
    "    birth_date = row['birth_date']\n",
    "    admit_datetime = row['merged_admit_datetime']\n",
    "    born = datetime.strptime(birth_date, \"%Y-%m-%d\").date()\n",
    "    admit = datetime.strptime(admit_datetime, \"%Y-%m-%d %H:%M:%S\")\n",
    "    return admit.year - born.year - ((admit.month, \n",
    "                                      admit.day) < (born.month, \n",
    "                                                    born.day))\n",
    "\n",
    "\n",
    "sample_ehr['admit_age'] = sample_ehr[['birth_date', 'merged_admit_datetime']].apply(lambda row : calculateAge(row), axis = 1)\n",
    "print('The update sample data with age column : ')\n",
    "sample_ehr.head(10)"
   ]
  },
  {
   "cell_type": "markdown",
   "metadata": {},
   "source": [
    "Now let's group the age by different levels."
   ]
  },
  {
   "cell_type": "code",
   "execution_count": 5,
   "metadata": {},
   "outputs": [
    {
     "data": {
      "text/plain": [
       "More than 50    318\n",
       "30 to 50        136\n",
       "Less than 30     43\n",
       "Name: ageLevel, dtype: int64"
      ]
     },
     "execution_count": 5,
     "metadata": {},
     "output_type": "execute_result"
    }
   ],
   "source": [
    "def groupAge(age: int):\n",
    "    if(age < 30):\n",
    "        return 'Less than 30'\n",
    "    elif(age < 50):\n",
    "        return '30 to 50'\n",
    "    else:\n",
    "        return 'More than 50'\n",
    "    \n",
    "sample_ehr['ageLevel'] = sample_ehr['admit_age'].apply(lambda x : groupAge(x))\n",
    "_unique_agelevels = sample_ehr['ageLevel'].value_counts()\n",
    "_unique_agelevels"
   ]
  },
  {
   "cell_type": "markdown",
   "metadata": {},
   "source": [
    "As you can see, right now we get the distribution of race and age levels. To visualize the distribution well, we could draw some images. "
   ]
  },
  {
   "cell_type": "code",
   "execution_count": 6,
   "metadata": {},
   "outputs": [
    {
     "data": {
      "image/png": "[encoded data removed]",
      "text/plain": [
       "<Figure size 1000x400 with 2 Axes>"
      ]
     },
     "metadata": {},
     "output_type": "display_data"
    }
   ],
   "source": [
    "from matplotlib import pyplot as plt\n",
    "import numpy as np\n",
    "\n",
    "def createExplode(data:list,):\n",
    "    explode = (0,)   # explode 1st slice\n",
    "    for i in range(len(data) - 1):\n",
    "        explode += (0.05 * i,)\n",
    "        \n",
    "    return explode\n",
    "    \n",
    "colors = ['gold', 'yellowgreen', 'lightcoral', 'lightskyblue', 'limegreen', 'orangered', 'dodgerblue']\n",
    "resourceData = [_unique_races , _unique_agelevels]\n",
    "titles = ['Distribution of race', 'Distribution of age level']\n",
    "\n",
    "fig, axes = plt.subplots(1, len(resourceData), figsize = (10,4))\n",
    "\n",
    "for i in range(len(resourceData)):\n",
    "    _temp = dict(resourceData[i])\n",
    "    data = list(_temp.values())\n",
    "    labels = list(_temp.keys())\n",
    "    _= axes[i].pie(data, explode=createExplode(data), labels=labels, colors=colors,\n",
    "        autopct='%1.1f%%', shadow=True, startangle=140, pctdistance=0.6)\n",
    "    _= axes[i].set_title(titles[i])\n",
    "    \n",
    "plt.show()\n",
    "\n"
   ]
  },
  {
   "cell_type": "markdown",
   "metadata": {},
   "source": [
    "Now it's your time to try, can you please get the distribution of `sex`and `patient type` for the sample data ? "
   ]
  },
  {
   "cell_type": "code",
   "execution_count": 7,
   "metadata": {},
   "outputs": [],
   "source": [
    "# Get the distribution of sex\n",
    "\n",
    "# Get the distribution of patient type\n"
   ]
  },
  {
   "cell_type": "markdown",
   "metadata": {},
   "source": [
    "It's interesting right ?\n",
    "Besides those statistics, there are more useful and valuable statistics containing in the EHR data. Let's move on to the next course and get more details of EHR data."
   ]
  },
  {
   "cell_type": "markdown",
   "metadata": {},
   "source": [
    "\n",
    "\n",
    "> By following the policy of privacy, all data provided with the course is de-identified. \n"
   ]
  },
  {
   "cell_type": "code",
   "execution_count": null,
   "metadata": {},
   "outputs": [],
   "source": []
  }
 ],
 "metadata": {
  "kernelspec": {
   "display_name": "Python 3 (ipykernel)",
   "language": "python",
   "name": "python3"
  },
  "language_info": {
   "codemirror_mode": {
    "name": "ipython",
    "version": 3
   },
   "file_extension": ".py",
   "mimetype": "text/x-python",
   "name": "python",
   "nbconvert_exporter": "python",
   "pygments_lexer": "ipython3",
   "version": "3.9.15"
  },
  "vscode": {
   "interpreter": {
    "hash": "442d0c0e479a9a390f050bd5e20dc551a2c9cfe478296c9d47f476f59d719e25"
   }
  }
 },
 "nbformat": 4,
 "nbformat_minor": 2
}
